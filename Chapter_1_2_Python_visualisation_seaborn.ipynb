{
  "nbformat": 4,
  "nbformat_minor": 0,
  "metadata": {
    "colab": {
      "name": "Chapter_1_2_Python_visualisation_seaborn.ipynb",
      "provenance": [],
      "collapsed_sections": [],
      "toc_visible": true,
      "include_colab_link": true
    },
    "kernelspec": {
      "name": "python3",
      "display_name": "Python 3"
    }
  },
  "cells": [
    {
      "cell_type": "markdown",
      "metadata": {
        "id": "view-in-github",
        "colab_type": "text"
      },
      "source": [
        "<a href=\"https://colab.research.google.com/github/ne-choi/study/blob/main/Chapter_1_2_Python_visualisation_seaborn.ipynb\" target=\"_parent\"><img src=\"https://colab.research.google.com/assets/colab-badge.svg\" alt=\"Open In Colab\"/></a>"
      ]
    },
    {
      "cell_type": "markdown",
      "metadata": {
        "id": "wEKO0skEPoLn"
      },
      "source": [
        "---\n",
        "title: \"Chapter_1_1_Python_visualisation_intro\"\n",
        "date: 2020-06-03T16:15:47+09:00\n",
        "tags:\n",
        "  - \"Data Visualisation\"\n",
        "  - \"Python\"\n",
        "  - \"Matplotlib\"\n",
        "categories:\n",
        "  - \"Data Visualisation\"\n",
        "  - \"Python\"\n",
        "  - \"Matplotlib\"\n",
        "menu: \n",
        "  python:\n",
        "    name: Chapter_1_1_Python_visualisation_intro\n",
        "---\n",
        "\n",
        "## 공지\n",
        "\n",
        "제 수업을 듣는 사람들이 계속적으로 실습할 수 있도록 강의 파일을 만들었습니다. 늘 도움이 되기를 바라며. 참고했던 교재 및 Reference는 꼭 확인하셔서 교재 구매 또는 관련 Reference를 확인하시기를 바랍니다. \n",
        "\n"
      ]
    },
    {
      "cell_type": "markdown",
      "metadata": {
        "id": "48llMxYNpPqg"
      },
      "source": [
        "## I. Matplotlib & Seaborn\n",
        "\n",
        "### (1) 기본 개요\n",
        "`Matplotlib`는 파이썬 표준 시각화 도구라고 불리워지며 파이썬 그래프의 기본 토대가 된다고 해도 무방하다. 객체지향 프로그래밍을 지원하므로 세세하게 꾸밀 수 있다. \n",
        "\n",
        "`Seaborn` 그래는 파이썬 시각화 도구의 고급 버전이다. `Matplotlib`에 비해 비교적 단순한 인터페이스를 제공하기 때문에 초보자도 어렵지 않게 배울 수 있다. \n",
        "\n",
        "### (2) matplotlib & Seabon 설치\n",
        "\n",
        "설치방법은 윈도우 명령 프롬프트, MacOS, Linux 터미널에서 `pip install matplotlib`입력하면 되지만, 간혹 여러 환경에 따라 달라질 수 있으니 관련 싸이트에서 확인하기를 바란다. \n",
        "- matplotlib 설치 방법: https://matplotlib.org/users/installing.html\n",
        "- seaborn 설치 방법: https://seaborn.pydata.org/installing.html\n"
      ]
    },
    {
      "cell_type": "markdown",
      "metadata": {
        "id": "5cFwkQCtpTbm"
      },
      "source": [
        "## II. 기본적인 시각화 문법\n",
        "- 시각화 문법은 아래와 같다. \n",
        "\n",
        "```python\n",
        "import seaborn as sns\n",
        "sns.name_of_graph(x, y, dataset, options)\n",
        "```\n"
      ]
    },
    {
      "cell_type": "markdown",
      "metadata": {
        "id": "GIHllTVdDwDi"
      },
      "source": [
        "- 우선 Sample 데이터를 불러와서 데이터를 확인해보자. "
      ]
    },
    {
      "cell_type": "code",
      "metadata": {
        "id": "pgauBBAIwzgY",
        "outputId": "76b4a19d-e400-473b-f12d-3c7cf83160ac",
        "colab": {
          "base_uri": "https://localhost:8080/",
          "height": 415
        }
      },
      "source": [
        ""
      ],
      "execution_count": null,
      "outputs": [
        {
          "output_type": "execute_result",
          "data": {
            "text/html": [
              "<div>\n",
              "<style scoped>\n",
              "    .dataframe tbody tr th:only-of-type {\n",
              "        vertical-align: middle;\n",
              "    }\n",
              "\n",
              "    .dataframe tbody tr th {\n",
              "        vertical-align: top;\n",
              "    }\n",
              "\n",
              "    .dataframe thead th {\n",
              "        text-align: right;\n",
              "    }\n",
              "</style>\n",
              "<table border=\"1\" class=\"dataframe\">\n",
              "  <thead>\n",
              "    <tr style=\"text-align: right;\">\n",
              "      <th></th>\n",
              "      <th>mpg</th>\n",
              "      <th>cylinders</th>\n",
              "      <th>displacement</th>\n",
              "      <th>horsepower</th>\n",
              "      <th>weight</th>\n",
              "      <th>acceleration</th>\n",
              "      <th>model_year</th>\n",
              "      <th>origin</th>\n",
              "      <th>name</th>\n",
              "    </tr>\n",
              "  </thead>\n",
              "  <tbody>\n",
              "    <tr>\n",
              "      <th>0</th>\n",
              "      <td>18.0</td>\n",
              "      <td>8</td>\n",
              "      <td>307.0</td>\n",
              "      <td>130.0</td>\n",
              "      <td>3504</td>\n",
              "      <td>12.0</td>\n",
              "      <td>70</td>\n",
              "      <td>usa</td>\n",
              "      <td>chevrolet chevelle malibu</td>\n",
              "    </tr>\n",
              "    <tr>\n",
              "      <th>1</th>\n",
              "      <td>15.0</td>\n",
              "      <td>8</td>\n",
              "      <td>350.0</td>\n",
              "      <td>165.0</td>\n",
              "      <td>3693</td>\n",
              "      <td>11.5</td>\n",
              "      <td>70</td>\n",
              "      <td>usa</td>\n",
              "      <td>buick skylark 320</td>\n",
              "    </tr>\n",
              "    <tr>\n",
              "      <th>2</th>\n",
              "      <td>18.0</td>\n",
              "      <td>8</td>\n",
              "      <td>318.0</td>\n",
              "      <td>150.0</td>\n",
              "      <td>3436</td>\n",
              "      <td>11.0</td>\n",
              "      <td>70</td>\n",
              "      <td>usa</td>\n",
              "      <td>plymouth satellite</td>\n",
              "    </tr>\n",
              "    <tr>\n",
              "      <th>3</th>\n",
              "      <td>16.0</td>\n",
              "      <td>8</td>\n",
              "      <td>304.0</td>\n",
              "      <td>150.0</td>\n",
              "      <td>3433</td>\n",
              "      <td>12.0</td>\n",
              "      <td>70</td>\n",
              "      <td>usa</td>\n",
              "      <td>amc rebel sst</td>\n",
              "    </tr>\n",
              "    <tr>\n",
              "      <th>4</th>\n",
              "      <td>17.0</td>\n",
              "      <td>8</td>\n",
              "      <td>302.0</td>\n",
              "      <td>140.0</td>\n",
              "      <td>3449</td>\n",
              "      <td>10.5</td>\n",
              "      <td>70</td>\n",
              "      <td>usa</td>\n",
              "      <td>ford torino</td>\n",
              "    </tr>\n",
              "    <tr>\n",
              "      <th>...</th>\n",
              "      <td>...</td>\n",
              "      <td>...</td>\n",
              "      <td>...</td>\n",
              "      <td>...</td>\n",
              "      <td>...</td>\n",
              "      <td>...</td>\n",
              "      <td>...</td>\n",
              "      <td>...</td>\n",
              "      <td>...</td>\n",
              "    </tr>\n",
              "    <tr>\n",
              "      <th>393</th>\n",
              "      <td>27.0</td>\n",
              "      <td>4</td>\n",
              "      <td>140.0</td>\n",
              "      <td>86.0</td>\n",
              "      <td>2790</td>\n",
              "      <td>15.6</td>\n",
              "      <td>82</td>\n",
              "      <td>usa</td>\n",
              "      <td>ford mustang gl</td>\n",
              "    </tr>\n",
              "    <tr>\n",
              "      <th>394</th>\n",
              "      <td>44.0</td>\n",
              "      <td>4</td>\n",
              "      <td>97.0</td>\n",
              "      <td>52.0</td>\n",
              "      <td>2130</td>\n",
              "      <td>24.6</td>\n",
              "      <td>82</td>\n",
              "      <td>europe</td>\n",
              "      <td>vw pickup</td>\n",
              "    </tr>\n",
              "    <tr>\n",
              "      <th>395</th>\n",
              "      <td>32.0</td>\n",
              "      <td>4</td>\n",
              "      <td>135.0</td>\n",
              "      <td>84.0</td>\n",
              "      <td>2295</td>\n",
              "      <td>11.6</td>\n",
              "      <td>82</td>\n",
              "      <td>usa</td>\n",
              "      <td>dodge rampage</td>\n",
              "    </tr>\n",
              "    <tr>\n",
              "      <th>396</th>\n",
              "      <td>28.0</td>\n",
              "      <td>4</td>\n",
              "      <td>120.0</td>\n",
              "      <td>79.0</td>\n",
              "      <td>2625</td>\n",
              "      <td>18.6</td>\n",
              "      <td>82</td>\n",
              "      <td>usa</td>\n",
              "      <td>ford ranger</td>\n",
              "    </tr>\n",
              "    <tr>\n",
              "      <th>397</th>\n",
              "      <td>31.0</td>\n",
              "      <td>4</td>\n",
              "      <td>119.0</td>\n",
              "      <td>82.0</td>\n",
              "      <td>2720</td>\n",
              "      <td>19.4</td>\n",
              "      <td>82</td>\n",
              "      <td>usa</td>\n",
              "      <td>chevy s-10</td>\n",
              "    </tr>\n",
              "  </tbody>\n",
              "</table>\n",
              "<p>398 rows × 9 columns</p>\n",
              "</div>"
            ],
            "text/plain": [
              "      mpg  cylinders  ...  origin                       name\n",
              "0    18.0          8  ...     usa  chevrolet chevelle malibu\n",
              "1    15.0          8  ...     usa          buick skylark 320\n",
              "2    18.0          8  ...     usa         plymouth satellite\n",
              "3    16.0          8  ...     usa              amc rebel sst\n",
              "4    17.0          8  ...     usa                ford torino\n",
              "..    ...        ...  ...     ...                        ...\n",
              "393  27.0          4  ...     usa            ford mustang gl\n",
              "394  44.0          4  ...  europe                  vw pickup\n",
              "395  32.0          4  ...     usa              dodge rampage\n",
              "396  28.0          4  ...     usa                ford ranger\n",
              "397  31.0          4  ...     usa                 chevy s-10\n",
              "\n",
              "[398 rows x 9 columns]"
            ]
          },
          "metadata": {
            "tags": []
          },
          "execution_count": 3
        }
      ]
    },
    {
      "cell_type": "code",
      "metadata": {
        "id": "1cu6GWx0qylj",
        "outputId": "8f2a486b-ce18-45f7-b081-9fd65ceb688a",
        "colab": {
          "base_uri": "https://localhost:8080/"
        }
      },
      "source": [
        "import seaborn as sns\n",
        "from tabulate import tabulate\n",
        "\n",
        "sns.set()\n",
        "tips = sns.load_dataset(\"tips\")\n",
        "print(tabulate(tips.head(), tablefmt=\"pipe\", headers=\"keys\")) # 쌤이 휴고에 바로 올리려고 작성한 것, 냅두자"
      ],
      "execution_count": null,
      "outputs": [
        {
          "output_type": "stream",
          "text": [
            "|    |   total_bill |   tip | sex    | smoker   | day   | time   |   size |\n",
            "|---:|-------------:|------:|:-------|:---------|:------|:-------|-------:|\n",
            "|  0 |        16.99 |  1.01 | Female | No       | Sun   | Dinner |      2 |\n",
            "|  1 |        10.34 |  1.66 | Male   | No       | Sun   | Dinner |      3 |\n",
            "|  2 |        21.01 |  3.5  | Male   | No       | Sun   | Dinner |      3 |\n",
            "|  3 |        23.68 |  3.31 | Male   | No       | Sun   | Dinner |      2 |\n",
            "|  4 |        24.59 |  3.61 | Female | No       | Sun   | Dinner |      4 |\n"
          ],
          "name": "stdout"
        }
      ]
    },
    {
      "cell_type": "markdown",
      "metadata": {
        "id": "3Q0ZooQdDzqa"
      },
      "source": [
        "- 위 데이터는 매우 간단한 테이블일 수 있지만, 다변량의 그래프를 하나의 이미지 안에서 어떤 형태로 그래프를 작성할 것인지 선택하는 것은 쉽지 않다.  "
      ]
    },
    {
      "cell_type": "code",
      "metadata": {
        "id": "Z3MfQlp9xAuE",
        "outputId": "cbf34e30-5473-4f6e-a63b-0fea52cc1ba1",
        "colab": {
          "base_uri": "https://localhost:8080/",
          "height": 415
        }
      },
      "source": [
        "# 바로 복습\n",
        "# 연습용 데이터 불러오기 = mpg data\n",
        "\n",
        "import seaborn as sns\n",
        "sns.get_dataset_names()\n",
        "\n",
        "mpg = sns.load_dataset('mpg')\n",
        "mpg"
      ],
      "execution_count": null,
      "outputs": [
        {
          "output_type": "execute_result",
          "data": {
            "text/html": [
              "<div>\n",
              "<style scoped>\n",
              "    .dataframe tbody tr th:only-of-type {\n",
              "        vertical-align: middle;\n",
              "    }\n",
              "\n",
              "    .dataframe tbody tr th {\n",
              "        vertical-align: top;\n",
              "    }\n",
              "\n",
              "    .dataframe thead th {\n",
              "        text-align: right;\n",
              "    }\n",
              "</style>\n",
              "<table border=\"1\" class=\"dataframe\">\n",
              "  <thead>\n",
              "    <tr style=\"text-align: right;\">\n",
              "      <th></th>\n",
              "      <th>mpg</th>\n",
              "      <th>cylinders</th>\n",
              "      <th>displacement</th>\n",
              "      <th>horsepower</th>\n",
              "      <th>weight</th>\n",
              "      <th>acceleration</th>\n",
              "      <th>model_year</th>\n",
              "      <th>origin</th>\n",
              "      <th>name</th>\n",
              "    </tr>\n",
              "  </thead>\n",
              "  <tbody>\n",
              "    <tr>\n",
              "      <th>0</th>\n",
              "      <td>18.0</td>\n",
              "      <td>8</td>\n",
              "      <td>307.0</td>\n",
              "      <td>130.0</td>\n",
              "      <td>3504</td>\n",
              "      <td>12.0</td>\n",
              "      <td>70</td>\n",
              "      <td>usa</td>\n",
              "      <td>chevrolet chevelle malibu</td>\n",
              "    </tr>\n",
              "    <tr>\n",
              "      <th>1</th>\n",
              "      <td>15.0</td>\n",
              "      <td>8</td>\n",
              "      <td>350.0</td>\n",
              "      <td>165.0</td>\n",
              "      <td>3693</td>\n",
              "      <td>11.5</td>\n",
              "      <td>70</td>\n",
              "      <td>usa</td>\n",
              "      <td>buick skylark 320</td>\n",
              "    </tr>\n",
              "    <tr>\n",
              "      <th>2</th>\n",
              "      <td>18.0</td>\n",
              "      <td>8</td>\n",
              "      <td>318.0</td>\n",
              "      <td>150.0</td>\n",
              "      <td>3436</td>\n",
              "      <td>11.0</td>\n",
              "      <td>70</td>\n",
              "      <td>usa</td>\n",
              "      <td>plymouth satellite</td>\n",
              "    </tr>\n",
              "    <tr>\n",
              "      <th>3</th>\n",
              "      <td>16.0</td>\n",
              "      <td>8</td>\n",
              "      <td>304.0</td>\n",
              "      <td>150.0</td>\n",
              "      <td>3433</td>\n",
              "      <td>12.0</td>\n",
              "      <td>70</td>\n",
              "      <td>usa</td>\n",
              "      <td>amc rebel sst</td>\n",
              "    </tr>\n",
              "    <tr>\n",
              "      <th>4</th>\n",
              "      <td>17.0</td>\n",
              "      <td>8</td>\n",
              "      <td>302.0</td>\n",
              "      <td>140.0</td>\n",
              "      <td>3449</td>\n",
              "      <td>10.5</td>\n",
              "      <td>70</td>\n",
              "      <td>usa</td>\n",
              "      <td>ford torino</td>\n",
              "    </tr>\n",
              "    <tr>\n",
              "      <th>...</th>\n",
              "      <td>...</td>\n",
              "      <td>...</td>\n",
              "      <td>...</td>\n",
              "      <td>...</td>\n",
              "      <td>...</td>\n",
              "      <td>...</td>\n",
              "      <td>...</td>\n",
              "      <td>...</td>\n",
              "      <td>...</td>\n",
              "    </tr>\n",
              "    <tr>\n",
              "      <th>393</th>\n",
              "      <td>27.0</td>\n",
              "      <td>4</td>\n",
              "      <td>140.0</td>\n",
              "      <td>86.0</td>\n",
              "      <td>2790</td>\n",
              "      <td>15.6</td>\n",
              "      <td>82</td>\n",
              "      <td>usa</td>\n",
              "      <td>ford mustang gl</td>\n",
              "    </tr>\n",
              "    <tr>\n",
              "      <th>394</th>\n",
              "      <td>44.0</td>\n",
              "      <td>4</td>\n",
              "      <td>97.0</td>\n",
              "      <td>52.0</td>\n",
              "      <td>2130</td>\n",
              "      <td>24.6</td>\n",
              "      <td>82</td>\n",
              "      <td>europe</td>\n",
              "      <td>vw pickup</td>\n",
              "    </tr>\n",
              "    <tr>\n",
              "      <th>395</th>\n",
              "      <td>32.0</td>\n",
              "      <td>4</td>\n",
              "      <td>135.0</td>\n",
              "      <td>84.0</td>\n",
              "      <td>2295</td>\n",
              "      <td>11.6</td>\n",
              "      <td>82</td>\n",
              "      <td>usa</td>\n",
              "      <td>dodge rampage</td>\n",
              "    </tr>\n",
              "    <tr>\n",
              "      <th>396</th>\n",
              "      <td>28.0</td>\n",
              "      <td>4</td>\n",
              "      <td>120.0</td>\n",
              "      <td>79.0</td>\n",
              "      <td>2625</td>\n",
              "      <td>18.6</td>\n",
              "      <td>82</td>\n",
              "      <td>usa</td>\n",
              "      <td>ford ranger</td>\n",
              "    </tr>\n",
              "    <tr>\n",
              "      <th>397</th>\n",
              "      <td>31.0</td>\n",
              "      <td>4</td>\n",
              "      <td>119.0</td>\n",
              "      <td>82.0</td>\n",
              "      <td>2720</td>\n",
              "      <td>19.4</td>\n",
              "      <td>82</td>\n",
              "      <td>usa</td>\n",
              "      <td>chevy s-10</td>\n",
              "    </tr>\n",
              "  </tbody>\n",
              "</table>\n",
              "<p>398 rows × 9 columns</p>\n",
              "</div>"
            ],
            "text/plain": [
              "      mpg  cylinders  ...  origin                       name\n",
              "0    18.0          8  ...     usa  chevrolet chevelle malibu\n",
              "1    15.0          8  ...     usa          buick skylark 320\n",
              "2    18.0          8  ...     usa         plymouth satellite\n",
              "3    16.0          8  ...     usa              amc rebel sst\n",
              "4    17.0          8  ...     usa                ford torino\n",
              "..    ...        ...  ...     ...                        ...\n",
              "393  27.0          4  ...     usa            ford mustang gl\n",
              "394  44.0          4  ...  europe                  vw pickup\n",
              "395  32.0          4  ...     usa              dodge rampage\n",
              "396  28.0          4  ...     usa                ford ranger\n",
              "397  31.0          4  ...     usa                 chevy s-10\n",
              "\n",
              "[398 rows x 9 columns]"
            ]
          },
          "metadata": {
            "tags": []
          },
          "execution_count": 7
        }
      ]
    },
    {
      "cell_type": "code",
      "metadata": {
        "id": "ZpxCSOPDEDWw",
        "outputId": "835f5916-b683-4c55-cced-e05ea99b9464",
        "colab": {
          "base_uri": "https://localhost:8080/",
          "height": 369
        }
      },
      "source": [
        "sns.relplot(x=\"total_bill\", y=\"tip\", col=\"time\",\n",
        "            hue=\"smoker\", style=\"smoker\", size=\"size\",\n",
        "            data=tips);"
      ],
      "execution_count": null,
      "outputs": [
        {
          "output_type": "display_data",
          "data": {
            "image/png": "[encoded data removed]",
            "text/plain": [
              "<Figure size 800.35x360 with 2 Axes>"
            ]
          },
          "metadata": {
            "tags": [],
            "needs_background": "light"
          }
        }
      ]
    },
    {
      "cell_type": "markdown",
      "metadata": {
        "id": "HIjklituEJMo"
      },
      "source": [
        "- 소스코드에 대한 설명을 간단히 하면 아래와 같다. \n",
        "  + `relplot`은 다변량의 그래프를 작성할 때 사용한다. \n",
        "  + `col` 대신 `row`를 사용해도 된다. 여기에는 `categorical(=범주형)` 자료가 온다. (만약 값이 많으면..?)\n",
        "  + `hue`는 그래프에 표현되는 색상을 의미한다.  \n",
        "  + `style`은 범주형 자료를 다르게 표현할 때 사용한다. (예: 동그라미, 별표 등) 대개 범주형 데이터를 지정한다. \n",
        "  + `size` 자료의 크기를 의미한다. \n",
        "\n",
        "- 이쯤되면 여기에서 질문을 해야 한다. 강사는 위 코드를 어떻게 다 알고 있나요? "
      ]
    },
    {
      "cell_type": "markdown",
      "metadata": {
        "id": "tyaISNpRF0Ek"
      },
      "source": [
        "## III. 프로그래밍 초보자를 위한 공식문서 사용법\n",
        "- 초보자들이 흔히 하는 실수\n",
        "  + 위 소스코드를 외워서 쓰려는 습관 (다 외울 수 있을까?)\n",
        "  + 자주 사용하면 반복적인 것은 자연스럽게 외워진다. \n",
        "- 그런데, 회사에서 또는 고객사에서 `seaborn` 대신에 `bokeh` 패키지를 사용하라고 한다면? (또 외워야 하는건가?)\n",
        "\n",
        "\n",
        "\n"
      ]
    },
    {
      "cell_type": "markdown",
      "metadata": {
        "id": "KVHTw-FJJI9G"
      },
      "source": [
        "### (1) Tips\n",
        "  - 첫째, 소스코드를 의미없이 무작정 외우지 않는다. \n",
        "  - 둘째, 본인이 사용하는 패키지의 문서는 항시 들고 다닌다. \n",
        "  - 셋째, 공부하다가 발견한 가독성 및 성능좋은 소스코드는 본인만의 개발블로그나 문서화하는 습관을 들인다. \n",
        "  - 넷째, 항상 배운 것으로 그치지 않고, 다른 데이터셋으로 한번더 적용해본다. \n",
        "  - 문제는? 공식문서는 한글을 지원하지 않는다! (But, 매우 훌륭한 번역기가 매우 많이 있다)"
      ]
    },
    {
      "cell_type": "markdown",
      "metadata": {
        "id": "gP_jICtgJGKD"
      },
      "source": [
        "### (2) 기존에 배운 학습 응용 방법 \n",
        "- 먼저 위 코드를 복사해서 적당한 위치에 붙여 넣는다. \n",
        "\n",
        "```\n",
        "sns.relplot(x=\"total_bill\", y=\"tip\", col=\"time\",\n",
        "            hue=\"smoker\", style=\"smoker\", size=\"size\",\n",
        "            data=tips);\n",
        "```"
      ]
    },
    {
      "cell_type": "code",
      "metadata": {
        "id": "mIvIfAipH6Fj",
        "outputId": "651c366f-6eb7-4c4e-f5fe-9467290f61a0",
        "colab": {
          "base_uri": "https://localhost:8080/",
          "height": 119
        }
      },
      "source": [
        "import seaborn as sns\n",
        "\n",
        "dots = sns.load_dataset(\"dots\")\n",
        "print(dots.head(5))"
      ],
      "execution_count": null,
      "outputs": [
        {
          "output_type": "stream",
          "text": [
            "  align choice  time  coherence  firing_rate\n",
            "0  dots     T1   -80        0.0    33.189967\n",
            "1  dots     T1   -80        3.2    31.691726\n",
            "2  dots     T1   -80        6.4    34.279840\n",
            "3  dots     T1   -80       12.8    32.631874\n",
            "4  dots     T1   -80       25.6    35.060487\n"
          ],
          "name": "stdout"
        }
      ]
    },
    {
      "cell_type": "code",
      "metadata": {
        "id": "_HlBsdy4IGsJ",
        "outputId": "de65790a-36ea-4b82-86a0-3569a6bdbc84",
        "colab": {
          "base_uri": "https://localhost:8080/",
          "height": 386
        }
      },
      "source": [
        "sns.relplot(x='time', \n",
        "            y = 'firing_rate', \n",
        "            col = 'choice', \n",
        "            hue = 'align',\n",
        "            kind = 'line',\n",
        "            data = dots)"
      ],
      "execution_count": null,
      "outputs": [
        {
          "output_type": "execute_result",
          "data": {
            "text/plain": [
              "<seaborn.axisgrid.FacetGrid at 0x7f424c5631d0>"
            ]
          },
          "metadata": {
            "tags": []
          },
          "execution_count": 9
        },
        {
          "output_type": "display_data",
          "data": {
            "image/png": "[encoded data removed]",
            "text/plain": [
              "<Figure size 786.6x360 with 2 Axes>"
            ]
          },
          "metadata": {
            "tags": [],
            "needs_background": "light"
          }
        }
      ]
    },
    {
      "cell_type": "markdown",
      "metadata": {
        "id": "CJoaPW0WJsl5"
      },
      "source": [
        "- 이제 여러분 차례입니다. **Happy To Code**"
      ]
    },
    {
      "cell_type": "markdown",
      "metadata": {
        "id": "fn_1XzBuHn1w"
      },
      "source": [
        "## IV. Reference\n",
        "An introduction to seaborn. Retrieved from https://seaborn.pydata.org/generated/seaborn.relplot.html#seaborn.relplot. "
      ]
    },
    {
      "cell_type": "markdown",
      "metadata": {
        "id": "fc4Imgaoc5Bh"
      },
      "source": [
        "## V. What's Next\n",
        "- 이번 시간에는 간단하게 Python에서 실행하는 `matplotlib` 시각화의 기본적인 문법에 대해 배웠습니다. \n",
        "- 다음 시간에는 `Pandas`에 대해서 배워보도록 합니다. "
      ]
    }
  ]
}