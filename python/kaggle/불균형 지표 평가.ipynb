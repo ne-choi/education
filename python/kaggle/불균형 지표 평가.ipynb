{
 "cells": [
  {
   "cell_type": "markdown",
   "metadata": {},
   "source": [
    "# 불균형 지표 평가\n",
    "* [원문: Tour of Evaluation Metrics for Imbalanced Classification\n",
    "](https://machinelearningmastery.com/tour-of-evaluation-metrics-for-imbalanced-classification/)\n",
    "\n",
    "## 1. Introduce\n",
    "분류는 평가에 사용되는 지표일 때 좋다.  \n",
    "만약 잘못된 지표로 모델을 평가한다면 잘못될 모델을 선택할 경향이 있고, 최악의 경우에는 예측 수행이 잘못된 방향으로 가게 된다.  \n",
    "\n",
    "적절한 지표를 선택하는 것은 일반적인 머신 러닝에도 적용하기 어렵지만, 특히 불균형한 분류 문제에서 어렵다. 먼저, 널리 쓰이는 대부분의 표준 지표는 클래스 분포가 균형 있다고 가정하며 일반적으로 모든 클래스가 아니기 때문이다. 그래서 모든 예측 오류가 불균형 분류에 동일하게 적용된다.  \n",
    "\n",
    "- **학습 목표**\n",
    "  - 분류를 위한 지표 선정은 어려우며, 특히 편향된 클래스 분포에서 어려움\n",
    "  - 분류 모델을 평가하는 3가지 타입: `rank`, `threshold`, and `probability`\n",
    "  - 불균형한 모델을 위한 평가 지표를 선정하기 위해 시작할 것\n",
    "\n",
    "\n",
    "- **Tutorial Overview**\n",
    "  1. 평가 지표의 과제\n",
    "  2. 분류 평가 지표를 위한 Taxonomy(분류 체계)\n",
    "  3. 평가 지표를 선택하는 방법\n",
    "\n",
    "\n",
    "## 2. Challenge of Evaluation Metrics\n",
    "평가 지표는 예측 모델의 수행을 계량화한다.  \n",
    "\n",
    "이는 전형적으로 데이터를 \n",
    "\n"
   ]
  }
 ],
 "metadata": {
  "kernelspec": {
   "display_name": "Python 3",
   "language": "python",
   "name": "python3"
  },
  "language_info": {
   "codemirror_mode": {
    "name": "ipython",
    "version": 3
   },
   "file_extension": ".py",
   "mimetype": "text/x-python",
   "name": "python",
   "nbconvert_exporter": "python",
   "pygments_lexer": "ipython3",
   "version": "3.8.3"
  }
 },
 "nbformat": 4,
 "nbformat_minor": 4
}
