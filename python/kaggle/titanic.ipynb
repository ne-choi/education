{
  "nbformat": 4,
  "nbformat_minor": 0,
  "metadata": {
    "colab": {
      "name": "titanic.ipynb",
      "provenance": [],
      "collapsed_sections": [],
      "authorship_tag": "ABX9TyN067sT37fT/PxS7NkJASI7",
      "include_colab_link": true
    },
    "kernelspec": {
      "name": "python3",
      "display_name": "Python 3"
    }
  },
  "cells": [
    {
      "cell_type": "markdown",
      "metadata": {
        "id": "view-in-github",
        "colab_type": "text"
      },
      "source": [
        "<a href=\"https://colab.research.google.com/github/ne-choi/study/blob/main/python/kaggle/titanic.ipynb\" target=\"_parent\"><img src=\"https://colab.research.google.com/assets/colab-badge.svg\" alt=\"Open In Colab\"/></a>"
      ]
    },
    {
      "cell_type": "markdown",
      "metadata": {
        "id": "xNleM3rst3yc"
      },
      "source": [
        "# **I. Practice Kaggle Data**\n",
        "\n",
        "\n",
        "1. 구글 드라이브 연동\n",
        "2. Kaggle API 설치\n",
        "3. Kaggle Token 다운로드\n",
        "4. Titanic 데이터 불러오기"
      ]
    },
    {
      "cell_type": "markdown",
      "metadata": {
        "id": "9JbcSSKZ4iyN"
      },
      "source": [
        "## 1. 구글 드라이브 연동\n",
        "Google Colab을 시작하면 항상 드라이브 연동을 해야 한다."
      ]
    },
    {
      "cell_type": "code",
      "metadata": {
        "id": "2gK1d9rB3hjO",
        "outputId": "2bb19955-7260-4134-9365-4c725199b43f",
        "colab": {
          "base_uri": "https://localhost:8080/"
        }
      },
      "source": [
        "from google.colab import drive # 패키지 불러오기 \n",
        "from os.path import join  \n",
        "\n",
        "ROOT = \"/content/drive\"     # 드라이브 기본 경로\n",
        "print(ROOT)                 # print content of ROOT (Optional)\n",
        "drive.mount(ROOT)           # 드라이브 기본 경로 Mount\n",
        "\n",
        "MY_GOOGLE_DRIVE_PATH = 'My Drive/Colab Notebooks/Python/python/practice' # 프로젝트 경로\n",
        "PROJECT_PATH = join(ROOT, MY_GOOGLE_DRIVE_PATH) # 프로젝트 경로\n",
        "print(PROJECT_PATH)"
      ],
      "execution_count": null,
      "outputs": [
        {
          "output_type": "stream",
          "text": [
            "/content/drive\n",
            "Drive already mounted at /content/drive; to attempt to forcibly remount, call drive.mount(\"/content/drive\", force_remount=True).\n",
            "/content/drive/My Drive/Colab Notebooks/Python/python/practice\n"
          ],
          "name": "stdout"
        }
      ]
    },
    {
      "cell_type": "markdown",
      "metadata": {
        "id": "_2U8483M4r8k"
      },
      "source": [
        "아래 코드 실행 시, 에러가 없다면 데이터를 불러오면 된다."
      ]
    },
    {
      "cell_type": "code",
      "metadata": {
        "id": "hw7UNUN04Dr1",
        "outputId": "add918a5-8222-453e-8797-8fd6e3e4d55b",
        "colab": {
          "base_uri": "https://localhost:8080/"
        }
      },
      "source": [
        "%cd \"{PROJECT_PATH}\""
      ],
      "execution_count": null,
      "outputs": [
        {
          "output_type": "stream",
          "text": [
            "/content/drive/My Drive/Colab Notebooks/Python/python/practice\n"
          ],
          "name": "stdout"
        }
      ]
    },
    {
      "cell_type": "markdown",
      "metadata": {
        "id": "Lvm8hQtMuleb"
      },
      "source": [
        "## 2. Kaggle API 설치\n",
        "Google Colab에서 Kaggle API를 불러오는 소스코드를 실행한다."
      ]
    },
    {
      "cell_type": "code",
      "metadata": {
        "id": "a4DZstmdtjj_",
        "outputId": "9bf47e57-96d6-4c6f-855e-987a0c70d0e5",
        "colab": {
          "base_uri": "https://localhost:8080/"
        }
      },
      "source": [
        "!pip install kaggle # Google Colab에서 설치할 때는 ! 필요"
      ],
      "execution_count": null,
      "outputs": [
        {
          "output_type": "stream",
          "text": [
            "Requirement already satisfied: kaggle in /usr/local/lib/python3.6/dist-packages (1.5.9)\n",
            "Requirement already satisfied: requests in /usr/local/lib/python3.6/dist-packages (from kaggle) (2.23.0)\n",
            "Requirement already satisfied: tqdm in /usr/local/lib/python3.6/dist-packages (from kaggle) (4.41.1)\n",
            "Requirement already satisfied: python-slugify in /usr/local/lib/python3.6/dist-packages (from kaggle) (4.0.1)\n",
            "Requirement already satisfied: urllib3 in /usr/local/lib/python3.6/dist-packages (from kaggle) (1.24.3)\n",
            "Requirement already satisfied: certifi in /usr/local/lib/python3.6/dist-packages (from kaggle) (2020.6.20)\n",
            "Requirement already satisfied: six>=1.10 in /usr/local/lib/python3.6/dist-packages (from kaggle) (1.15.0)\n",
            "Requirement already satisfied: python-dateutil in /usr/local/lib/python3.6/dist-packages (from kaggle) (2.8.1)\n",
            "Requirement already satisfied: slugify in /usr/local/lib/python3.6/dist-packages (from kaggle) (0.0.1)\n",
            "Requirement already satisfied: chardet<4,>=3.0.2 in /usr/local/lib/python3.6/dist-packages (from requests->kaggle) (3.0.4)\n",
            "Requirement already satisfied: idna<3,>=2.5 in /usr/local/lib/python3.6/dist-packages (from requests->kaggle) (2.10)\n",
            "Requirement already satisfied: text-unidecode>=1.3 in /usr/local/lib/python3.6/dist-packages (from python-slugify->kaggle) (1.3)\n"
          ],
          "name": "stdout"
        }
      ]
    },
    {
      "cell_type": "markdown",
      "metadata": {
        "id": "k0ylrjB1u7ob"
      },
      "source": [
        "## 3. Kaggle Token 다운로드\n",
        "Kaggle에서 API Token을 다운로드한다.  \n",
        "[Kaggle] - [My Account] - [API] - [Create New API Token]을 누르면 kaggle.json 파일이 다운로드 된다.  \n",
        "파일을 바탕화면에 옮긴 뒤, 아래 코드를 실행한다.  "
      ]
    },
    {
      "cell_type": "code",
      "metadata": {
        "id": "LTh7moxFtsRO",
        "outputId": "e939d541-b828-4f13-fd30-784fec7342f7",
        "colab": {
          "resources": {
            "http://localhost:8080/nbextensions/google.colab/files.js": {
              "data": "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",
              "ok": true,
              "headers": [
                [
                  "content-type",
                  "application/javascript"
                ]
              ],
              "status": 200,
              "status_text": ""
            }
          },
          "base_uri": "https://localhost:8080/",
          "height": 96
        }
      },
      "source": [
        "from google.colab import files\n",
        "uploaded = files.upload()\n",
        "for fn in uploaded.keys():\n",
        "  print('uploaded file \"{name}\" with length {length} bytes'.format(\n",
        "      name=fn, length=len(uploaded[fn])))\n",
        "  \n",
        "# kaggle.json을 아래 폴더로 옮긴 뒤, file을 사용할 수 있도록 권한을 부여한다. \n",
        "!mkdir -p ~/.kaggle/ && mv kaggle.json ~/.kaggle/ && chmod 600 ~/.kaggle/kaggle.json"
      ],
      "execution_count": null,
      "outputs": [
        {
          "output_type": "display_data",
          "data": {
            "text/html": [
              "\n",
              "     <input type=\"file\" id=\"files-6c30160a-add1-4728-b3ee-a0d4c9477dc8\" name=\"files[]\" multiple disabled\n",
              "        style=\"border:none\" />\n",
              "     <output id=\"result-6c30160a-add1-4728-b3ee-a0d4c9477dc8\">\n",
              "      Upload widget is only available when the cell has been executed in the\n",
              "      current browser session. Please rerun this cell to enable.\n",
              "      </output>\n",
              "      <script src=\"/nbextensions/google.colab/files.js\"></script> "
            ],
            "text/plain": [
              "<IPython.core.display.HTML object>"
            ]
          },
          "metadata": {
            "tags": []
          }
        },
        {
          "output_type": "stream",
          "text": [
            "Saving kaggle.json to kaggle.json\n",
            "uploaded file \"kaggle.json\" with length 62 bytes\n"
          ],
          "name": "stdout"
        }
      ]
    },
    {
      "cell_type": "markdown",
      "metadata": {
        "id": "8c63diF0wLjS"
      },
      "source": [
        "아래 코드를 실행했을 때, 에러 메시지가 없으면 json 파일이 성공적으로 업로드 되었다는 뜻이다."
      ]
    },
    {
      "cell_type": "code",
      "metadata": {
        "id": "qvQ8OTlOtvEx",
        "outputId": "46b3a3d9-cc9b-4edb-9fca-e47af0962927",
        "colab": {
          "base_uri": "https://localhost:8080/"
        }
      },
      "source": [
        "ls -1ha ~/.kaggle/kaggle.json"
      ],
      "execution_count": null,
      "outputs": [
        {
          "output_type": "stream",
          "text": [
            "/root/.kaggle/kaggle.json\n"
          ],
          "name": "stdout"
        }
      ]
    },
    {
      "cell_type": "markdown",
      "metadata": {
        "id": "Ghs_DXY0wSBQ"
      },
      "source": [
        "## 4. Kaggle 데이터 불러오기"
      ]
    },
    {
      "cell_type": "markdown",
      "metadata": {
        "id": "hpeatoFpwg-t"
      },
      "source": [
        "Kaggle competition list를 불러온다.\n",
        "\n"
      ]
    },
    {
      "cell_type": "code",
      "metadata": {
        "id": "sivJ_wiqwgis",
        "outputId": "d02c0e7e-413f-4424-f4bf-fa20bda3a0a6",
        "colab": {
          "base_uri": "https://localhost:8080/"
        }
      },
      "source": [
        "!kaggle competitions list"
      ],
      "execution_count": null,
      "outputs": [
        {
          "output_type": "stream",
          "text": [
            "Warning: Looks like you're using an outdated API Version, please consider updating (server 1.5.9 / client 1.5.4)\n",
            "ref                                            deadline             category            reward  teamCount  userHasEntered  \n",
            "---------------------------------------------  -------------------  ---------------  ---------  ---------  --------------  \n",
            "contradictory-my-dear-watson                   2030-07-01 23:59:00  Getting Started     Prizes        134           False  \n",
            "gan-getting-started                            2030-07-01 23:59:00  Getting Started     Prizes        185           False  \n",
            "tpu-getting-started                            2030-06-03 23:59:00  Getting Started  Knowledge        315           False  \n",
            "digit-recognizer                               2030-01-01 00:00:00  Getting Started  Knowledge       2356           False  \n",
            "titanic                                        2030-01-01 00:00:00  Getting Started  Knowledge      18058            True  \n",
            "house-prices-advanced-regression-techniques    2030-01-01 00:00:00  Getting Started  Knowledge       4536            True  \n",
            "connectx                                       2030-01-01 00:00:00  Getting Started  Knowledge        390           False  \n",
            "nlp-getting-started                            2030-01-01 00:00:00  Getting Started  Knowledge       1184           False  \n",
            "rock-paper-scissors                            2021-02-01 23:59:00  Playground          Prizes        152           False  \n",
            "riiid-test-answer-prediction                   2021-01-07 23:59:00  Featured          $100,000       1466           False  \n",
            "nfl-big-data-bowl-2021                         2021-01-05 23:59:00  Analytics         $100,000          0           False  \n",
            "competitive-data-science-predict-future-sales  2020-12-31 23:59:00  Playground           Kudos       9343           False  \n",
            "halite-iv-playground-edition                   2020-12-31 23:59:00  Playground       Knowledge         43           False  \n",
            "predict-volcanic-eruptions-ingv-oe             2020-12-28 23:59:00  Playground            Swag        193           False  \n",
            "hashcode-drone-delivery                        2020-12-14 23:59:00  Playground       Knowledge         79           False  \n",
            "cdp-unlocking-climate-solutions                2020-12-02 23:59:00  Analytics          $91,000          0           False  \n",
            "lish-moa                                       2020-11-30 23:59:00  Research           $30,000       3395           False  \n",
            "google-football                                2020-11-30 23:59:00  Featured            $6,000        916           False  \n",
            "conways-reverse-game-of-life-2020              2020-11-30 23:59:00  Playground            Swag        131           False  \n",
            "lyft-motion-prediction-autonomous-vehicles     2020-11-25 23:59:00  Featured           $30,000        778           False  \n"
          ],
          "name": "stdout"
        }
      ]
    },
    {
      "cell_type": "markdown",
      "metadata": {
        "id": "8-NrjNyvwv6P"
      },
      "source": [
        "코드 실행 시 나오는 대회 목록에서 원하는 대회의 데이터셋을 불러온다."
      ]
    },
    {
      "cell_type": "code",
      "metadata": {
        "id": "hixtyOkZtpva",
        "outputId": "144108dd-652f-48b6-d0f1-b470aef1dc77",
        "colab": {
          "base_uri": "https://localhost:8080/"
        }
      },
      "source": [
        "# 실습: 타이타닉 데이터 불러오기\n",
        "!kaggle competitions download -c titanic"
      ],
      "execution_count": null,
      "outputs": [
        {
          "output_type": "stream",
          "text": [
            "Warning: Looks like you're using an outdated API Version, please consider updating (server 1.5.9 / client 1.5.4)\n",
            "Downloading train.csv to /content/drive/My Drive/Colab Notebooks/Python/python/practice/data\n",
            "  0% 0.00/59.8k [00:00<?, ?B/s]\n",
            "100% 59.8k/59.8k [00:00<00:00, 8.18MB/s]\n",
            "Downloading gender_submission.csv to /content/drive/My Drive/Colab Notebooks/Python/python/practice/data\n",
            "  0% 0.00/3.18k [00:00<?, ?B/s]\n",
            "100% 3.18k/3.18k [00:00<00:00, 443kB/s]\n",
            "Downloading test.csv to /content/drive/My Drive/Colab Notebooks/Python/python/practice/data\n",
            "  0% 0.00/28.0k [00:00<?, ?B/s]\n",
            "100% 28.0k/28.0k [00:00<00:00, 3.97MB/s]\n"
          ],
          "name": "stdout"
        }
      ]
    },
    {
      "cell_type": "code",
      "metadata": {
        "id": "b0AKFinYwz1r",
        "outputId": "e975cb96-6c09-4dce-f790-95b096ae07d6",
        "colab": {
          "base_uri": "https://localhost:8080/"
        }
      },
      "source": [
        "!ls # ls: 리눅스 명령어, 경로 내 모든 데이터 파일을 보여줌"
      ],
      "execution_count": null,
      "outputs": [
        {
          "output_type": "stream",
          "text": [
            "gender_submission.csv  test.csv  train.csv\n"
          ],
          "name": "stdout"
        }
      ]
    },
    {
      "cell_type": "markdown",
      "metadata": {
        "id": "SLkX7Mqnw3L9"
      },
      "source": [
        "총 3개의 데이터가 다운로드 되었다.\n",
        "- gender_submission.csv\n",
        "- test.csv\n",
        "- train.csv"
      ]
    },
    {
      "cell_type": "markdown",
      "metadata": {
        "id": "I615jRae_A-a"
      },
      "source": [
        "# **II. Kaggle Data 실습_Titanic**\n",
        "\n",
        "1. 데이터 살펴보기\n",
        "2. Kaggle Code 필사"
      ]
    },
    {
      "cell_type": "markdown",
      "metadata": {
        "id": "72ky0S5qxDV3"
      },
      "source": [
        "## 1. 데이터 살펴보기\n",
        "아래 코드를 실행하여 EDA 필수 패키지를 설치한다."
      ]
    },
    {
      "cell_type": "code",
      "metadata": {
        "id": "Zp0u62M72_Go"
      },
      "source": [
        "import pandas as pd # 데이터 가공, 변환\n",
        "import pandas_profiling # 보고서 기능\n",
        "import numpy as np # 수치 연산&배열, 행렬\n",
        "import matplotlib as mpl # 시각화\n",
        "import matplotlib.pyplot as plt # 시각화\n",
        "from matplotlib.pyplot import figure # 시각화\n",
        "import seaborn as sns\n",
        "\n",
        "from IPython.core.display import display, HTML\n",
        "from pandas_profiling import ProfileReport"
      ],
      "execution_count": null,
      "outputs": []
    },
    {
      "cell_type": "code",
      "metadata": {
        "id": "YS5GXkQ53Cyf"
      },
      "source": [
        "%matplotlib inline\n",
        "import matplotlib.pylab as plt\n",
        "\n",
        "plt.rcParams[\"figure.figsize\"] = (14,4)\n",
        "plt.rcParams['lines.linewidth'] = 2\n",
        "plt.rcParams['lines.color'] = 'r'\n",
        "plt.rcParams['axes.grid'] = True "
      ],
      "execution_count": null,
      "outputs": []
    },
    {
      "cell_type": "markdown",
      "metadata": {
        "id": "pfVhBShh404e"
      },
      "source": [
        "(1) 데이터 수집\n",
        "- gender_submission.csv\n",
        "- test.csv\n",
        "- train.csv"
      ]
    },
    {
      "cell_type": "code",
      "metadata": {
        "id": "CDCjUtHk46xM",
        "outputId": "0d5b36f9-1288-48df-caf9-da4cc8bb5d1a",
        "colab": {
          "base_uri": "https://localhost:8080/"
        }
      },
      "source": [
        "gender = pd.read_csv('data/gender_submission.csv')\n",
        "train = pd.read_csv('data/train.csv')\n",
        "test = pd.read_csv('data/test.csv')\n",
        "print(\"data import is done\")"
      ],
      "execution_count": null,
      "outputs": [
        {
          "output_type": "stream",
          "text": [
            "data import is done\n"
          ],
          "name": "stdout"
        }
      ]
    },
    {
      "cell_type": "markdown",
      "metadata": {
        "id": "tn8vZI-56Lv_"
      },
      "source": [
        "(2) 데이터 확인\n",
        "Kaggle 데이터를 불러와서 가장 먼저 확인해야 할 것은 데이터셋의 크기다.\n",
        "- 변수의 개수\n",
        "- Numeric 변수 & Categorical 변수의 개수 등 파악  \n",
        "   cf) 보통 test 데이터의 변수 개수가 train 변수 개수보다 하나 적음"
      ]
    },
    {
      "cell_type": "code",
      "metadata": {
        "id": "R2aMJaEL6bZ9",
        "outputId": "4dfffee7-ae75-4284-8833-e55c537ac575",
        "colab": {
          "base_uri": "https://localhost:8080/"
        }
      },
      "source": [
        "gender.shape, train.shape, test.shape"
      ],
      "execution_count": null,
      "outputs": [
        {
          "output_type": "execute_result",
          "data": {
            "text/plain": [
              "((418, 2), (891, 12), (418, 11))"
            ]
          },
          "metadata": {
            "tags": []
          },
          "execution_count": 36
        }
      ]
    },
    {
      "cell_type": "code",
      "metadata": {
        "id": "UYhkiMqf6mde",
        "outputId": "8b72b84c-3ecb-4817-fa90-7d116c9654d8",
        "colab": {
          "base_uri": "https://localhost:8080/",
          "height": 427
        }
      },
      "source": [
        "# train 데이터의 상위 5개 데이터만 확인해보기\n",
        "display(train.head())"
      ],
      "execution_count": null,
      "outputs": [
        {
          "output_type": "display_data",
          "data": {
            "text/html": [
              "<div>\n",
              "<style scoped>\n",
              "    .dataframe tbody tr th:only-of-type {\n",
              "        vertical-align: middle;\n",
              "    }\n",
              "\n",
              "    .dataframe tbody tr th {\n",
              "        vertical-align: top;\n",
              "    }\n",
              "\n",
              "    .dataframe thead th {\n",
              "        text-align: right;\n",
              "    }\n",
              "</style>\n",
              "<table border=\"1\" class=\"dataframe\">\n",
              "  <thead>\n",
              "    <tr style=\"text-align: right;\">\n",
              "      <th></th>\n",
              "      <th>PassengerId</th>\n",
              "      <th>Survived</th>\n",
              "      <th>Pclass</th>\n",
              "      <th>Name</th>\n",
              "      <th>Sex</th>\n",
              "      <th>Age</th>\n",
              "      <th>SibSp</th>\n",
              "      <th>Parch</th>\n",
              "      <th>Ticket</th>\n",
              "      <th>Fare</th>\n",
              "      <th>Cabin</th>\n",
              "      <th>Embarked</th>\n",
              "    </tr>\n",
              "  </thead>\n",
              "  <tbody>\n",
              "    <tr>\n",
              "      <th>0</th>\n",
              "      <td>1</td>\n",
              "      <td>0</td>\n",
              "      <td>3</td>\n",
              "      <td>Braund, Mr. Owen Harris</td>\n",
              "      <td>male</td>\n",
              "      <td>22.0</td>\n",
              "      <td>1</td>\n",
              "      <td>0</td>\n",
              "      <td>A/5 21171</td>\n",
              "      <td>7.2500</td>\n",
              "      <td>NaN</td>\n",
              "      <td>S</td>\n",
              "    </tr>\n",
              "    <tr>\n",
              "      <th>1</th>\n",
              "      <td>2</td>\n",
              "      <td>1</td>\n",
              "      <td>1</td>\n",
              "      <td>Cumings, Mrs. John Bradley (Florence Briggs Th...</td>\n",
              "      <td>female</td>\n",
              "      <td>38.0</td>\n",
              "      <td>1</td>\n",
              "      <td>0</td>\n",
              "      <td>PC 17599</td>\n",
              "      <td>71.2833</td>\n",
              "      <td>C85</td>\n",
              "      <td>C</td>\n",
              "    </tr>\n",
              "    <tr>\n",
              "      <th>2</th>\n",
              "      <td>3</td>\n",
              "      <td>1</td>\n",
              "      <td>3</td>\n",
              "      <td>Heikkinen, Miss. Laina</td>\n",
              "      <td>female</td>\n",
              "      <td>26.0</td>\n",
              "      <td>0</td>\n",
              "      <td>0</td>\n",
              "      <td>STON/O2. 3101282</td>\n",
              "      <td>7.9250</td>\n",
              "      <td>NaN</td>\n",
              "      <td>S</td>\n",
              "    </tr>\n",
              "    <tr>\n",
              "      <th>3</th>\n",
              "      <td>4</td>\n",
              "      <td>1</td>\n",
              "      <td>1</td>\n",
              "      <td>Futrelle, Mrs. Jacques Heath (Lily May Peel)</td>\n",
              "      <td>female</td>\n",
              "      <td>35.0</td>\n",
              "      <td>1</td>\n",
              "      <td>0</td>\n",
              "      <td>113803</td>\n",
              "      <td>53.1000</td>\n",
              "      <td>C123</td>\n",
              "      <td>S</td>\n",
              "    </tr>\n",
              "    <tr>\n",
              "      <th>4</th>\n",
              "      <td>5</td>\n",
              "      <td>0</td>\n",
              "      <td>3</td>\n",
              "      <td>Allen, Mr. William Henry</td>\n",
              "      <td>male</td>\n",
              "      <td>35.0</td>\n",
              "      <td>0</td>\n",
              "      <td>0</td>\n",
              "      <td>373450</td>\n",
              "      <td>8.0500</td>\n",
              "      <td>NaN</td>\n",
              "      <td>S</td>\n",
              "    </tr>\n",
              "  </tbody>\n",
              "</table>\n",
              "</div>"
            ],
            "text/plain": [
              "   PassengerId  Survived  Pclass  ...     Fare Cabin  Embarked\n",
              "0            1         0       3  ...   7.2500   NaN         S\n",
              "1            2         1       1  ...  71.2833   C85         C\n",
              "2            3         1       3  ...   7.9250   NaN         S\n",
              "3            4         1       1  ...  53.1000  C123         S\n",
              "4            5         0       3  ...   8.0500   NaN         S\n",
              "\n",
              "[5 rows x 12 columns]"
            ]
          },
          "metadata": {
            "tags": []
          }
        }
      ]
    },
    {
      "cell_type": "markdown",
      "metadata": {
        "id": "yx8xnR5_6rz9"
      },
      "source": [
        "Numerical 변수와 Categorical 변수를 구분한다.\n",
        "- numeric_features 구분"
      ]
    },
    {
      "cell_type": "code",
      "metadata": {
        "id": "K5ht_H717PyT",
        "outputId": "eba4fd0b-fdbb-4e3d-8ade-0b7cc4dcb724",
        "colab": {
          "base_uri": "https://localhost:8080/"
        }
      },
      "source": [
        "numeric_features = train.select_dtypes(include=[np.number])\n",
        "print(numeric_features.columns)\n",
        "print(\"The total number of numeric features are: \", len(numeric_features.columns))\n",
        "\n",
        "numeric_features = test.select_dtypes(include=[np.number])\n",
        "print(numeric_features.columns)\n",
        "print(\"The total number of numeric features are: \", len(numeric_features.columns))"
      ],
      "execution_count": null,
      "outputs": [
        {
          "output_type": "stream",
          "text": [
            "Index(['PassengerId', 'Survived', 'Pclass', 'Age', 'SibSp', 'Parch', 'Fare'], dtype='object')\n",
            "The total number of numeric features are:  7\n",
            "Index(['PassengerId', 'Pclass', 'Age', 'SibSp', 'Parch', 'Fare'], dtype='object')\n",
            "The total number of numeric features are:  6\n"
          ],
          "name": "stdout"
        }
      ]
    },
    {
      "cell_type": "markdown",
      "metadata": {
        "id": "m2RUARwj8Tr9"
      },
      "source": [
        "train의 numeric 데이터는 7개, test의 numeric 데이터는 6개이다.  \n",
        "<br>\n",
        "\n",
        "* numeric_features 제외한 나머지 변수 추출"
      ]
    },
    {
      "cell_type": "code",
      "metadata": {
        "id": "AO0F3K2U8roX",
        "outputId": "3862e3f5-7540-4327-9dff-e61a47d61c79",
        "colab": {
          "base_uri": "https://localhost:8080/"
        }
      },
      "source": [
        "categorical_features = train.select_dtypes(exclude=[np.number])\n",
        "print(categorical_features.columns)\n",
        "print(\"The total number of non numeric features are: \", len(categorical_features.columns))\n",
        "\n",
        "categorical_features = test.select_dtypes(exclude=[np.number])\n",
        "print(categorical_features.columns)\n",
        "print(\"The total number of non numeric features are: \", len(categorical_features.columns))"
      ],
      "execution_count": null,
      "outputs": [
        {
          "output_type": "stream",
          "text": [
            "Index(['Name', 'Sex', 'Ticket', 'Cabin', 'Embarked'], dtype='object')\n",
            "The total number of non numeric features are:  5\n",
            "Index(['Name', 'Sex', 'Ticket', 'Cabin', 'Embarked'], dtype='object')\n",
            "The total number of non numeric features are:  5\n"
          ],
          "name": "stdout"
        }
      ]
    },
    {
      "cell_type": "markdown",
      "metadata": {
        "id": "G4gfed6w9u5E"
      },
      "source": [
        "train의 numeric 아닌 데이터는 5개, test의 numeric 아닌 데이터는 5개이다.  "
      ]
    },
    {
      "cell_type": "markdown",
      "metadata": {
        "id": "nO-hV7ioGHRJ"
      },
      "source": [
        "### 2. Kaggle Code 필사\n",
        "[- 필사 자료: EDA to Prediction(DieTanic)](https://www.kaggle.com/ash316/eda-to-prediction-dietanic)"
      ]
    },
    {
      "cell_type": "markdown",
      "metadata": {
        "id": "Rt4xpuLCGcKn"
      },
      "source": [
        "#### part1: Exploratory Data Analysis(EDA)\n",
        "1. Analysis of the features\n",
        "2. Finding any relations or trends considering multiple features"
      ]
    },
    {
      "cell_type": "code",
      "metadata": {
        "id": "lYjxNvzxK72X"
      },
      "source": [
        "# 사용 함수 import\n",
        "import numpy as np\n",
        "import pandas as pd\n",
        "import matplotlib.pyplot as plt\n",
        "import seaborn as sns\n",
        "plt.style.use('fivethirtyeight')\n",
        "import warnings\n",
        "warnings.filterwarnings('ignore')\n",
        "%matplotlib inline"
      ],
      "execution_count": null,
      "outputs": []
    },
    {
      "cell_type": "code",
      "metadata": {
        "id": "eiOhQWy_L1ob",
        "outputId": "58b64ab2-1395-4271-be22-0ff9b9dd2c11",
        "colab": {
          "base_uri": "https://localhost:8080/",
          "height": 341
        }
      },
      "source": [
        "train.head()"
      ],
      "execution_count": null,
      "outputs": [
        {
          "output_type": "execute_result",
          "data": {
            "text/html": [
              "<div>\n",
              "<style scoped>\n",
              "    .dataframe tbody tr th:only-of-type {\n",
              "        vertical-align: middle;\n",
              "    }\n",
              "\n",
              "    .dataframe tbody tr th {\n",
              "        vertical-align: top;\n",
              "    }\n",
              "\n",
              "    .dataframe thead th {\n",
              "        text-align: right;\n",
              "    }\n",
              "</style>\n",
              "<table border=\"1\" class=\"dataframe\">\n",
              "  <thead>\n",
              "    <tr style=\"text-align: right;\">\n",
              "      <th></th>\n",
              "      <th>PassengerId</th>\n",
              "      <th>Survived</th>\n",
              "      <th>Pclass</th>\n",
              "      <th>Name</th>\n",
              "      <th>Sex</th>\n",
              "      <th>Age</th>\n",
              "      <th>SibSp</th>\n",
              "      <th>Parch</th>\n",
              "      <th>Ticket</th>\n",
              "      <th>Fare</th>\n",
              "      <th>Cabin</th>\n",
              "      <th>Embarked</th>\n",
              "    </tr>\n",
              "  </thead>\n",
              "  <tbody>\n",
              "    <tr>\n",
              "      <th>0</th>\n",
              "      <td>1</td>\n",
              "      <td>0</td>\n",
              "      <td>3</td>\n",
              "      <td>Braund, Mr. Owen Harris</td>\n",
              "      <td>male</td>\n",
              "      <td>22.0</td>\n",
              "      <td>1</td>\n",
              "      <td>0</td>\n",
              "      <td>A/5 21171</td>\n",
              "      <td>7.2500</td>\n",
              "      <td>NaN</td>\n",
              "      <td>S</td>\n",
              "    </tr>\n",
              "    <tr>\n",
              "      <th>1</th>\n",
              "      <td>2</td>\n",
              "      <td>1</td>\n",
              "      <td>1</td>\n",
              "      <td>Cumings, Mrs. John Bradley (Florence Briggs Th...</td>\n",
              "      <td>female</td>\n",
              "      <td>38.0</td>\n",
              "      <td>1</td>\n",
              "      <td>0</td>\n",
              "      <td>PC 17599</td>\n",
              "      <td>71.2833</td>\n",
              "      <td>C85</td>\n",
              "      <td>C</td>\n",
              "    </tr>\n",
              "    <tr>\n",
              "      <th>2</th>\n",
              "      <td>3</td>\n",
              "      <td>1</td>\n",
              "      <td>3</td>\n",
              "      <td>Heikkinen, Miss. Laina</td>\n",
              "      <td>female</td>\n",
              "      <td>26.0</td>\n",
              "      <td>0</td>\n",
              "      <td>0</td>\n",
              "      <td>STON/O2. 3101282</td>\n",
              "      <td>7.9250</td>\n",
              "      <td>NaN</td>\n",
              "      <td>S</td>\n",
              "    </tr>\n",
              "    <tr>\n",
              "      <th>3</th>\n",
              "      <td>4</td>\n",
              "      <td>1</td>\n",
              "      <td>1</td>\n",
              "      <td>Futrelle, Mrs. Jacques Heath (Lily May Peel)</td>\n",
              "      <td>female</td>\n",
              "      <td>35.0</td>\n",
              "      <td>1</td>\n",
              "      <td>0</td>\n",
              "      <td>113803</td>\n",
              "      <td>53.1000</td>\n",
              "      <td>C123</td>\n",
              "      <td>S</td>\n",
              "    </tr>\n",
              "    <tr>\n",
              "      <th>4</th>\n",
              "      <td>5</td>\n",
              "      <td>0</td>\n",
              "      <td>3</td>\n",
              "      <td>Allen, Mr. William Henry</td>\n",
              "      <td>male</td>\n",
              "      <td>35.0</td>\n",
              "      <td>0</td>\n",
              "      <td>0</td>\n",
              "      <td>373450</td>\n",
              "      <td>8.0500</td>\n",
              "      <td>NaN</td>\n",
              "      <td>S</td>\n",
              "    </tr>\n",
              "  </tbody>\n",
              "</table>\n",
              "</div>"
            ],
            "text/plain": [
              "   PassengerId  Survived  Pclass  ...     Fare Cabin  Embarked\n",
              "0            1         0       3  ...   7.2500   NaN         S\n",
              "1            2         1       1  ...  71.2833   C85         C\n",
              "2            3         1       3  ...   7.9250   NaN         S\n",
              "3            4         1       1  ...  53.1000  C123         S\n",
              "4            5         0       3  ...   8.0500   NaN         S\n",
              "\n",
              "[5 rows x 12 columns]"
            ]
          },
          "metadata": {
            "tags": []
          },
          "execution_count": 48
        }
      ]
    },
    {
      "cell_type": "code",
      "metadata": {
        "id": "AOYGtODCL5xk",
        "outputId": "6c1848ac-c825-4b64-dbb7-98af63c31929",
        "colab": {
          "base_uri": "https://localhost:8080/"
        }
      },
      "source": [
        "train.isnull().sum() # checking for total null values"
      ],
      "execution_count": null,
      "outputs": [
        {
          "output_type": "execute_result",
          "data": {
            "text/plain": [
              "PassengerId      0\n",
              "Survived         0\n",
              "Pclass           0\n",
              "Name             0\n",
              "Sex              0\n",
              "Age            177\n",
              "SibSp            0\n",
              "Parch            0\n",
              "Ticket           0\n",
              "Fare             0\n",
              "Cabin          687\n",
              "Embarked         2\n",
              "dtype: int64"
            ]
          },
          "metadata": {
            "tags": []
          },
          "execution_count": 51
        }
      ]
    },
    {
      "cell_type": "markdown",
      "metadata": {
        "id": "91u63vCvMEPJ"
      },
      "source": [
        "The `AGE, Cabin and Embarked` have null values."
      ]
    },
    {
      "cell_type": "markdown",
      "metadata": {
        "id": "u3rVj74qMPfE"
      },
      "source": [
        "How many Survived?"
      ]
    },
    {
      "cell_type": "code",
      "metadata": {
        "id": "t1OxcKs4MSTV",
        "outputId": "ece34c62-0e26-4e3e-ab7c-9b247eb03336",
        "colab": {
          "base_uri": "https://localhost:8080/",
          "height": 407
        }
      },
      "source": [
        "f, ax = plt.subplots(1, 2, figsize = (18, 8))\n",
        "train['Survived'].value_counts().plot.pie(explode = [0, 0.1], autopct = '%1.1f%%', ax = ax[0], shadow = True)\n",
        "ax[0].set_title('Survived') # 왼쪽 그래프 제목\n",
        "ax[0].set_ylabel('')\n",
        "sns.countplot('Survived', data=train, ax=ax[1])\n",
        "ax[1].set_title('Survived')\n",
        "plt.show()"
      ],
      "execution_count": null,
      "outputs": [
        {
          "output_type": "display_data",
          "data": {
            "image/png": "[encoded data removed]",
            "text/plain": [
              "<Figure size 1296x576 with 2 Axes>"
            ]
          },
          "metadata": {
            "tags": [],
            "needs_background": "light"
          }
        }
      ]
    },
    {
      "cell_type": "markdown",
      "metadata": {
        "id": "TCvF5eLgNCjb"
      },
      "source": [
        "It is evident that not many passengers survived the accident.  \n",
        "\n",
        "Out of 891 passengers in traing set, only around 350 survived i.e Only 38.4% of the total training set survived the crash. We need to dig down more to get better insights from the data and see which categories of the passengers did survive and who didn't.  \n",
        "\n",
        "We will try to chek the survival rate by using the different features of the dataset. Some of the features being Sex, Port Of Embarcation, Age, etc.  \n",
        "\n",
        "First let us understand the different types of features."
      ]
    },
    {
      "cell_type": "markdown",
      "metadata": {
        "id": "dBB-07dNNlGq"
      },
      "source": [
        "*** Types Of Features**\n",
        "\n",
        "- Categorical Features:  \n",
        "A categorical variable is one that has two or more categories and each value in that feature can be categorised by them. For example, gender is a categorical variable having two categories(male and female). Now we cannot sort or give any ordering to such variables. They are also known as Nominal Variables(명목형 변수).  \n",
        "\n",
        "- Categorical Features in the dataset: Sex, Embarked\n",
        "\n",
        "<br>\n",
        "\n",
        "- Ordinal Features:  \n",
        "An ordinal variable is similar to categorical values, but the difference between them is that we can have relative ordering or sorting between the values. For eg: if we have a feature like Height with values Tall, Medium, Short, then Height is a ordinal variable. Here we can have a relative sort in the variable.  \n",
        "\n",
        "- Ordinal(순위) Features in the dataset: PClass\n",
        "\n",
        "<br>\n",
        "\n",
        "- Continuous Feature:  \n",
        "A feature is said to be continous if it can take values between any two points or between the minimun or maximum values in the features column.  \n",
        "\n",
        "- Coutinuous Features in the dataset: Age"
      ]
    },
    {
      "cell_type": "markdown",
      "metadata": {
        "id": "X7GISBraP7b4"
      },
      "source": [
        "*** Analysing The Features**\n",
        "\n",
        "Sex -> Catagorical Feature"
      ]
    },
    {
      "cell_type": "code",
      "metadata": {
        "id": "zFhFdgwrQCMT",
        "outputId": "29688c7c-a575-4868-beff-cc35f068b264",
        "colab": {
          "base_uri": "https://localhost:8080/"
        }
      },
      "source": [
        "train.groupby(['Sex', 'Survived'])['Survived'].count()"
      ],
      "execution_count": null,
      "outputs": [
        {
          "output_type": "execute_result",
          "data": {
            "text/plain": [
              "Sex     Survived\n",
              "female  0            81\n",
              "        1           233\n",
              "male    0           468\n",
              "        1           109\n",
              "Name: Survived, dtype: int64"
            ]
          },
          "metadata": {
            "tags": []
          },
          "execution_count": 57
        }
      ]
    },
    {
      "cell_type": "code",
      "metadata": {
        "id": "q4UoAYszQKtN",
        "outputId": "fd9d5c53-7a57-4dcd-d2ba-4575dfa0ca2b",
        "colab": {
          "base_uri": "https://localhost:8080/",
          "height": 407
        }
      },
      "source": [
        "f, ax = plt.subplots(1, 2, figsize = (18, 8))\n",
        "train[['Sex', 'Survived']].groupby(['Sex']).mean().plot.bar(ax = ax[0])\n",
        "ax[0].set_title('Survived vs Sex')\n",
        "sns.countplot('Sex', hue='Survived', data=train, ax = ax[1])\n",
        "ax[1].set_title('Sex: Survived vs Dead')\n",
        "plt.show()"
      ],
      "execution_count": null,
      "outputs": [
        {
          "output_type": "display_data",
          "data": {
            "image/png": "[encoded data removed]",
            "text/plain": [
              "<Figure size 1296x576 with 2 Axes>"
            ]
          },
          "metadata": {
            "tags": [],
            "needs_background": "light"
          }
        }
      ]
    },
    {
      "cell_type": "markdown",
      "metadata": {
        "id": "-bbHcs1YROFC"
      },
      "source": [
        "This looks interesting. The number of men on the ship is lot more than the number of women. Still the number of women saved is almost twice the number of males saved. The survival rates for a women on the ship is around 75% while that for men in around 18-19%.  \n",
        "\n",
        "This looks to be a very important feature for modeling. But is it the best? Let's check other features."
      ]
    },
    {
      "cell_type": "markdown",
      "metadata": {
        "id": "0plF-lokSZRu"
      },
      "source": [
        "*** Pclass -> Ordinal Feature**"
      ]
    },
    {
      "cell_type": "code",
      "metadata": {
        "id": "lR2KA7gdSd0c",
        "outputId": "17aefc9d-9d4a-4ea3-b6b3-112ae9dea186",
        "colab": {
          "base_uri": "https://localhost:8080/",
          "height": 143
        }
      },
      "source": [
        "# 클래스별 사망자/생존자 수\n",
        "pd.crosstab(train.Pclass, train.Survived, margins=True).style.background_gradient(cmap = 'summer_r')"
      ],
      "execution_count": null,
      "outputs": [
        {
          "output_type": "execute_result",
          "data": {
            "text/html": [
              "<style  type=\"text/css\" >\n",
              "#T_8a5ee43e_1e4d_11eb_98db_0242ac1c0002row0_col0,#T_8a5ee43e_1e4d_11eb_98db_0242ac1c0002row1_col1,#T_8a5ee43e_1e4d_11eb_98db_0242ac1c0002row1_col2{\n",
              "            background-color:  #ffff66;\n",
              "            color:  #000000;\n",
              "        }#T_8a5ee43e_1e4d_11eb_98db_0242ac1c0002row0_col1{\n",
              "            background-color:  #cee666;\n",
              "            color:  #000000;\n",
              "        }#T_8a5ee43e_1e4d_11eb_98db_0242ac1c0002row0_col2{\n",
              "            background-color:  #f4fa66;\n",
              "            color:  #000000;\n",
              "        }#T_8a5ee43e_1e4d_11eb_98db_0242ac1c0002row1_col0{\n",
              "            background-color:  #f6fa66;\n",
              "            color:  #000000;\n",
              "        }#T_8a5ee43e_1e4d_11eb_98db_0242ac1c0002row2_col0{\n",
              "            background-color:  #60b066;\n",
              "            color:  #000000;\n",
              "        }#T_8a5ee43e_1e4d_11eb_98db_0242ac1c0002row2_col1{\n",
              "            background-color:  #dfef66;\n",
              "            color:  #000000;\n",
              "        }#T_8a5ee43e_1e4d_11eb_98db_0242ac1c0002row2_col2{\n",
              "            background-color:  #90c866;\n",
              "            color:  #000000;\n",
              "        }#T_8a5ee43e_1e4d_11eb_98db_0242ac1c0002row3_col0,#T_8a5ee43e_1e4d_11eb_98db_0242ac1c0002row3_col1,#T_8a5ee43e_1e4d_11eb_98db_0242ac1c0002row3_col2{\n",
              "            background-color:  #008066;\n",
              "            color:  #f1f1f1;\n",
              "        }</style><table id=\"T_8a5ee43e_1e4d_11eb_98db_0242ac1c0002\" ><thead>    <tr>        <th class=\"index_name level0\" >Survived</th>        <th class=\"col_heading level0 col0\" >0</th>        <th class=\"col_heading level0 col1\" >1</th>        <th class=\"col_heading level0 col2\" >All</th>    </tr>    <tr>        <th class=\"index_name level0\" >Pclass</th>        <th class=\"blank\" ></th>        <th class=\"blank\" ></th>        <th class=\"blank\" ></th>    </tr></thead><tbody>\n",
              "                <tr>\n",
              "                        <th id=\"T_8a5ee43e_1e4d_11eb_98db_0242ac1c0002level0_row0\" class=\"row_heading level0 row0\" >1</th>\n",
              "                        <td id=\"T_8a5ee43e_1e4d_11eb_98db_0242ac1c0002row0_col0\" class=\"data row0 col0\" >80</td>\n",
              "                        <td id=\"T_8a5ee43e_1e4d_11eb_98db_0242ac1c0002row0_col1\" class=\"data row0 col1\" >136</td>\n",
              "                        <td id=\"T_8a5ee43e_1e4d_11eb_98db_0242ac1c0002row0_col2\" class=\"data row0 col2\" >216</td>\n",
              "            </tr>\n",
              "            <tr>\n",
              "                        <th id=\"T_8a5ee43e_1e4d_11eb_98db_0242ac1c0002level0_row1\" class=\"row_heading level0 row1\" >2</th>\n",
              "                        <td id=\"T_8a5ee43e_1e4d_11eb_98db_0242ac1c0002row1_col0\" class=\"data row1 col0\" >97</td>\n",
              "                        <td id=\"T_8a5ee43e_1e4d_11eb_98db_0242ac1c0002row1_col1\" class=\"data row1 col1\" >87</td>\n",
              "                        <td id=\"T_8a5ee43e_1e4d_11eb_98db_0242ac1c0002row1_col2\" class=\"data row1 col2\" >184</td>\n",
              "            </tr>\n",
              "            <tr>\n",
              "                        <th id=\"T_8a5ee43e_1e4d_11eb_98db_0242ac1c0002level0_row2\" class=\"row_heading level0 row2\" >3</th>\n",
              "                        <td id=\"T_8a5ee43e_1e4d_11eb_98db_0242ac1c0002row2_col0\" class=\"data row2 col0\" >372</td>\n",
              "                        <td id=\"T_8a5ee43e_1e4d_11eb_98db_0242ac1c0002row2_col1\" class=\"data row2 col1\" >119</td>\n",
              "                        <td id=\"T_8a5ee43e_1e4d_11eb_98db_0242ac1c0002row2_col2\" class=\"data row2 col2\" >491</td>\n",
              "            </tr>\n",
              "            <tr>\n",
              "                        <th id=\"T_8a5ee43e_1e4d_11eb_98db_0242ac1c0002level0_row3\" class=\"row_heading level0 row3\" >All</th>\n",
              "                        <td id=\"T_8a5ee43e_1e4d_11eb_98db_0242ac1c0002row3_col0\" class=\"data row3 col0\" >549</td>\n",
              "                        <td id=\"T_8a5ee43e_1e4d_11eb_98db_0242ac1c0002row3_col1\" class=\"data row3 col1\" >342</td>\n",
              "                        <td id=\"T_8a5ee43e_1e4d_11eb_98db_0242ac1c0002row3_col2\" class=\"data row3 col2\" >891</td>\n",
              "            </tr>\n",
              "    </tbody></table>"
            ],
            "text/plain": [
              "<pandas.io.formats.style.Styler at 0x7f80a7f04048>"
            ]
          },
          "metadata": {
            "tags": []
          },
          "execution_count": 65
        }
      ]
    },
    {
      "cell_type": "code",
      "metadata": {
        "id": "VYLfiwWITOU9",
        "outputId": "2d4708c5-2c89-4c7a-d67b-77b060731282",
        "colab": {
          "base_uri": "https://localhost:8080/",
          "height": 382
        }
      },
      "source": [
        "f, ax=plt.subplots(1, 2, figsize = (18, 8))\n",
        "train['Pclass'].value_counts().plot.bar(color = ['#CD7F32', '#FFDF00', '#D3D3D3'], ax = ax[0])\n",
        "ax[0].set_title('Number Of Passengers By Pclass')\n",
        "ax[0].set_ylabel('Count')\n",
        "sns.countplot('Pclass', hue='Survived', data=train, ax = ax[1])\n",
        "ax[1].set_title('Pclass:Survived vs Dead')\n",
        "plt.show()"
      ],
      "execution_count": null,
      "outputs": [
        {
          "output_type": "display_data",
          "data": {
            "image/png": "[encoded data removed]",
            "text/plain": [
              "<Figure size 1296x576 with 2 Axes>"
            ]
          },
          "metadata": {
            "tags": [],
            "needs_background": "light"
          }
        }
      ]
    },
    {
      "cell_type": "markdown",
      "metadata": {
        "id": "QxwcKNYGT3Bq"
      },
      "source": [
        "People say **Money Can't Buy Everything**. But we can clearly see that Passengers Of Pclass 1 were given a very high priority while rescue. Even thouugh the number of Passengers in Pclass 3 were a lot higher, still the number of survival from them is very low, somewhere around 25%.  \n",
        "\n",
        "For Pclass 1% survived is around 63% while for Pclass 2 is around 48%. So money and status matters. Such a materialistic world.  \n",
        "\n",
        "Let's dive in little bit more and check for other interesting observations. Let's check survival rate with Sex and Pclass Together."
      ]
    },
    {
      "cell_type": "code",
      "metadata": {
        "id": "U4CnaYKaUmRG",
        "outputId": "af7c8ba3-6f8a-43b8-d8a9-ecfd67fbd958",
        "colab": {
          "base_uri": "https://localhost:8080/",
          "height": 164
        }
      },
      "source": [
        "# Sex, Pclss 기준으로 Survived 인원 보기\n",
        "pd.crosstab([train.Sex, train.Survived], train.Pclass, margins=True).style.background_gradient(cmap='summer_r')"
      ],
      "execution_count": null,
      "outputs": [
        {
          "output_type": "execute_result",
          "data": {
            "text/html": [
              "<style  type=\"text/css\" >\n",
              "#T_ed10372a_1e4f_11eb_98db_0242ac1c0002row0_col0,#T_ed10372a_1e4f_11eb_98db_0242ac1c0002row0_col1,#T_ed10372a_1e4f_11eb_98db_0242ac1c0002row0_col3,#T_ed10372a_1e4f_11eb_98db_0242ac1c0002row3_col2{\n",
              "            background-color:  #ffff66;\n",
              "            color:  #000000;\n",
              "        }#T_ed10372a_1e4f_11eb_98db_0242ac1c0002row0_col2,#T_ed10372a_1e4f_11eb_98db_0242ac1c0002row1_col2{\n",
              "            background-color:  #f1f866;\n",
              "            color:  #000000;\n",
              "        }#T_ed10372a_1e4f_11eb_98db_0242ac1c0002row1_col0{\n",
              "            background-color:  #96cb66;\n",
              "            color:  #000000;\n",
              "        }#T_ed10372a_1e4f_11eb_98db_0242ac1c0002row1_col1{\n",
              "            background-color:  #a3d166;\n",
              "            color:  #000000;\n",
              "        }#T_ed10372a_1e4f_11eb_98db_0242ac1c0002row1_col3{\n",
              "            background-color:  #cfe766;\n",
              "            color:  #000000;\n",
              "        }#T_ed10372a_1e4f_11eb_98db_0242ac1c0002row2_col0{\n",
              "            background-color:  #a7d366;\n",
              "            color:  #000000;\n",
              "        }#T_ed10372a_1e4f_11eb_98db_0242ac1c0002row2_col1,#T_ed10372a_1e4f_11eb_98db_0242ac1c0002row2_col3{\n",
              "            background-color:  #85c266;\n",
              "            color:  #000000;\n",
              "        }#T_ed10372a_1e4f_11eb_98db_0242ac1c0002row2_col2{\n",
              "            background-color:  #6eb666;\n",
              "            color:  #000000;\n",
              "        }#T_ed10372a_1e4f_11eb_98db_0242ac1c0002row3_col0{\n",
              "            background-color:  #cde666;\n",
              "            color:  #000000;\n",
              "        }#T_ed10372a_1e4f_11eb_98db_0242ac1c0002row3_col1{\n",
              "            background-color:  #f0f866;\n",
              "            color:  #000000;\n",
              "        }#T_ed10372a_1e4f_11eb_98db_0242ac1c0002row3_col3{\n",
              "            background-color:  #f7fb66;\n",
              "            color:  #000000;\n",
              "        }#T_ed10372a_1e4f_11eb_98db_0242ac1c0002row4_col0,#T_ed10372a_1e4f_11eb_98db_0242ac1c0002row4_col1,#T_ed10372a_1e4f_11eb_98db_0242ac1c0002row4_col2,#T_ed10372a_1e4f_11eb_98db_0242ac1c0002row4_col3{\n",
              "            background-color:  #008066;\n",
              "            color:  #f1f1f1;\n",
              "        }</style><table id=\"T_ed10372a_1e4f_11eb_98db_0242ac1c0002\" ><thead>    <tr>        <th class=\"blank\" ></th>        <th class=\"index_name level0\" >Pclass</th>        <th class=\"col_heading level0 col0\" >1</th>        <th class=\"col_heading level0 col1\" >2</th>        <th class=\"col_heading level0 col2\" >3</th>        <th class=\"col_heading level0 col3\" >All</th>    </tr>    <tr>        <th class=\"index_name level0\" >Sex</th>        <th class=\"index_name level1\" >Survived</th>        <th class=\"blank\" ></th>        <th class=\"blank\" ></th>        <th class=\"blank\" ></th>        <th class=\"blank\" ></th>    </tr></thead><tbody>\n",
              "                <tr>\n",
              "                        <th id=\"T_ed10372a_1e4f_11eb_98db_0242ac1c0002level0_row0\" class=\"row_heading level0 row0\" rowspan=2>female</th>\n",
              "                        <th id=\"T_ed10372a_1e4f_11eb_98db_0242ac1c0002level1_row0\" class=\"row_heading level1 row0\" >0</th>\n",
              "                        <td id=\"T_ed10372a_1e4f_11eb_98db_0242ac1c0002row0_col0\" class=\"data row0 col0\" >3</td>\n",
              "                        <td id=\"T_ed10372a_1e4f_11eb_98db_0242ac1c0002row0_col1\" class=\"data row0 col1\" >6</td>\n",
              "                        <td id=\"T_ed10372a_1e4f_11eb_98db_0242ac1c0002row0_col2\" class=\"data row0 col2\" >72</td>\n",
              "                        <td id=\"T_ed10372a_1e4f_11eb_98db_0242ac1c0002row0_col3\" class=\"data row0 col3\" >81</td>\n",
              "            </tr>\n",
              "            <tr>\n",
              "                                <th id=\"T_ed10372a_1e4f_11eb_98db_0242ac1c0002level1_row1\" class=\"row_heading level1 row1\" >1</th>\n",
              "                        <td id=\"T_ed10372a_1e4f_11eb_98db_0242ac1c0002row1_col0\" class=\"data row1 col0\" >91</td>\n",
              "                        <td id=\"T_ed10372a_1e4f_11eb_98db_0242ac1c0002row1_col1\" class=\"data row1 col1\" >70</td>\n",
              "                        <td id=\"T_ed10372a_1e4f_11eb_98db_0242ac1c0002row1_col2\" class=\"data row1 col2\" >72</td>\n",
              "                        <td id=\"T_ed10372a_1e4f_11eb_98db_0242ac1c0002row1_col3\" class=\"data row1 col3\" >233</td>\n",
              "            </tr>\n",
              "            <tr>\n",
              "                        <th id=\"T_ed10372a_1e4f_11eb_98db_0242ac1c0002level0_row2\" class=\"row_heading level0 row2\" rowspan=2>male</th>\n",
              "                        <th id=\"T_ed10372a_1e4f_11eb_98db_0242ac1c0002level1_row2\" class=\"row_heading level1 row2\" >0</th>\n",
              "                        <td id=\"T_ed10372a_1e4f_11eb_98db_0242ac1c0002row2_col0\" class=\"data row2 col0\" >77</td>\n",
              "                        <td id=\"T_ed10372a_1e4f_11eb_98db_0242ac1c0002row2_col1\" class=\"data row2 col1\" >91</td>\n",
              "                        <td id=\"T_ed10372a_1e4f_11eb_98db_0242ac1c0002row2_col2\" class=\"data row2 col2\" >300</td>\n",
              "                        <td id=\"T_ed10372a_1e4f_11eb_98db_0242ac1c0002row2_col3\" class=\"data row2 col3\" >468</td>\n",
              "            </tr>\n",
              "            <tr>\n",
              "                                <th id=\"T_ed10372a_1e4f_11eb_98db_0242ac1c0002level1_row3\" class=\"row_heading level1 row3\" >1</th>\n",
              "                        <td id=\"T_ed10372a_1e4f_11eb_98db_0242ac1c0002row3_col0\" class=\"data row3 col0\" >45</td>\n",
              "                        <td id=\"T_ed10372a_1e4f_11eb_98db_0242ac1c0002row3_col1\" class=\"data row3 col1\" >17</td>\n",
              "                        <td id=\"T_ed10372a_1e4f_11eb_98db_0242ac1c0002row3_col2\" class=\"data row3 col2\" >47</td>\n",
              "                        <td id=\"T_ed10372a_1e4f_11eb_98db_0242ac1c0002row3_col3\" class=\"data row3 col3\" >109</td>\n",
              "            </tr>\n",
              "            <tr>\n",
              "                        <th id=\"T_ed10372a_1e4f_11eb_98db_0242ac1c0002level0_row4\" class=\"row_heading level0 row4\" >All</th>\n",
              "                        <th id=\"T_ed10372a_1e4f_11eb_98db_0242ac1c0002level1_row4\" class=\"row_heading level1 row4\" ></th>\n",
              "                        <td id=\"T_ed10372a_1e4f_11eb_98db_0242ac1c0002row4_col0\" class=\"data row4 col0\" >216</td>\n",
              "                        <td id=\"T_ed10372a_1e4f_11eb_98db_0242ac1c0002row4_col1\" class=\"data row4 col1\" >184</td>\n",
              "                        <td id=\"T_ed10372a_1e4f_11eb_98db_0242ac1c0002row4_col2\" class=\"data row4 col2\" >491</td>\n",
              "                        <td id=\"T_ed10372a_1e4f_11eb_98db_0242ac1c0002row4_col3\" class=\"data row4 col3\" >891</td>\n",
              "            </tr>\n",
              "    </tbody></table>"
            ],
            "text/plain": [
              "<pandas.io.formats.style.Styler at 0x7f80a7d1c908>"
            ]
          },
          "metadata": {
            "tags": []
          },
          "execution_count": 72
        }
      ]
    },
    {
      "cell_type": "code",
      "metadata": {
        "id": "radWXLoOWtjl",
        "outputId": "d0af722e-6cce-4b8f-c2cc-8197482998f4",
        "colab": {
          "base_uri": "https://localhost:8080/",
          "height": 386
        }
      },
      "source": [
        "sns.factorplot('Pclass', 'Survived', hue = 'Sex', data = train)\n",
        "plt.show()"
      ],
      "execution_count": null,
      "outputs": [
        {
          "output_type": "display_data",
          "data": {
            "image/png": "[encoded data removed]",
            "text/plain": [
              "<Figure size 430.5x360 with 1 Axes>"
            ]
          },
          "metadata": {
            "tags": [],
            "needs_background": "light"
          }
        }
      ]
    },
    {
      "cell_type": "markdown",
      "metadata": {
        "id": "bzEUvf9np3l7"
      },
      "source": [
        "We use FactorPlot in this case, because they make the seperation of categorical values easy.  \n",
        "\n",
        "Looking at the CrossTab and the FactorPlot, we can easily infer that survival for Women from Pclass 1 is about 95-96%, as only 3 out of 94 Women from Pclass 1 died.  \n",
        "\n",
        "It is evident that irrespective of Pclass, Women were given first priority while rescue. Even Men from Pclass 1 have a very low survival rate.  \n",
        "\n",
        "Looks like Pclass is also an important feature. Let's analyse other features."
      ]
    },
    {
      "cell_type": "markdown",
      "metadata": {
        "id": "Vm0ZC8kzqkSz"
      },
      "source": [
        "*** Age -> Continous Feature**"
      ]
    },
    {
      "cell_type": "code",
      "metadata": {
        "id": "iPRClgUJq7yH",
        "outputId": "fcc78148-7041-4011-a9ba-82950b3f422f",
        "colab": {
          "base_uri": "https://localhost:8080/"
        }
      },
      "source": [
        "print('Oldest Passenger was of:', train['Age'].max(), 'Years')\n",
        "print('Youngest Passenger was of:', train['Age'].min(), 'Years')\n",
        "print('Average Age on the ship:', train['Age'].mean(), 'Years')"
      ],
      "execution_count": null,
      "outputs": [
        {
          "output_type": "stream",
          "text": [
            "Oldest Passenger was of: 80.0 Years\n",
            "Youngest Passenger was of: 0.42 Years\n",
            "Average Age on the ship: 29.69911764705882 Years\n"
          ],
          "name": "stdout"
        }
      ]
    },
    {
      "cell_type": "code",
      "metadata": {
        "id": "-6INU-burULs",
        "outputId": "9acd005c-1631-4e65-c8af-d35197ae577e",
        "colab": {
          "base_uri": "https://localhost:8080/",
          "height": 381
        }
      },
      "source": [
        "f, ax = plt.subplots(1, 2, figsize = (18, 8))\n",
        "sns.violinplot(\"Pclass\", \"Age\", hue=\"Survived\", data=train, split=True, ax=ax[0])\n",
        "ax[0].set_title('Pclass and Age vs Survived')\n",
        "ax[0].set_yticks(range(0, 110, 10))\n",
        "sns.violinplot(\"Sex\", \"Age\", hue=\"Survived\", data=train, split=True, ax=ax[1])\n",
        "ax[1].set_title('Sex and Age vs Survived')\n",
        "ax[1].set_yticks(range(0, 110, 10))\n",
        "plt.show()"
      ],
      "execution_count": null,
      "outputs": [
        {
          "output_type": "display_data",
          "data": {
            "image/png": "[encoded data removed]",
            "text/plain": [
              "<Figure size 1296x576 with 2 Axes>"
            ]
          },
          "metadata": {
            "tags": [],
            "needs_background": "light"
          }
        }
      ]
    },
    {
      "cell_type": "markdown",
      "metadata": {
        "id": "fHIiFHrSr-GQ"
      },
      "source": [
        "**Observations:**\n",
        "- The number of cildren increases with Pclass and the survival rate for passengers below Age 10(i.e children) looks to be good irrespective of the Pclass.  \n",
        "\n",
        "- Survival chances for passengers aged 20-50 from Pclass 1 is high and is even better for women.  \n",
        "\n",
        "- For males, the survival chances decreases with an increase in age.  \n",
        "\n",
        "<br>\n",
        "\n",
        "As we had seen earlier, the Age feature has 177 null values. To replace these NaN values, we can assign them the mean age of the dataset.  \n",
        "\n",
        "But the problem is, there were many people with many different ages. We just can't assign a 4 year kid with the mean age that is 29 years. Is there any way to find out what age-band does the passenger lie?  \n",
        "\n",
        "<br>\n",
        "\n",
        "We can check the **Name** feature. Looking upon the feature, we cas see that the names have a salutaion like Mr or Mrs. Thus we can assign the mean values of Mr and Mrs to the respective groups.  \n",
        "\n",
        "**\"What's in a name?\" ----> Feature**\n"
      ]
    },
    {
      "cell_type": "code",
      "metadata": {
        "id": "wplu522puvv8"
      },
      "source": [
        "train['Initial']=0\n",
        "for i in train:\n",
        "    train['Initial']=train.Name.str.extract('([A-Za-z]+)\\.') # extract the Salutations"
      ],
      "execution_count": null,
      "outputs": []
    },
    {
      "cell_type": "markdown",
      "metadata": {
        "id": "IUsxQvHBvsrO"
      },
      "source": [
        "Using the Regex: **[A-Za-z]+)**.. So what it does is, it looks for strings which lie between **A-Z or a-z** and followed by a **.(dot)**. So we successfully extract the Initials from the Name."
      ]
    },
    {
      "cell_type": "code",
      "metadata": {
        "id": "iD6t3l6Rwb4v",
        "outputId": "0924e1c7-8d09-46b1-8831-556ec4d78d40",
        "colab": {
          "base_uri": "https://localhost:8080/",
          "height": 102
        }
      },
      "source": [
        "pd.crosstab(train.Initial, train.Sex).T.style.background_gradient(cmap='summer_r') # checking the Initials with the sex"
      ],
      "execution_count": null,
      "outputs": [
        {
          "output_type": "execute_result",
          "data": {
            "text/html": [
              "<style  type=\"text/css\" >\n",
              "#T_dae012f4_1e5f_11eb_98db_0242ac1c0002row0_col0,#T_dae012f4_1e5f_11eb_98db_0242ac1c0002row0_col1,#T_dae012f4_1e5f_11eb_98db_0242ac1c0002row0_col3,#T_dae012f4_1e5f_11eb_98db_0242ac1c0002row0_col4,#T_dae012f4_1e5f_11eb_98db_0242ac1c0002row0_col5,#T_dae012f4_1e5f_11eb_98db_0242ac1c0002row0_col7,#T_dae012f4_1e5f_11eb_98db_0242ac1c0002row0_col8,#T_dae012f4_1e5f_11eb_98db_0242ac1c0002row0_col12,#T_dae012f4_1e5f_11eb_98db_0242ac1c0002row0_col15,#T_dae012f4_1e5f_11eb_98db_0242ac1c0002row0_col16,#T_dae012f4_1e5f_11eb_98db_0242ac1c0002row1_col2,#T_dae012f4_1e5f_11eb_98db_0242ac1c0002row1_col6,#T_dae012f4_1e5f_11eb_98db_0242ac1c0002row1_col9,#T_dae012f4_1e5f_11eb_98db_0242ac1c0002row1_col10,#T_dae012f4_1e5f_11eb_98db_0242ac1c0002row1_col11,#T_dae012f4_1e5f_11eb_98db_0242ac1c0002row1_col13,#T_dae012f4_1e5f_11eb_98db_0242ac1c0002row1_col14{\n",
              "            background-color:  #ffff66;\n",
              "            color:  #000000;\n",
              "        }#T_dae012f4_1e5f_11eb_98db_0242ac1c0002row0_col2,#T_dae012f4_1e5f_11eb_98db_0242ac1c0002row0_col6,#T_dae012f4_1e5f_11eb_98db_0242ac1c0002row0_col9,#T_dae012f4_1e5f_11eb_98db_0242ac1c0002row0_col10,#T_dae012f4_1e5f_11eb_98db_0242ac1c0002row0_col11,#T_dae012f4_1e5f_11eb_98db_0242ac1c0002row0_col13,#T_dae012f4_1e5f_11eb_98db_0242ac1c0002row0_col14,#T_dae012f4_1e5f_11eb_98db_0242ac1c0002row1_col0,#T_dae012f4_1e5f_11eb_98db_0242ac1c0002row1_col1,#T_dae012f4_1e5f_11eb_98db_0242ac1c0002row1_col3,#T_dae012f4_1e5f_11eb_98db_0242ac1c0002row1_col4,#T_dae012f4_1e5f_11eb_98db_0242ac1c0002row1_col5,#T_dae012f4_1e5f_11eb_98db_0242ac1c0002row1_col7,#T_dae012f4_1e5f_11eb_98db_0242ac1c0002row1_col8,#T_dae012f4_1e5f_11eb_98db_0242ac1c0002row1_col12,#T_dae012f4_1e5f_11eb_98db_0242ac1c0002row1_col15,#T_dae012f4_1e5f_11eb_98db_0242ac1c0002row1_col16{\n",
              "            background-color:  #008066;\n",
              "            color:  #f1f1f1;\n",
              "        }</style><table id=\"T_dae012f4_1e5f_11eb_98db_0242ac1c0002\" ><thead>    <tr>        <th class=\"index_name level0\" >Initial</th>        <th class=\"col_heading level0 col0\" >Capt</th>        <th class=\"col_heading level0 col1\" >Col</th>        <th class=\"col_heading level0 col2\" >Countess</th>        <th class=\"col_heading level0 col3\" >Don</th>        <th class=\"col_heading level0 col4\" >Dr</th>        <th class=\"col_heading level0 col5\" >Jonkheer</th>        <th class=\"col_heading level0 col6\" >Lady</th>        <th class=\"col_heading level0 col7\" >Major</th>        <th class=\"col_heading level0 col8\" >Master</th>        <th class=\"col_heading level0 col9\" >Miss</th>        <th class=\"col_heading level0 col10\" >Mlle</th>        <th class=\"col_heading level0 col11\" >Mme</th>        <th class=\"col_heading level0 col12\" >Mr</th>        <th class=\"col_heading level0 col13\" >Mrs</th>        <th class=\"col_heading level0 col14\" >Ms</th>        <th class=\"col_heading level0 col15\" >Rev</th>        <th class=\"col_heading level0 col16\" >Sir</th>    </tr>    <tr>        <th class=\"index_name level0\" >Sex</th>        <th class=\"blank\" ></th>        <th class=\"blank\" ></th>        <th class=\"blank\" ></th>        <th class=\"blank\" ></th>        <th class=\"blank\" ></th>        <th class=\"blank\" ></th>        <th class=\"blank\" ></th>        <th class=\"blank\" ></th>        <th class=\"blank\" ></th>        <th class=\"blank\" ></th>        <th class=\"blank\" ></th>        <th class=\"blank\" ></th>        <th class=\"blank\" ></th>        <th class=\"blank\" ></th>        <th class=\"blank\" ></th>        <th class=\"blank\" ></th>        <th class=\"blank\" ></th>    </tr></thead><tbody>\n",
              "                <tr>\n",
              "                        <th id=\"T_dae012f4_1e5f_11eb_98db_0242ac1c0002level0_row0\" class=\"row_heading level0 row0\" >female</th>\n",
              "                        <td id=\"T_dae012f4_1e5f_11eb_98db_0242ac1c0002row0_col0\" class=\"data row0 col0\" >0</td>\n",
              "                        <td id=\"T_dae012f4_1e5f_11eb_98db_0242ac1c0002row0_col1\" class=\"data row0 col1\" >0</td>\n",
              "                        <td id=\"T_dae012f4_1e5f_11eb_98db_0242ac1c0002row0_col2\" class=\"data row0 col2\" >1</td>\n",
              "                        <td id=\"T_dae012f4_1e5f_11eb_98db_0242ac1c0002row0_col3\" class=\"data row0 col3\" >0</td>\n",
              "                        <td id=\"T_dae012f4_1e5f_11eb_98db_0242ac1c0002row0_col4\" class=\"data row0 col4\" >1</td>\n",
              "                        <td id=\"T_dae012f4_1e5f_11eb_98db_0242ac1c0002row0_col5\" class=\"data row0 col5\" >0</td>\n",
              "                        <td id=\"T_dae012f4_1e5f_11eb_98db_0242ac1c0002row0_col6\" class=\"data row0 col6\" >1</td>\n",
              "                        <td id=\"T_dae012f4_1e5f_11eb_98db_0242ac1c0002row0_col7\" class=\"data row0 col7\" >0</td>\n",
              "                        <td id=\"T_dae012f4_1e5f_11eb_98db_0242ac1c0002row0_col8\" class=\"data row0 col8\" >0</td>\n",
              "                        <td id=\"T_dae012f4_1e5f_11eb_98db_0242ac1c0002row0_col9\" class=\"data row0 col9\" >182</td>\n",
              "                        <td id=\"T_dae012f4_1e5f_11eb_98db_0242ac1c0002row0_col10\" class=\"data row0 col10\" >2</td>\n",
              "                        <td id=\"T_dae012f4_1e5f_11eb_98db_0242ac1c0002row0_col11\" class=\"data row0 col11\" >1</td>\n",
              "                        <td id=\"T_dae012f4_1e5f_11eb_98db_0242ac1c0002row0_col12\" class=\"data row0 col12\" >0</td>\n",
              "                        <td id=\"T_dae012f4_1e5f_11eb_98db_0242ac1c0002row0_col13\" class=\"data row0 col13\" >125</td>\n",
              "                        <td id=\"T_dae012f4_1e5f_11eb_98db_0242ac1c0002row0_col14\" class=\"data row0 col14\" >1</td>\n",
              "                        <td id=\"T_dae012f4_1e5f_11eb_98db_0242ac1c0002row0_col15\" class=\"data row0 col15\" >0</td>\n",
              "                        <td id=\"T_dae012f4_1e5f_11eb_98db_0242ac1c0002row0_col16\" class=\"data row0 col16\" >0</td>\n",
              "            </tr>\n",
              "            <tr>\n",
              "                        <th id=\"T_dae012f4_1e5f_11eb_98db_0242ac1c0002level0_row1\" class=\"row_heading level0 row1\" >male</th>\n",
              "                        <td id=\"T_dae012f4_1e5f_11eb_98db_0242ac1c0002row1_col0\" class=\"data row1 col0\" >1</td>\n",
              "                        <td id=\"T_dae012f4_1e5f_11eb_98db_0242ac1c0002row1_col1\" class=\"data row1 col1\" >2</td>\n",
              "                        <td id=\"T_dae012f4_1e5f_11eb_98db_0242ac1c0002row1_col2\" class=\"data row1 col2\" >0</td>\n",
              "                        <td id=\"T_dae012f4_1e5f_11eb_98db_0242ac1c0002row1_col3\" class=\"data row1 col3\" >1</td>\n",
              "                        <td id=\"T_dae012f4_1e5f_11eb_98db_0242ac1c0002row1_col4\" class=\"data row1 col4\" >6</td>\n",
              "                        <td id=\"T_dae012f4_1e5f_11eb_98db_0242ac1c0002row1_col5\" class=\"data row1 col5\" >1</td>\n",
              "                        <td id=\"T_dae012f4_1e5f_11eb_98db_0242ac1c0002row1_col6\" class=\"data row1 col6\" >0</td>\n",
              "                        <td id=\"T_dae012f4_1e5f_11eb_98db_0242ac1c0002row1_col7\" class=\"data row1 col7\" >2</td>\n",
              "                        <td id=\"T_dae012f4_1e5f_11eb_98db_0242ac1c0002row1_col8\" class=\"data row1 col8\" >40</td>\n",
              "                        <td id=\"T_dae012f4_1e5f_11eb_98db_0242ac1c0002row1_col9\" class=\"data row1 col9\" >0</td>\n",
              "                        <td id=\"T_dae012f4_1e5f_11eb_98db_0242ac1c0002row1_col10\" class=\"data row1 col10\" >0</td>\n",
              "                        <td id=\"T_dae012f4_1e5f_11eb_98db_0242ac1c0002row1_col11\" class=\"data row1 col11\" >0</td>\n",
              "                        <td id=\"T_dae012f4_1e5f_11eb_98db_0242ac1c0002row1_col12\" class=\"data row1 col12\" >517</td>\n",
              "                        <td id=\"T_dae012f4_1e5f_11eb_98db_0242ac1c0002row1_col13\" class=\"data row1 col13\" >0</td>\n",
              "                        <td id=\"T_dae012f4_1e5f_11eb_98db_0242ac1c0002row1_col14\" class=\"data row1 col14\" >0</td>\n",
              "                        <td id=\"T_dae012f4_1e5f_11eb_98db_0242ac1c0002row1_col15\" class=\"data row1 col15\" >6</td>\n",
              "                        <td id=\"T_dae012f4_1e5f_11eb_98db_0242ac1c0002row1_col16\" class=\"data row1 col16\" >1</td>\n",
              "            </tr>\n",
              "    </tbody></table>"
            ],
            "text/plain": [
              "<pandas.io.formats.style.Styler at 0x7f80a9be8ba8>"
            ]
          },
          "metadata": {
            "tags": []
          },
          "execution_count": 91
        }
      ]
    },
    {
      "cell_type": "markdown",
      "metadata": {
        "id": "QlpccLkTwxKN"
      },
      "source": [
        "There are some misspelled Initials like Mlle of Mme that stand for Miss. I will replace them with Miss and same thing for other values."
      ]
    },
    {
      "cell_type": "code",
      "metadata": {
        "id": "McIZvqXgw62A"
      },
      "source": [
        "train['Initial'].replace(['Mlle', 'Mme', 'Ms', 'Dr', 'Major', 'Lady', 'Countess', 'Jonkheer', 'Col', 'Rev', 'Capt', 'Sir', 'Don'], ['Miss', 'Miss', 'Miss', 'Mr', 'Mr', 'Mrs', 'Mrs', 'Other', 'Other', 'Other', 'Mr', 'Mr', 'Mr'], inplace=True)"
      ],
      "execution_count": null,
      "outputs": []
    },
    {
      "cell_type": "code",
      "metadata": {
        "id": "Zq6wuo_-xoCF",
        "outputId": "e88095da-3b2b-4ff3-ad5d-ad28d5fc45e6",
        "colab": {
          "base_uri": "https://localhost:8080/"
        }
      },
      "source": [
        "train.groupby('Initial')['Age'].mean() # check the average age by Initials"
      ],
      "execution_count": null,
      "outputs": [
        {
          "output_type": "execute_result",
          "data": {
            "text/plain": [
              "Initial\n",
              "Master     4.574167\n",
              "Miss      21.860000\n",
              "Mr        32.739609\n",
              "Mrs       35.981818\n",
              "Other     45.888889\n",
              "Name: Age, dtype: float64"
            ]
          },
          "metadata": {
            "tags": []
          },
          "execution_count": 96
        }
      ]
    },
    {
      "cell_type": "markdown",
      "metadata": {
        "id": "a-gECPO6xxB5"
      },
      "source": [
        "**Filling NaN Ages**  "
      ]
    },
    {
      "cell_type": "code",
      "metadata": {
        "id": "vetKEv46x1Sd"
      },
      "source": [
        "# assigning the NaN Values with the Ceil values of the mean ages\n",
        "train.loc[(train.Age.isnull())&(train.Initial=='Mr'),'Age']=33\n",
        "train.loc[(train.Age.isnull())&(train.Initial=='Mrs'),'Age']=36\n",
        "train.loc[(train.Age.isnull())&(train.Initial=='Master'),'Age']=5\n",
        "train.loc[(train.Age.isnull())&(train.Initial=='Miss'),'Age']=22\n",
        "train.loc[(train.Age.isnull())&(train.Initial=='Other'),'Age']=46"
      ],
      "execution_count": null,
      "outputs": []
    },
    {
      "cell_type": "code",
      "metadata": {
        "id": "_VuNm78ky8WJ",
        "outputId": "548463a7-e527-4ead-a7dd-2fa728e6b1ce",
        "colab": {
          "base_uri": "https://localhost:8080/"
        }
      },
      "source": [
        "train.Age.isnull().any() # so no null values left finally"
      ],
      "execution_count": null,
      "outputs": [
        {
          "output_type": "execute_result",
          "data": {
            "text/plain": [
              "False"
            ]
          },
          "metadata": {
            "tags": []
          },
          "execution_count": 102
        }
      ]
    },
    {
      "cell_type": "code",
      "metadata": {
        "id": "rt6ObJXCzC__",
        "outputId": "99204f8c-50e0-4fee-8b4e-392f62f352be",
        "colab": {
          "base_uri": "https://localhost:8080/",
          "height": 407
        }
      },
      "source": [
        "f, ax=plt.subplots(1, 2, figsize=(20, 10))\n",
        "train[train['Survived']==0].Age.plot.hist(ax=ax[0], bins=20, edgecolor='black', color='red')\n",
        "ax[0].set_title('Survived=0')\n",
        "x1=list(range(0, 85, 5))\n",
        "ax[0].set_xticks(x1)\n",
        "train[train['Survived']==1].Age.plot.hist(ax=ax[1], color='green', bins=20, edgecolor='black')\n",
        "ax[1].set_title('Survived=1')\n",
        "x2=list(range(0, 85, 5))\n",
        "ax[1].set_xticks(x2)\n",
        "plt.show()"
      ],
      "execution_count": null,
      "outputs": [
        {
          "output_type": "display_data",
          "data": {
            "image/png": "[encoded data removed]",
            "text/plain": [
              "<Figure size 1440x720 with 2 Axes>"
            ]
          },
          "metadata": {
            "tags": [],
            "needs_background": "light"
          }
        }
      ]
    },
    {
      "cell_type": "markdown",
      "metadata": {
        "id": "RO-EbZ9Iz87p"
      },
      "source": [
        "**Observations:**\n",
        "- The Toddlers(age < 5) were saved in large numbers(*The Women and Child First Policy*)  \n",
        "- The oldest Passenger was saved(80 years)  \n",
        "- Maximum number of deaths were in the age group of 30-40  \n"
      ]
    },
    {
      "cell_type": "code",
      "metadata": {
        "id": "GAd4srve0WCb",
        "outputId": "e6e6c608-74e5-46af-a0eb-31b9747f1d72",
        "colab": {
          "base_uri": "https://localhost:8080/",
          "height": 194
        }
      },
      "source": [
        "sns.factorplot('Pclass', 'Survived', col='Initial', data=train)\n",
        "plt.show()"
      ],
      "execution_count": null,
      "outputs": [
        {
          "output_type": "display_data",
          "data": {
            "image/png": "[encoded data removed]",
            "text/plain": [
              "<Figure size 1800x360 with 5 Axes>"
            ]
          },
          "metadata": {
            "tags": [],
            "needs_background": "light"
          }
        }
      ]
    },
    {
      "cell_type": "markdown",
      "metadata": {
        "id": "VBfd3SC-0e12"
      },
      "source": [
        "The Women and Child first policy thus holds true irrespective of the class.  "
      ]
    },
    {
      "cell_type": "markdown",
      "metadata": {
        "id": "0h2gcdfL0lCg"
      },
      "source": [
        "*** Embarked -> Categorical Value**"
      ]
    },
    {
      "cell_type": "code",
      "metadata": {
        "id": "6GdjRsUh0pGp",
        "outputId": "cb2e08e1-d59e-46ca-acd7-a7245476b670",
        "colab": {
          "base_uri": "https://localhost:8080/",
          "height": 288
        }
      },
      "source": [
        "pd.crosstab([train.Embarked, train.Pclass], [train.Sex, train.Survived], margins=True).style.background_gradient(cmap='summer_r')"
      ],
      "execution_count": null,
      "outputs": [
        {
          "output_type": "execute_result",
          "data": {
            "text/html": [
              "<style  type=\"text/css\" >\n",
              "#T_7944395a_1e62_11eb_98db_0242ac1c0002row0_col0,#T_7944395a_1e62_11eb_98db_0242ac1c0002row1_col2{\n",
              "            background-color:  #fcfe66;\n",
              "            color:  #000000;\n",
              "        }#T_7944395a_1e62_11eb_98db_0242ac1c0002row0_col1{\n",
              "            background-color:  #d2e866;\n",
              "            color:  #000000;\n",
              "        }#T_7944395a_1e62_11eb_98db_0242ac1c0002row0_col2{\n",
              "            background-color:  #f2f866;\n",
              "            color:  #000000;\n",
              "        }#T_7944395a_1e62_11eb_98db_0242ac1c0002row0_col3{\n",
              "            background-color:  #d8ec66;\n",
              "            color:  #000000;\n",
              "        }#T_7944395a_1e62_11eb_98db_0242ac1c0002row0_col4,#T_7944395a_1e62_11eb_98db_0242ac1c0002row2_col3{\n",
              "            background-color:  #e8f466;\n",
              "            color:  #000000;\n",
              "        }#T_7944395a_1e62_11eb_98db_0242ac1c0002row1_col0,#T_7944395a_1e62_11eb_98db_0242ac1c0002row3_col0,#T_7944395a_1e62_11eb_98db_0242ac1c0002row3_col1,#T_7944395a_1e62_11eb_98db_0242ac1c0002row3_col2,#T_7944395a_1e62_11eb_98db_0242ac1c0002row3_col3,#T_7944395a_1e62_11eb_98db_0242ac1c0002row3_col4,#T_7944395a_1e62_11eb_98db_0242ac1c0002row4_col0,#T_7944395a_1e62_11eb_98db_0242ac1c0002row4_col2,#T_7944395a_1e62_11eb_98db_0242ac1c0002row4_col3,#T_7944395a_1e62_11eb_98db_0242ac1c0002row4_col4{\n",
              "            background-color:  #ffff66;\n",
              "            color:  #000000;\n",
              "        }#T_7944395a_1e62_11eb_98db_0242ac1c0002row1_col1,#T_7944395a_1e62_11eb_98db_0242ac1c0002row6_col0{\n",
              "            background-color:  #f9fc66;\n",
              "            color:  #000000;\n",
              "        }#T_7944395a_1e62_11eb_98db_0242ac1c0002row1_col3,#T_7944395a_1e62_11eb_98db_0242ac1c0002row1_col4{\n",
              "            background-color:  #fbfd66;\n",
              "            color:  #000000;\n",
              "        }#T_7944395a_1e62_11eb_98db_0242ac1c0002row2_col0,#T_7944395a_1e62_11eb_98db_0242ac1c0002row5_col1{\n",
              "            background-color:  #e6f266;\n",
              "            color:  #000000;\n",
              "        }#T_7944395a_1e62_11eb_98db_0242ac1c0002row2_col1{\n",
              "            background-color:  #f0f866;\n",
              "            color:  #000000;\n",
              "        }#T_7944395a_1e62_11eb_98db_0242ac1c0002row2_col2{\n",
              "            background-color:  #eef666;\n",
              "            color:  #000000;\n",
              "        }#T_7944395a_1e62_11eb_98db_0242ac1c0002row2_col4,#T_7944395a_1e62_11eb_98db_0242ac1c0002row7_col0{\n",
              "            background-color:  #edf666;\n",
              "            color:  #000000;\n",
              "        }#T_7944395a_1e62_11eb_98db_0242ac1c0002row4_col1{\n",
              "            background-color:  #fefe66;\n",
              "            color:  #000000;\n",
              "        }#T_7944395a_1e62_11eb_98db_0242ac1c0002row5_col0{\n",
              "            background-color:  #e3f166;\n",
              "            color:  #000000;\n",
              "        }#T_7944395a_1e62_11eb_98db_0242ac1c0002row5_col2{\n",
              "            background-color:  #ecf666;\n",
              "            color:  #000000;\n",
              "        }#T_7944395a_1e62_11eb_98db_0242ac1c0002row5_col3{\n",
              "            background-color:  #f8fc66;\n",
              "            color:  #000000;\n",
              "        }#T_7944395a_1e62_11eb_98db_0242ac1c0002row5_col4{\n",
              "            background-color:  #ebf566;\n",
              "            color:  #000000;\n",
              "        }#T_7944395a_1e62_11eb_98db_0242ac1c0002row6_col1{\n",
              "            background-color:  #cde666;\n",
              "            color:  #000000;\n",
              "        }#T_7944395a_1e62_11eb_98db_0242ac1c0002row6_col2{\n",
              "            background-color:  #e4f266;\n",
              "            color:  #000000;\n",
              "        }#T_7944395a_1e62_11eb_98db_0242ac1c0002row6_col3{\n",
              "            background-color:  #bede66;\n",
              "            color:  #000000;\n",
              "        }#T_7944395a_1e62_11eb_98db_0242ac1c0002row6_col4{\n",
              "            background-color:  #dbed66;\n",
              "            color:  #000000;\n",
              "        }#T_7944395a_1e62_11eb_98db_0242ac1c0002row7_col1{\n",
              "            background-color:  #bdde66;\n",
              "            color:  #000000;\n",
              "        }#T_7944395a_1e62_11eb_98db_0242ac1c0002row7_col2{\n",
              "            background-color:  #d3e966;\n",
              "            color:  #000000;\n",
              "        }#T_7944395a_1e62_11eb_98db_0242ac1c0002row7_col3,#T_7944395a_1e62_11eb_98db_0242ac1c0002row8_col1{\n",
              "            background-color:  #dcee66;\n",
              "            color:  #000000;\n",
              "        }#T_7944395a_1e62_11eb_98db_0242ac1c0002row7_col4{\n",
              "            background-color:  #d1e866;\n",
              "            color:  #000000;\n",
              "        }#T_7944395a_1e62_11eb_98db_0242ac1c0002row8_col0{\n",
              "            background-color:  #52a866;\n",
              "            color:  #000000;\n",
              "        }#T_7944395a_1e62_11eb_98db_0242ac1c0002row8_col2{\n",
              "            background-color:  #81c066;\n",
              "            color:  #000000;\n",
              "        }#T_7944395a_1e62_11eb_98db_0242ac1c0002row8_col3{\n",
              "            background-color:  #b0d866;\n",
              "            color:  #000000;\n",
              "        }#T_7944395a_1e62_11eb_98db_0242ac1c0002row8_col4{\n",
              "            background-color:  #9acc66;\n",
              "            color:  #000000;\n",
              "        }#T_7944395a_1e62_11eb_98db_0242ac1c0002row9_col0,#T_7944395a_1e62_11eb_98db_0242ac1c0002row9_col1,#T_7944395a_1e62_11eb_98db_0242ac1c0002row9_col2,#T_7944395a_1e62_11eb_98db_0242ac1c0002row9_col3,#T_7944395a_1e62_11eb_98db_0242ac1c0002row9_col4{\n",
              "            background-color:  #008066;\n",
              "            color:  #f1f1f1;\n",
              "        }</style><table id=\"T_7944395a_1e62_11eb_98db_0242ac1c0002\" ><thead>    <tr>        <th class=\"blank\" ></th>        <th class=\"index_name level0\" >Sex</th>        <th class=\"col_heading level0 col0\" colspan=2>female</th>        <th class=\"col_heading level0 col2\" colspan=2>male</th>        <th class=\"col_heading level0 col4\" >All</th>    </tr>    <tr>        <th class=\"blank\" ></th>        <th class=\"index_name level1\" >Survived</th>        <th class=\"col_heading level1 col0\" >0</th>        <th class=\"col_heading level1 col1\" >1</th>        <th class=\"col_heading level1 col2\" >0</th>        <th class=\"col_heading level1 col3\" >1</th>        <th class=\"col_heading level1 col4\" ></th>    </tr>    <tr>        <th class=\"index_name level0\" >Embarked</th>        <th class=\"index_name level1\" >Pclass</th>        <th class=\"blank\" ></th>        <th class=\"blank\" ></th>        <th class=\"blank\" ></th>        <th class=\"blank\" ></th>        <th class=\"blank\" ></th>    </tr></thead><tbody>\n",
              "                <tr>\n",
              "                        <th id=\"T_7944395a_1e62_11eb_98db_0242ac1c0002level0_row0\" class=\"row_heading level0 row0\" rowspan=3>C</th>\n",
              "                        <th id=\"T_7944395a_1e62_11eb_98db_0242ac1c0002level1_row0\" class=\"row_heading level1 row0\" >1</th>\n",
              "                        <td id=\"T_7944395a_1e62_11eb_98db_0242ac1c0002row0_col0\" class=\"data row0 col0\" >1</td>\n",
              "                        <td id=\"T_7944395a_1e62_11eb_98db_0242ac1c0002row0_col1\" class=\"data row0 col1\" >42</td>\n",
              "                        <td id=\"T_7944395a_1e62_11eb_98db_0242ac1c0002row0_col2\" class=\"data row0 col2\" >25</td>\n",
              "                        <td id=\"T_7944395a_1e62_11eb_98db_0242ac1c0002row0_col3\" class=\"data row0 col3\" >17</td>\n",
              "                        <td id=\"T_7944395a_1e62_11eb_98db_0242ac1c0002row0_col4\" class=\"data row0 col4\" >85</td>\n",
              "            </tr>\n",
              "            <tr>\n",
              "                                <th id=\"T_7944395a_1e62_11eb_98db_0242ac1c0002level1_row1\" class=\"row_heading level1 row1\" >2</th>\n",
              "                        <td id=\"T_7944395a_1e62_11eb_98db_0242ac1c0002row1_col0\" class=\"data row1 col0\" >0</td>\n",
              "                        <td id=\"T_7944395a_1e62_11eb_98db_0242ac1c0002row1_col1\" class=\"data row1 col1\" >7</td>\n",
              "                        <td id=\"T_7944395a_1e62_11eb_98db_0242ac1c0002row1_col2\" class=\"data row1 col2\" >8</td>\n",
              "                        <td id=\"T_7944395a_1e62_11eb_98db_0242ac1c0002row1_col3\" class=\"data row1 col3\" >2</td>\n",
              "                        <td id=\"T_7944395a_1e62_11eb_98db_0242ac1c0002row1_col4\" class=\"data row1 col4\" >17</td>\n",
              "            </tr>\n",
              "            <tr>\n",
              "                                <th id=\"T_7944395a_1e62_11eb_98db_0242ac1c0002level1_row2\" class=\"row_heading level1 row2\" >3</th>\n",
              "                        <td id=\"T_7944395a_1e62_11eb_98db_0242ac1c0002row2_col0\" class=\"data row2 col0\" >8</td>\n",
              "                        <td id=\"T_7944395a_1e62_11eb_98db_0242ac1c0002row2_col1\" class=\"data row2 col1\" >15</td>\n",
              "                        <td id=\"T_7944395a_1e62_11eb_98db_0242ac1c0002row2_col2\" class=\"data row2 col2\" >33</td>\n",
              "                        <td id=\"T_7944395a_1e62_11eb_98db_0242ac1c0002row2_col3\" class=\"data row2 col3\" >10</td>\n",
              "                        <td id=\"T_7944395a_1e62_11eb_98db_0242ac1c0002row2_col4\" class=\"data row2 col4\" >66</td>\n",
              "            </tr>\n",
              "            <tr>\n",
              "                        <th id=\"T_7944395a_1e62_11eb_98db_0242ac1c0002level0_row3\" class=\"row_heading level0 row3\" rowspan=3>Q</th>\n",
              "                        <th id=\"T_7944395a_1e62_11eb_98db_0242ac1c0002level1_row3\" class=\"row_heading level1 row3\" >1</th>\n",
              "                        <td id=\"T_7944395a_1e62_11eb_98db_0242ac1c0002row3_col0\" class=\"data row3 col0\" >0</td>\n",
              "                        <td id=\"T_7944395a_1e62_11eb_98db_0242ac1c0002row3_col1\" class=\"data row3 col1\" >1</td>\n",
              "                        <td id=\"T_7944395a_1e62_11eb_98db_0242ac1c0002row3_col2\" class=\"data row3 col2\" >1</td>\n",
              "                        <td id=\"T_7944395a_1e62_11eb_98db_0242ac1c0002row3_col3\" class=\"data row3 col3\" >0</td>\n",
              "                        <td id=\"T_7944395a_1e62_11eb_98db_0242ac1c0002row3_col4\" class=\"data row3 col4\" >2</td>\n",
              "            </tr>\n",
              "            <tr>\n",
              "                                <th id=\"T_7944395a_1e62_11eb_98db_0242ac1c0002level1_row4\" class=\"row_heading level1 row4\" >2</th>\n",
              "                        <td id=\"T_7944395a_1e62_11eb_98db_0242ac1c0002row4_col0\" class=\"data row4 col0\" >0</td>\n",
              "                        <td id=\"T_7944395a_1e62_11eb_98db_0242ac1c0002row4_col1\" class=\"data row4 col1\" >2</td>\n",
              "                        <td id=\"T_7944395a_1e62_11eb_98db_0242ac1c0002row4_col2\" class=\"data row4 col2\" >1</td>\n",
              "                        <td id=\"T_7944395a_1e62_11eb_98db_0242ac1c0002row4_col3\" class=\"data row4 col3\" >0</td>\n",
              "                        <td id=\"T_7944395a_1e62_11eb_98db_0242ac1c0002row4_col4\" class=\"data row4 col4\" >3</td>\n",
              "            </tr>\n",
              "            <tr>\n",
              "                                <th id=\"T_7944395a_1e62_11eb_98db_0242ac1c0002level1_row5\" class=\"row_heading level1 row5\" >3</th>\n",
              "                        <td id=\"T_7944395a_1e62_11eb_98db_0242ac1c0002row5_col0\" class=\"data row5 col0\" >9</td>\n",
              "                        <td id=\"T_7944395a_1e62_11eb_98db_0242ac1c0002row5_col1\" class=\"data row5 col1\" >24</td>\n",
              "                        <td id=\"T_7944395a_1e62_11eb_98db_0242ac1c0002row5_col2\" class=\"data row5 col2\" >36</td>\n",
              "                        <td id=\"T_7944395a_1e62_11eb_98db_0242ac1c0002row5_col3\" class=\"data row5 col3\" >3</td>\n",
              "                        <td id=\"T_7944395a_1e62_11eb_98db_0242ac1c0002row5_col4\" class=\"data row5 col4\" >72</td>\n",
              "            </tr>\n",
              "            <tr>\n",
              "                        <th id=\"T_7944395a_1e62_11eb_98db_0242ac1c0002level0_row6\" class=\"row_heading level0 row6\" rowspan=3>S</th>\n",
              "                        <th id=\"T_7944395a_1e62_11eb_98db_0242ac1c0002level1_row6\" class=\"row_heading level1 row6\" >1</th>\n",
              "                        <td id=\"T_7944395a_1e62_11eb_98db_0242ac1c0002row6_col0\" class=\"data row6 col0\" >2</td>\n",
              "                        <td id=\"T_7944395a_1e62_11eb_98db_0242ac1c0002row6_col1\" class=\"data row6 col1\" >46</td>\n",
              "                        <td id=\"T_7944395a_1e62_11eb_98db_0242ac1c0002row6_col2\" class=\"data row6 col2\" >51</td>\n",
              "                        <td id=\"T_7944395a_1e62_11eb_98db_0242ac1c0002row6_col3\" class=\"data row6 col3\" >28</td>\n",
              "                        <td id=\"T_7944395a_1e62_11eb_98db_0242ac1c0002row6_col4\" class=\"data row6 col4\" >127</td>\n",
              "            </tr>\n",
              "            <tr>\n",
              "                                <th id=\"T_7944395a_1e62_11eb_98db_0242ac1c0002level1_row7\" class=\"row_heading level1 row7\" >2</th>\n",
              "                        <td id=\"T_7944395a_1e62_11eb_98db_0242ac1c0002row7_col0\" class=\"data row7 col0\" >6</td>\n",
              "                        <td id=\"T_7944395a_1e62_11eb_98db_0242ac1c0002row7_col1\" class=\"data row7 col1\" >61</td>\n",
              "                        <td id=\"T_7944395a_1e62_11eb_98db_0242ac1c0002row7_col2\" class=\"data row7 col2\" >82</td>\n",
              "                        <td id=\"T_7944395a_1e62_11eb_98db_0242ac1c0002row7_col3\" class=\"data row7 col3\" >15</td>\n",
              "                        <td id=\"T_7944395a_1e62_11eb_98db_0242ac1c0002row7_col4\" class=\"data row7 col4\" >164</td>\n",
              "            </tr>\n",
              "            <tr>\n",
              "                                <th id=\"T_7944395a_1e62_11eb_98db_0242ac1c0002level1_row8\" class=\"row_heading level1 row8\" >3</th>\n",
              "                        <td id=\"T_7944395a_1e62_11eb_98db_0242ac1c0002row8_col0\" class=\"data row8 col0\" >55</td>\n",
              "                        <td id=\"T_7944395a_1e62_11eb_98db_0242ac1c0002row8_col1\" class=\"data row8 col1\" >33</td>\n",
              "                        <td id=\"T_7944395a_1e62_11eb_98db_0242ac1c0002row8_col2\" class=\"data row8 col2\" >231</td>\n",
              "                        <td id=\"T_7944395a_1e62_11eb_98db_0242ac1c0002row8_col3\" class=\"data row8 col3\" >34</td>\n",
              "                        <td id=\"T_7944395a_1e62_11eb_98db_0242ac1c0002row8_col4\" class=\"data row8 col4\" >353</td>\n",
              "            </tr>\n",
              "            <tr>\n",
              "                        <th id=\"T_7944395a_1e62_11eb_98db_0242ac1c0002level0_row9\" class=\"row_heading level0 row9\" >All</th>\n",
              "                        <th id=\"T_7944395a_1e62_11eb_98db_0242ac1c0002level1_row9\" class=\"row_heading level1 row9\" ></th>\n",
              "                        <td id=\"T_7944395a_1e62_11eb_98db_0242ac1c0002row9_col0\" class=\"data row9 col0\" >81</td>\n",
              "                        <td id=\"T_7944395a_1e62_11eb_98db_0242ac1c0002row9_col1\" class=\"data row9 col1\" >231</td>\n",
              "                        <td id=\"T_7944395a_1e62_11eb_98db_0242ac1c0002row9_col2\" class=\"data row9 col2\" >468</td>\n",
              "                        <td id=\"T_7944395a_1e62_11eb_98db_0242ac1c0002row9_col3\" class=\"data row9 col3\" >109</td>\n",
              "                        <td id=\"T_7944395a_1e62_11eb_98db_0242ac1c0002row9_col4\" class=\"data row9 col4\" >889</td>\n",
              "            </tr>\n",
              "    </tbody></table>"
            ],
            "text/plain": [
              "<pandas.io.formats.style.Styler at 0x7f80aa24a1d0>"
            ]
          },
          "metadata": {
            "tags": []
          },
          "execution_count": 106
        }
      ]
    },
    {
      "cell_type": "markdown",
      "metadata": {
        "id": "0t5fnVFA0_2M"
      },
      "source": [
        "**Chances for Survival by Port of Embarkation**"
      ]
    },
    {
      "cell_type": "code",
      "metadata": {
        "id": "Ztl_yLLF1Es2",
        "outputId": "2acd355f-a0cb-4ac3-80b2-cea7ad25626c",
        "colab": {
          "base_uri": "https://localhost:8080/",
          "height": 256
        }
      },
      "source": [
        "sns.factorplot('Embarked', 'Survived', data=train)\n",
        "fig=plt.gcf()\n",
        "fig.set_size_inches(5, 3)\n",
        "plt.show()"
      ],
      "execution_count": null,
      "outputs": [
        {
          "output_type": "display_data",
          "data": {
            "image/png": "[encoded data removed]",
            "text/plain": [
              "<Figure size 360x216 with 1 Axes>"
            ]
          },
          "metadata": {
            "tags": [],
            "needs_background": "light"
          }
        }
      ]
    },
    {
      "cell_type": "markdown",
      "metadata": {
        "id": "9Acn7nQD1OmF"
      },
      "source": [
        "The chances for survival for Port C is highest around 0.55 while it is lowest for S."
      ]
    },
    {
      "cell_type": "code",
      "metadata": {
        "id": "ri9bygoB1Tv4",
        "outputId": "7f154896-ebba-4e73-f30c-23d7ef7cf66b",
        "colab": {
          "base_uri": "https://localhost:8080/",
          "height": 599
        }
      },
      "source": [
        "f,ax=plt.subplots(2,2,figsize=(20,15))\n",
        "sns.countplot('Embarked',data=train,ax=ax[0,0])\n",
        "ax[0,0].set_title('No. Of Passengers Boarded')\n",
        "sns.countplot('Embarked',hue='Sex',data=train,ax=ax[0,1])\n",
        "ax[0,1].set_title('Male-Female Split for Embarked')\n",
        "sns.countplot('Embarked',hue='Survived',data=train,ax=ax[1,0])\n",
        "ax[1,0].set_title('Embarked vs Survived')\n",
        "sns.countplot('Embarked',hue='Pclass',data=train,ax=ax[1,1])\n",
        "ax[1,1].set_title('Embarked vs Pclass')\n",
        "plt.subplots_adjust(wspace=0.2,hspace=0.5)\n",
        "plt.show()"
      ],
      "execution_count": null,
      "outputs": [
        {
          "output_type": "display_data",
          "data": {
            "image/png": "[encoded data removed]",
            "text/plain": [
              "<Figure size 1440x1080 with 4 Axes>"
            ]
          },
          "metadata": {
            "tags": [],
            "needs_background": "light"
          }
        }
      ]
    },
    {
      "cell_type": "markdown",
      "metadata": {
        "id": "Qx2RbDFL3WPD"
      },
      "source": [
        "**Observations:**\n",
        "- Maximum passengers boarded from S. Majority of them being from Pclass3.\n",
        "- The passengers from C look to be lucky as a good proportion of them survived. The reason for this maybe the rescue of all the Pclass 1 and Pclass 2 passengers.\n",
        "- The Embark S looks to the port from where majority of the rich people boarded. Still the chances for surical is low here, that is vecause many passengers from Pclass 3 around 81% didn't survive.\n",
        "- Port Q had almost 95% of the passengers were from Pclass 3."
      ]
    },
    {
      "cell_type": "code",
      "metadata": {
        "id": "_ZUIpbTx4RaH",
        "outputId": "5331fea9-ad2b-43f8-daf8-04561fa6692d",
        "colab": {
          "base_uri": "https://localhost:8080/",
          "height": 291
        }
      },
      "source": [
        "sns.factorplot('Pclass', 'Survived', hue='Sex', col='Embarked', data=train)\n",
        "plt.show()"
      ],
      "execution_count": null,
      "outputs": [
        {
          "output_type": "display_data",
          "data": {
            "image/png": "[encoded data removed]",
            "text/plain": [
              "<Figure size 1150.5x360 with 3 Axes>"
            ]
          },
          "metadata": {
            "tags": [],
            "needs_background": "light"
          }
        }
      ]
    },
    {
      "cell_type": "markdown",
      "metadata": {
        "id": "NIXWsHeT4nOR"
      },
      "source": [
        "**0bservations:**\n",
        "- The survival chances are almost 1 for women for Pclass 1 and Pclass 2 irrespective of the Pclass.\n",
        "- Port S looks to be very unlucky for Pclass 3 passengers as the survival rate for both men and women is very low.(Money Matters)\n",
        "- Port Q looks to be unlukiest for Men, as almost all were from Pclass 3.  \n",
        "\n",
        "<br>\n",
        "\n",
        "**Filling Embarked NaN**  \n",
        "As we saw that maximum passengers boarded from Port S, we replace NaN with S.\n"
      ]
    },
    {
      "cell_type": "code",
      "metadata": {
        "id": "CYNypOzC5wr6"
      },
      "source": [
        "train['Embarked'].fillna('S', inplace=True)"
      ],
      "execution_count": null,
      "outputs": []
    },
    {
      "cell_type": "code",
      "metadata": {
        "id": "IVYYhx5953Ua",
        "outputId": "baa3bfa6-4b58-4ce0-96bb-a7cac759f828",
        "colab": {
          "base_uri": "https://localhost:8080/"
        }
      },
      "source": [
        "train.Embarked.isnull().any() # Finally No NaN values"
      ],
      "execution_count": null,
      "outputs": [
        {
          "output_type": "execute_result",
          "data": {
            "text/plain": [
              "False"
            ]
          },
          "metadata": {
            "tags": []
          },
          "execution_count": 117
        }
      ]
    },
    {
      "cell_type": "markdown",
      "metadata": {
        "id": "qpJLLvvw5-N-"
      },
      "source": [
        "*** SibSip -> Discrete Feature**  \n",
        "This feature represents whether a person is alone of with their family members.\n",
        "<br>\n",
        "- Sibling = brother, sister, stepbrother, stepsister  \n",
        "- Spouse = husband, wife"
      ]
    },
    {
      "cell_type": "code",
      "metadata": {
        "id": "jqySrqYy8vfC",
        "outputId": "498a2e4f-f1a7-4d96-c016-2fe0d19de782",
        "colab": {
          "base_uri": "https://localhost:8080/",
          "height": 205
        }
      },
      "source": [
        "pd.crosstab([train.SibSp], train.Survived).style.background_gradient(cmap='summer_r')"
      ],
      "execution_count": null,
      "outputs": [
        {
          "output_type": "execute_result",
          "data": {
            "text/html": [
              "<style  type=\"text/css\" >\n",
              "#T_4f01a2e0_1e67_11eb_98db_0242ac1c0002row0_col0,#T_4f01a2e0_1e67_11eb_98db_0242ac1c0002row0_col1{\n",
              "            background-color:  #008066;\n",
              "            color:  #f1f1f1;\n",
              "        }#T_4f01a2e0_1e67_11eb_98db_0242ac1c0002row1_col0{\n",
              "            background-color:  #c4e266;\n",
              "            color:  #000000;\n",
              "        }#T_4f01a2e0_1e67_11eb_98db_0242ac1c0002row1_col1{\n",
              "            background-color:  #77bb66;\n",
              "            color:  #000000;\n",
              "        }#T_4f01a2e0_1e67_11eb_98db_0242ac1c0002row2_col0,#T_4f01a2e0_1e67_11eb_98db_0242ac1c0002row4_col0{\n",
              "            background-color:  #f9fc66;\n",
              "            color:  #000000;\n",
              "        }#T_4f01a2e0_1e67_11eb_98db_0242ac1c0002row2_col1{\n",
              "            background-color:  #f0f866;\n",
              "            color:  #000000;\n",
              "        }#T_4f01a2e0_1e67_11eb_98db_0242ac1c0002row3_col0,#T_4f01a2e0_1e67_11eb_98db_0242ac1c0002row3_col1{\n",
              "            background-color:  #fbfd66;\n",
              "            color:  #000000;\n",
              "        }#T_4f01a2e0_1e67_11eb_98db_0242ac1c0002row4_col1{\n",
              "            background-color:  #fcfe66;\n",
              "            color:  #000000;\n",
              "        }#T_4f01a2e0_1e67_11eb_98db_0242ac1c0002row5_col0,#T_4f01a2e0_1e67_11eb_98db_0242ac1c0002row5_col1,#T_4f01a2e0_1e67_11eb_98db_0242ac1c0002row6_col1{\n",
              "            background-color:  #ffff66;\n",
              "            color:  #000000;\n",
              "        }#T_4f01a2e0_1e67_11eb_98db_0242ac1c0002row6_col0{\n",
              "            background-color:  #fefe66;\n",
              "            color:  #000000;\n",
              "        }</style><table id=\"T_4f01a2e0_1e67_11eb_98db_0242ac1c0002\" ><thead>    <tr>        <th class=\"index_name level0\" >Survived</th>        <th class=\"col_heading level0 col0\" >0</th>        <th class=\"col_heading level0 col1\" >1</th>    </tr>    <tr>        <th class=\"index_name level0\" >SibSp</th>        <th class=\"blank\" ></th>        <th class=\"blank\" ></th>    </tr></thead><tbody>\n",
              "                <tr>\n",
              "                        <th id=\"T_4f01a2e0_1e67_11eb_98db_0242ac1c0002level0_row0\" class=\"row_heading level0 row0\" >0</th>\n",
              "                        <td id=\"T_4f01a2e0_1e67_11eb_98db_0242ac1c0002row0_col0\" class=\"data row0 col0\" >398</td>\n",
              "                        <td id=\"T_4f01a2e0_1e67_11eb_98db_0242ac1c0002row0_col1\" class=\"data row0 col1\" >210</td>\n",
              "            </tr>\n",
              "            <tr>\n",
              "                        <th id=\"T_4f01a2e0_1e67_11eb_98db_0242ac1c0002level0_row1\" class=\"row_heading level0 row1\" >1</th>\n",
              "                        <td id=\"T_4f01a2e0_1e67_11eb_98db_0242ac1c0002row1_col0\" class=\"data row1 col0\" >97</td>\n",
              "                        <td id=\"T_4f01a2e0_1e67_11eb_98db_0242ac1c0002row1_col1\" class=\"data row1 col1\" >112</td>\n",
              "            </tr>\n",
              "            <tr>\n",
              "                        <th id=\"T_4f01a2e0_1e67_11eb_98db_0242ac1c0002level0_row2\" class=\"row_heading level0 row2\" >2</th>\n",
              "                        <td id=\"T_4f01a2e0_1e67_11eb_98db_0242ac1c0002row2_col0\" class=\"data row2 col0\" >15</td>\n",
              "                        <td id=\"T_4f01a2e0_1e67_11eb_98db_0242ac1c0002row2_col1\" class=\"data row2 col1\" >13</td>\n",
              "            </tr>\n",
              "            <tr>\n",
              "                        <th id=\"T_4f01a2e0_1e67_11eb_98db_0242ac1c0002level0_row3\" class=\"row_heading level0 row3\" >3</th>\n",
              "                        <td id=\"T_4f01a2e0_1e67_11eb_98db_0242ac1c0002row3_col0\" class=\"data row3 col0\" >12</td>\n",
              "                        <td id=\"T_4f01a2e0_1e67_11eb_98db_0242ac1c0002row3_col1\" class=\"data row3 col1\" >4</td>\n",
              "            </tr>\n",
              "            <tr>\n",
              "                        <th id=\"T_4f01a2e0_1e67_11eb_98db_0242ac1c0002level0_row4\" class=\"row_heading level0 row4\" >4</th>\n",
              "                        <td id=\"T_4f01a2e0_1e67_11eb_98db_0242ac1c0002row4_col0\" class=\"data row4 col0\" >15</td>\n",
              "                        <td id=\"T_4f01a2e0_1e67_11eb_98db_0242ac1c0002row4_col1\" class=\"data row4 col1\" >3</td>\n",
              "            </tr>\n",
              "            <tr>\n",
              "                        <th id=\"T_4f01a2e0_1e67_11eb_98db_0242ac1c0002level0_row5\" class=\"row_heading level0 row5\" >5</th>\n",
              "                        <td id=\"T_4f01a2e0_1e67_11eb_98db_0242ac1c0002row5_col0\" class=\"data row5 col0\" >5</td>\n",
              "                        <td id=\"T_4f01a2e0_1e67_11eb_98db_0242ac1c0002row5_col1\" class=\"data row5 col1\" >0</td>\n",
              "            </tr>\n",
              "            <tr>\n",
              "                        <th id=\"T_4f01a2e0_1e67_11eb_98db_0242ac1c0002level0_row6\" class=\"row_heading level0 row6\" >8</th>\n",
              "                        <td id=\"T_4f01a2e0_1e67_11eb_98db_0242ac1c0002row6_col0\" class=\"data row6 col0\" >7</td>\n",
              "                        <td id=\"T_4f01a2e0_1e67_11eb_98db_0242ac1c0002row6_col1\" class=\"data row6 col1\" >0</td>\n",
              "            </tr>\n",
              "    </tbody></table>"
            ],
            "text/plain": [
              "<pandas.io.formats.style.Styler at 0x7f80a7e61860>"
            ]
          },
          "metadata": {
            "tags": []
          },
          "execution_count": 119
        }
      ]
    },
    {
      "cell_type": "code",
      "metadata": {
        "id": "GSB9Lw9x7MZf",
        "outputId": "2129caad-f455-40cb-90d8-0a8932a0f155",
        "colab": {
          "base_uri": "https://localhost:8080/",
          "height": 345
        }
      },
      "source": [
        "f,ax=plt.subplots(1,2,figsize=(20,8))\n",
        "sns.barplot('SibSp','Survived', data=train, ax=ax[0])\n",
        "ax[0].set_title('SibSp vs Survived')\n",
        "\n",
        "sns.factorplot('SibSp','Survived', data=train, ax=ax[1]) # 따로 실행하면 뜨는데 같이 하니까 안 뜸\n",
        "ax[1].set_title('SibSp vs Survived')\n",
        "plt.close(2)\n",
        "plt.show()"
      ],
      "execution_count": null,
      "outputs": [
        {
          "output_type": "display_data",
          "data": {
            "image/png": "[encoded data removed]",
            "text/plain": [
              "<Figure size 1440x576 with 2 Axes>"
            ]
          },
          "metadata": {
            "tags": [],
            "needs_background": "light"
          }
        }
      ]
    },
    {
      "cell_type": "code",
      "metadata": {
        "id": "eW8vx43FGQpq",
        "outputId": "440f67b3-cca2-4d0b-d38a-b63c4904fca6",
        "colab": {
          "base_uri": "https://localhost:8080/",
          "height": 386
        }
      },
      "source": [
        "# 따로 실행해본 그래프\n",
        "sns.factorplot('SibSp','Survived', data=train, ax=ax[1])\n",
        "ax[1].set_title('SibSp vs Survived')\n",
        "plt.close(2)\n",
        "plt.show()"
      ],
      "execution_count": null,
      "outputs": [
        {
          "output_type": "display_data",
          "data": {
            "image/png": "[encoded data removed]",
            "text/plain": [
              "<Figure size 360x360 with 1 Axes>"
            ]
          },
          "metadata": {
            "tags": [],
            "needs_background": "light"
          }
        }
      ]
    },
    {
      "cell_type": "code",
      "metadata": {
        "id": "fcl5dpaYGc0-",
        "outputId": "404a321f-e5ce-4265-d149-6b1a826f185f",
        "colab": {
          "base_uri": "https://localhost:8080/",
          "height": 205
        }
      },
      "source": [
        "pd.crosstab(train.SibSp, train.Pclass).style.background_gradient(cmap='summer_r')"
      ],
      "execution_count": null,
      "outputs": [
        {
          "output_type": "execute_result",
          "data": {
            "text/html": [
              "<style  type=\"text/css\" >\n",
              "#T_3e243716_1e6d_11eb_98db_0242ac1c0002row0_col0,#T_3e243716_1e6d_11eb_98db_0242ac1c0002row0_col1,#T_3e243716_1e6d_11eb_98db_0242ac1c0002row0_col2{\n",
              "            background-color:  #008066;\n",
              "            color:  #f1f1f1;\n",
              "        }#T_3e243716_1e6d_11eb_98db_0242ac1c0002row1_col0{\n",
              "            background-color:  #7bbd66;\n",
              "            color:  #000000;\n",
              "        }#T_3e243716_1e6d_11eb_98db_0242ac1c0002row1_col1{\n",
              "            background-color:  #8ac466;\n",
              "            color:  #000000;\n",
              "        }#T_3e243716_1e6d_11eb_98db_0242ac1c0002row1_col2{\n",
              "            background-color:  #c6e266;\n",
              "            color:  #000000;\n",
              "        }#T_3e243716_1e6d_11eb_98db_0242ac1c0002row2_col0,#T_3e243716_1e6d_11eb_98db_0242ac1c0002row4_col2{\n",
              "            background-color:  #f6fa66;\n",
              "            color:  #000000;\n",
              "        }#T_3e243716_1e6d_11eb_98db_0242ac1c0002row2_col1{\n",
              "            background-color:  #eef666;\n",
              "            color:  #000000;\n",
              "        }#T_3e243716_1e6d_11eb_98db_0242ac1c0002row2_col2{\n",
              "            background-color:  #f8fc66;\n",
              "            color:  #000000;\n",
              "        }#T_3e243716_1e6d_11eb_98db_0242ac1c0002row3_col0,#T_3e243716_1e6d_11eb_98db_0242ac1c0002row3_col2{\n",
              "            background-color:  #fafc66;\n",
              "            color:  #000000;\n",
              "        }#T_3e243716_1e6d_11eb_98db_0242ac1c0002row3_col1{\n",
              "            background-color:  #fdfe66;\n",
              "            color:  #000000;\n",
              "        }#T_3e243716_1e6d_11eb_98db_0242ac1c0002row4_col0,#T_3e243716_1e6d_11eb_98db_0242ac1c0002row4_col1,#T_3e243716_1e6d_11eb_98db_0242ac1c0002row5_col0,#T_3e243716_1e6d_11eb_98db_0242ac1c0002row5_col1,#T_3e243716_1e6d_11eb_98db_0242ac1c0002row5_col2,#T_3e243716_1e6d_11eb_98db_0242ac1c0002row6_col0,#T_3e243716_1e6d_11eb_98db_0242ac1c0002row6_col1{\n",
              "            background-color:  #ffff66;\n",
              "            color:  #000000;\n",
              "        }#T_3e243716_1e6d_11eb_98db_0242ac1c0002row6_col2{\n",
              "            background-color:  #fefe66;\n",
              "            color:  #000000;\n",
              "        }</style><table id=\"T_3e243716_1e6d_11eb_98db_0242ac1c0002\" ><thead>    <tr>        <th class=\"index_name level0\" >Pclass</th>        <th class=\"col_heading level0 col0\" >1</th>        <th class=\"col_heading level0 col1\" >2</th>        <th class=\"col_heading level0 col2\" >3</th>    </tr>    <tr>        <th class=\"index_name level0\" >SibSp</th>        <th class=\"blank\" ></th>        <th class=\"blank\" ></th>        <th class=\"blank\" ></th>    </tr></thead><tbody>\n",
              "                <tr>\n",
              "                        <th id=\"T_3e243716_1e6d_11eb_98db_0242ac1c0002level0_row0\" class=\"row_heading level0 row0\" >0</th>\n",
              "                        <td id=\"T_3e243716_1e6d_11eb_98db_0242ac1c0002row0_col0\" class=\"data row0 col0\" >137</td>\n",
              "                        <td id=\"T_3e243716_1e6d_11eb_98db_0242ac1c0002row0_col1\" class=\"data row0 col1\" >120</td>\n",
              "                        <td id=\"T_3e243716_1e6d_11eb_98db_0242ac1c0002row0_col2\" class=\"data row0 col2\" >351</td>\n",
              "            </tr>\n",
              "            <tr>\n",
              "                        <th id=\"T_3e243716_1e6d_11eb_98db_0242ac1c0002level0_row1\" class=\"row_heading level0 row1\" >1</th>\n",
              "                        <td id=\"T_3e243716_1e6d_11eb_98db_0242ac1c0002row1_col0\" class=\"data row1 col0\" >71</td>\n",
              "                        <td id=\"T_3e243716_1e6d_11eb_98db_0242ac1c0002row1_col1\" class=\"data row1 col1\" >55</td>\n",
              "                        <td id=\"T_3e243716_1e6d_11eb_98db_0242ac1c0002row1_col2\" class=\"data row1 col2\" >83</td>\n",
              "            </tr>\n",
              "            <tr>\n",
              "                        <th id=\"T_3e243716_1e6d_11eb_98db_0242ac1c0002level0_row2\" class=\"row_heading level0 row2\" >2</th>\n",
              "                        <td id=\"T_3e243716_1e6d_11eb_98db_0242ac1c0002row2_col0\" class=\"data row2 col0\" >5</td>\n",
              "                        <td id=\"T_3e243716_1e6d_11eb_98db_0242ac1c0002row2_col1\" class=\"data row2 col1\" >8</td>\n",
              "                        <td id=\"T_3e243716_1e6d_11eb_98db_0242ac1c0002row2_col2\" class=\"data row2 col2\" >15</td>\n",
              "            </tr>\n",
              "            <tr>\n",
              "                        <th id=\"T_3e243716_1e6d_11eb_98db_0242ac1c0002level0_row3\" class=\"row_heading level0 row3\" >3</th>\n",
              "                        <td id=\"T_3e243716_1e6d_11eb_98db_0242ac1c0002row3_col0\" class=\"data row3 col0\" >3</td>\n",
              "                        <td id=\"T_3e243716_1e6d_11eb_98db_0242ac1c0002row3_col1\" class=\"data row3 col1\" >1</td>\n",
              "                        <td id=\"T_3e243716_1e6d_11eb_98db_0242ac1c0002row3_col2\" class=\"data row3 col2\" >12</td>\n",
              "            </tr>\n",
              "            <tr>\n",
              "                        <th id=\"T_3e243716_1e6d_11eb_98db_0242ac1c0002level0_row4\" class=\"row_heading level0 row4\" >4</th>\n",
              "                        <td id=\"T_3e243716_1e6d_11eb_98db_0242ac1c0002row4_col0\" class=\"data row4 col0\" >0</td>\n",
              "                        <td id=\"T_3e243716_1e6d_11eb_98db_0242ac1c0002row4_col1\" class=\"data row4 col1\" >0</td>\n",
              "                        <td id=\"T_3e243716_1e6d_11eb_98db_0242ac1c0002row4_col2\" class=\"data row4 col2\" >18</td>\n",
              "            </tr>\n",
              "            <tr>\n",
              "                        <th id=\"T_3e243716_1e6d_11eb_98db_0242ac1c0002level0_row5\" class=\"row_heading level0 row5\" >5</th>\n",
              "                        <td id=\"T_3e243716_1e6d_11eb_98db_0242ac1c0002row5_col0\" class=\"data row5 col0\" >0</td>\n",
              "                        <td id=\"T_3e243716_1e6d_11eb_98db_0242ac1c0002row5_col1\" class=\"data row5 col1\" >0</td>\n",
              "                        <td id=\"T_3e243716_1e6d_11eb_98db_0242ac1c0002row5_col2\" class=\"data row5 col2\" >5</td>\n",
              "            </tr>\n",
              "            <tr>\n",
              "                        <th id=\"T_3e243716_1e6d_11eb_98db_0242ac1c0002level0_row6\" class=\"row_heading level0 row6\" >8</th>\n",
              "                        <td id=\"T_3e243716_1e6d_11eb_98db_0242ac1c0002row6_col0\" class=\"data row6 col0\" >0</td>\n",
              "                        <td id=\"T_3e243716_1e6d_11eb_98db_0242ac1c0002row6_col1\" class=\"data row6 col1\" >0</td>\n",
              "                        <td id=\"T_3e243716_1e6d_11eb_98db_0242ac1c0002row6_col2\" class=\"data row6 col2\" >7</td>\n",
              "            </tr>\n",
              "    </tbody></table>"
            ],
            "text/plain": [
              "<pandas.io.formats.style.Styler at 0x7f80a7c91ef0>"
            ]
          },
          "metadata": {
            "tags": []
          },
          "execution_count": 128
        }
      ]
    },
    {
      "cell_type": "markdown",
      "metadata": {
        "id": "Dntq95wnGqR5"
      },
      "source": [
        "**Observations:**  \n",
        "The barplot and factorplot shows that if a passenger is alone onboard with no siblings, he have 34.5% survival rate. The graph roughly decreases if the number of siblings increase. This makes sense. That is, if I have a family on board, I will try to save them instead of saving myself first.  \n",
        "Surprisingly the survival for families with 5-8 memvers is 0%. The reason maybe Pclass?  \n",
        "<br>\n",
        "The reason is Pclass. The crosstab shows that Person with SipSp > 3 were all in Pclass 3. It is imminent that all the large families in Pclass3(> 3) died."
      ]
    },
    {
      "cell_type": "markdown",
      "metadata": {
        "id": "gwCXGYLxHc_Q"
      },
      "source": [
        "*** Parch**"
      ]
    },
    {
      "cell_type": "code",
      "metadata": {
        "id": "3yTUV3rDI_uQ",
        "outputId": "d291df9c-c5d2-4a79-ce93-24c358cb8cf1",
        "colab": {
          "base_uri": "https://localhost:8080/",
          "height": 205
        }
      },
      "source": [
        "pd.crosstab(train.Parch,train.Pclass).style.background_gradient(cmap='summer_r')"
      ],
      "execution_count": null,
      "outputs": [
        {
          "output_type": "execute_result",
          "data": {
            "text/html": [
              "<style  type=\"text/css\" >\n",
              "#T_c6af9908_1e6e_11eb_98db_0242ac1c0002row0_col0,#T_c6af9908_1e6e_11eb_98db_0242ac1c0002row0_col1,#T_c6af9908_1e6e_11eb_98db_0242ac1c0002row0_col2{\n",
              "            background-color:  #008066;\n",
              "            color:  #f1f1f1;\n",
              "        }#T_c6af9908_1e6e_11eb_98db_0242ac1c0002row1_col0{\n",
              "            background-color:  #cfe766;\n",
              "            color:  #000000;\n",
              "        }#T_c6af9908_1e6e_11eb_98db_0242ac1c0002row1_col1{\n",
              "            background-color:  #c2e066;\n",
              "            color:  #000000;\n",
              "        }#T_c6af9908_1e6e_11eb_98db_0242ac1c0002row1_col2{\n",
              "            background-color:  #dbed66;\n",
              "            color:  #000000;\n",
              "        }#T_c6af9908_1e6e_11eb_98db_0242ac1c0002row2_col0{\n",
              "            background-color:  #dfef66;\n",
              "            color:  #000000;\n",
              "        }#T_c6af9908_1e6e_11eb_98db_0242ac1c0002row2_col1{\n",
              "            background-color:  #e1f066;\n",
              "            color:  #000000;\n",
              "        }#T_c6af9908_1e6e_11eb_98db_0242ac1c0002row2_col2{\n",
              "            background-color:  #e3f166;\n",
              "            color:  #000000;\n",
              "        }#T_c6af9908_1e6e_11eb_98db_0242ac1c0002row3_col0,#T_c6af9908_1e6e_11eb_98db_0242ac1c0002row4_col1,#T_c6af9908_1e6e_11eb_98db_0242ac1c0002row5_col0,#T_c6af9908_1e6e_11eb_98db_0242ac1c0002row5_col1,#T_c6af9908_1e6e_11eb_98db_0242ac1c0002row6_col0,#T_c6af9908_1e6e_11eb_98db_0242ac1c0002row6_col1,#T_c6af9908_1e6e_11eb_98db_0242ac1c0002row6_col2{\n",
              "            background-color:  #ffff66;\n",
              "            color:  #000000;\n",
              "        }#T_c6af9908_1e6e_11eb_98db_0242ac1c0002row3_col1{\n",
              "            background-color:  #fcfe66;\n",
              "            color:  #000000;\n",
              "        }#T_c6af9908_1e6e_11eb_98db_0242ac1c0002row3_col2,#T_c6af9908_1e6e_11eb_98db_0242ac1c0002row4_col0,#T_c6af9908_1e6e_11eb_98db_0242ac1c0002row4_col2{\n",
              "            background-color:  #fefe66;\n",
              "            color:  #000000;\n",
              "        }#T_c6af9908_1e6e_11eb_98db_0242ac1c0002row5_col2{\n",
              "            background-color:  #fdfe66;\n",
              "            color:  #000000;\n",
              "        }</style><table id=\"T_c6af9908_1e6e_11eb_98db_0242ac1c0002\" ><thead>    <tr>        <th class=\"index_name level0\" >Pclass</th>        <th class=\"col_heading level0 col0\" >1</th>        <th class=\"col_heading level0 col1\" >2</th>        <th class=\"col_heading level0 col2\" >3</th>    </tr>    <tr>        <th class=\"index_name level0\" >Parch</th>        <th class=\"blank\" ></th>        <th class=\"blank\" ></th>        <th class=\"blank\" ></th>    </tr></thead><tbody>\n",
              "                <tr>\n",
              "                        <th id=\"T_c6af9908_1e6e_11eb_98db_0242ac1c0002level0_row0\" class=\"row_heading level0 row0\" >0</th>\n",
              "                        <td id=\"T_c6af9908_1e6e_11eb_98db_0242ac1c0002row0_col0\" class=\"data row0 col0\" >163</td>\n",
              "                        <td id=\"T_c6af9908_1e6e_11eb_98db_0242ac1c0002row0_col1\" class=\"data row0 col1\" >134</td>\n",
              "                        <td id=\"T_c6af9908_1e6e_11eb_98db_0242ac1c0002row0_col2\" class=\"data row0 col2\" >381</td>\n",
              "            </tr>\n",
              "            <tr>\n",
              "                        <th id=\"T_c6af9908_1e6e_11eb_98db_0242ac1c0002level0_row1\" class=\"row_heading level0 row1\" >1</th>\n",
              "                        <td id=\"T_c6af9908_1e6e_11eb_98db_0242ac1c0002row1_col0\" class=\"data row1 col0\" >31</td>\n",
              "                        <td id=\"T_c6af9908_1e6e_11eb_98db_0242ac1c0002row1_col1\" class=\"data row1 col1\" >32</td>\n",
              "                        <td id=\"T_c6af9908_1e6e_11eb_98db_0242ac1c0002row1_col2\" class=\"data row1 col2\" >55</td>\n",
              "            </tr>\n",
              "            <tr>\n",
              "                        <th id=\"T_c6af9908_1e6e_11eb_98db_0242ac1c0002level0_row2\" class=\"row_heading level0 row2\" >2</th>\n",
              "                        <td id=\"T_c6af9908_1e6e_11eb_98db_0242ac1c0002row2_col0\" class=\"data row2 col0\" >21</td>\n",
              "                        <td id=\"T_c6af9908_1e6e_11eb_98db_0242ac1c0002row2_col1\" class=\"data row2 col1\" >16</td>\n",
              "                        <td id=\"T_c6af9908_1e6e_11eb_98db_0242ac1c0002row2_col2\" class=\"data row2 col2\" >43</td>\n",
              "            </tr>\n",
              "            <tr>\n",
              "                        <th id=\"T_c6af9908_1e6e_11eb_98db_0242ac1c0002level0_row3\" class=\"row_heading level0 row3\" >3</th>\n",
              "                        <td id=\"T_c6af9908_1e6e_11eb_98db_0242ac1c0002row3_col0\" class=\"data row3 col0\" >0</td>\n",
              "                        <td id=\"T_c6af9908_1e6e_11eb_98db_0242ac1c0002row3_col1\" class=\"data row3 col1\" >2</td>\n",
              "                        <td id=\"T_c6af9908_1e6e_11eb_98db_0242ac1c0002row3_col2\" class=\"data row3 col2\" >3</td>\n",
              "            </tr>\n",
              "            <tr>\n",
              "                        <th id=\"T_c6af9908_1e6e_11eb_98db_0242ac1c0002level0_row4\" class=\"row_heading level0 row4\" >4</th>\n",
              "                        <td id=\"T_c6af9908_1e6e_11eb_98db_0242ac1c0002row4_col0\" class=\"data row4 col0\" >1</td>\n",
              "                        <td id=\"T_c6af9908_1e6e_11eb_98db_0242ac1c0002row4_col1\" class=\"data row4 col1\" >0</td>\n",
              "                        <td id=\"T_c6af9908_1e6e_11eb_98db_0242ac1c0002row4_col2\" class=\"data row4 col2\" >3</td>\n",
              "            </tr>\n",
              "            <tr>\n",
              "                        <th id=\"T_c6af9908_1e6e_11eb_98db_0242ac1c0002level0_row5\" class=\"row_heading level0 row5\" >5</th>\n",
              "                        <td id=\"T_c6af9908_1e6e_11eb_98db_0242ac1c0002row5_col0\" class=\"data row5 col0\" >0</td>\n",
              "                        <td id=\"T_c6af9908_1e6e_11eb_98db_0242ac1c0002row5_col1\" class=\"data row5 col1\" >0</td>\n",
              "                        <td id=\"T_c6af9908_1e6e_11eb_98db_0242ac1c0002row5_col2\" class=\"data row5 col2\" >5</td>\n",
              "            </tr>\n",
              "            <tr>\n",
              "                        <th id=\"T_c6af9908_1e6e_11eb_98db_0242ac1c0002level0_row6\" class=\"row_heading level0 row6\" >6</th>\n",
              "                        <td id=\"T_c6af9908_1e6e_11eb_98db_0242ac1c0002row6_col0\" class=\"data row6 col0\" >0</td>\n",
              "                        <td id=\"T_c6af9908_1e6e_11eb_98db_0242ac1c0002row6_col1\" class=\"data row6 col1\" >0</td>\n",
              "                        <td id=\"T_c6af9908_1e6e_11eb_98db_0242ac1c0002row6_col2\" class=\"data row6 col2\" >1</td>\n",
              "            </tr>\n",
              "    </tbody></table>"
            ],
            "text/plain": [
              "<pandas.io.formats.style.Styler at 0x7f80a7c91d30>"
            ]
          },
          "metadata": {
            "tags": []
          },
          "execution_count": 130
        }
      ]
    },
    {
      "cell_type": "markdown",
      "metadata": {
        "id": "BFuLTpDOJJHG"
      },
      "source": [
        "The crosstab again shows that larger families were in Pclass 3."
      ]
    },
    {
      "cell_type": "code",
      "metadata": {
        "id": "c0k5qxnYJMra",
        "outputId": "b9887813-bb2c-4c99-d143-0df914b08e50",
        "colab": {
          "base_uri": "https://localhost:8080/",
          "height": 345
        }
      },
      "source": [
        "f,ax=plt.subplots(1,2,figsize=(20,8))\n",
        "sns.barplot('Parch','Survived',data=train,ax=ax[0])\n",
        "ax[0].set_title('Parch vs Survived')\n",
        "sns.factorplot('Parch','Survived',data=train,ax=ax[1])\n",
        "ax[1].set_title('Parch vs Survived')\n",
        "plt.close(2)\n",
        "plt.show()"
      ],
      "execution_count": null,
      "outputs": [
        {
          "output_type": "display_data",
          "data": {
            "image/png": "[encoded data removed]",
            "text/plain": [
              "<Figure size 1440x576 with 2 Axes>"
            ]
          },
          "metadata": {
            "tags": [],
            "needs_background": "light"
          }
        }
      ]
    },
    {
      "cell_type": "markdown",
      "metadata": {
        "id": "ioBAyf0UI6j3"
      },
      "source": [
        "#### Part2: Feature Engineering and Data Cleaning\n",
        "1. Adding any few features\n",
        "2. Removing redundant features\n",
        "3. Converting features into suitable from for modiling"
      ]
    },
    {
      "cell_type": "markdown",
      "metadata": {
        "id": "k7joM2-9LM9G"
      },
      "source": [
        "#### Part3: Rredictive Modeling\n",
        "1. Running Basic Algorithms\n",
        "2. Cross Validation\n",
        "3. Ensembling\n",
        "4. Important Features Extraction"
      ]
    }
  ]
}