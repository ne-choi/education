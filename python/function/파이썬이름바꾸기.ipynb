{
 "cells": [
  {
   "cell_type": "code",
   "execution_count": 4,
   "metadata": {},
   "outputs": [],
   "source": [
    "import pandas as pd\n",
    "import numpy as np\n",
    "\n",
    "df = pd.read_excel(\"실습파일.xlsx\")"
   ]
  },
  {
   "cell_type": "code",
   "execution_count": 5,
   "metadata": {},
   "outputs": [
    {
     "name": "stdout",
     "output_type": "stream",
     "text": [
      "Index(['first', 'second', 'third', 'fourth', 'fifth'], dtype='object')\n",
      "first\n",
      "second\n",
      "third\n",
      "fourth\n",
      "fifth\n"
     ]
    }
   ],
   "source": [
    "print(df.columns)\n",
    "\n",
    "for column_name in df.columns:\n",
    "    print(column_name)"
   ]
  },
  {
   "cell_type": "code",
   "execution_count": 6,
   "metadata": {},
   "outputs": [
    {
     "data": {
      "text/plain": [
       "0         나은 안녕\n",
       "1            송이\n",
       "2    생크림 나은 케이크\n",
       "3         민지 안녕\n",
       "4         송이 상품\n",
       "5       천재송이 안녕\n",
       "6        민지 떡볶이\n",
       "7         민지 안녕\n",
       "8         민지네 집\n",
       "Name: first, dtype: object"
      ]
     },
     "execution_count": 6,
     "metadata": {},
     "output_type": "execute_result"
    }
   ],
   "source": [
    "df['first']"
   ]
  },
  {
   "cell_type": "code",
   "execution_count": 7,
   "metadata": {},
   "outputs": [
    {
     "name": "stdout",
     "output_type": "stream",
     "text": [
      "first\n",
      "0         나은 안녕\n",
      "1            송이\n",
      "2    생크림 나은 케이크\n",
      "3         민지 안녕\n",
      "4         송이 상품\n",
      "5       천재송이 안녕\n",
      "6        민지 떡볶이\n",
      "7         민지 안녕\n",
      "8         민지네 집\n",
      "Name: first, dtype: object\n",
      "==================\n",
      "second\n",
      "0          0\n",
      "1      나은 바이\n",
      "2    편한 민지 집\n",
      "3     민지 이종석\n",
      "4      나은 체리\n",
      "5     민지 떡볶이\n",
      "6          0\n",
      "7          0\n",
      "8          0\n",
      "Name: second, dtype: object\n",
      "==================\n",
      "third\n",
      "0        0\n",
      "1        0\n",
      "2    송이 딸기\n",
      "3     송이버섯\n",
      "4        0\n",
      "5    나은 체리\n",
      "6        0\n",
      "7        0\n",
      "8        0\n",
      "Name: third, dtype: object\n",
      "==================\n",
      "fourth\n",
      "0             0\n",
      "1             0\n",
      "2    맛있는 민지 파스타\n",
      "3    [대전] 송이 남자\n",
      "4             0\n",
      "5    생크림 나은 케이크\n",
      "6             0\n",
      "7             0\n",
      "8             0\n",
      "Name: fourth, dtype: object\n",
      "==================\n",
      "fifth\n",
      "0        0\n",
      "1        0\n",
      "2        0\n",
      "3    나은 안녕\n",
      "4        0\n",
      "5        0\n",
      "6        0\n",
      "7        0\n",
      "8        0\n",
      "Name: fifth, dtype: object\n",
      "==================\n"
     ]
    }
   ],
   "source": [
    "for column_name in df.columns:\n",
    "    print(column_name)\n",
    "    print(df[column_name])\n",
    "    print(\"==================\")"
   ]
  },
  {
   "cell_type": "code",
   "execution_count": 8,
   "metadata": {},
   "outputs": [
    {
     "data": {
      "text/plain": [
       "0     True\n",
       "1    False\n",
       "2     True\n",
       "3    False\n",
       "4    False\n",
       "5    False\n",
       "6    False\n",
       "7    False\n",
       "8    False\n",
       "Name: first, dtype: bool"
      ]
     },
     "execution_count": 8,
     "metadata": {},
     "output_type": "execute_result"
    }
   ],
   "source": [
    "df['first'].str.contains('나은')"
   ]
  },
  {
   "cell_type": "code",
   "execution_count": 9,
   "metadata": {},
   "outputs": [
    {
     "name": "stdout",
     "output_type": "stream",
     "text": [
      "first\n",
      "송이\n",
      "0    False\n",
      "1     True\n",
      "2    False\n",
      "3    False\n",
      "4     True\n",
      "5     True\n",
      "6    False\n",
      "7    False\n",
      "8    False\n",
      "Name: first, dtype: bool\n",
      "나은\n",
      "0     True\n",
      "1    False\n",
      "2     True\n",
      "3    False\n",
      "4    False\n",
      "5    False\n",
      "6    False\n",
      "7    False\n",
      "8    False\n",
      "Name: first, dtype: bool\n",
      "민지\n",
      "0    False\n",
      "1    False\n",
      "2    False\n",
      "3     True\n",
      "4    False\n",
      "5    False\n",
      "6     True\n",
      "7     True\n",
      "8     True\n",
      "Name: first, dtype: bool\n",
      "second\n",
      "송이\n",
      "0      NaN\n",
      "1    False\n",
      "2    False\n",
      "3    False\n",
      "4    False\n",
      "5    False\n",
      "6      NaN\n",
      "7      NaN\n",
      "8      NaN\n",
      "Name: second, dtype: object\n",
      "나은\n",
      "0      NaN\n",
      "1     True\n",
      "2    False\n",
      "3    False\n",
      "4     True\n",
      "5    False\n",
      "6      NaN\n",
      "7      NaN\n",
      "8      NaN\n",
      "Name: second, dtype: object\n",
      "민지\n",
      "0      NaN\n",
      "1    False\n",
      "2     True\n",
      "3     True\n",
      "4    False\n",
      "5     True\n",
      "6      NaN\n",
      "7      NaN\n",
      "8      NaN\n",
      "Name: second, dtype: object\n",
      "third\n",
      "송이\n",
      "0      NaN\n",
      "1      NaN\n",
      "2     True\n",
      "3     True\n",
      "4      NaN\n",
      "5    False\n",
      "6      NaN\n",
      "7      NaN\n",
      "8      NaN\n",
      "Name: third, dtype: object\n",
      "나은\n",
      "0      NaN\n",
      "1      NaN\n",
      "2    False\n",
      "3    False\n",
      "4      NaN\n",
      "5     True\n",
      "6      NaN\n",
      "7      NaN\n",
      "8      NaN\n",
      "Name: third, dtype: object\n",
      "민지\n",
      "0      NaN\n",
      "1      NaN\n",
      "2    False\n",
      "3    False\n",
      "4      NaN\n",
      "5    False\n",
      "6      NaN\n",
      "7      NaN\n",
      "8      NaN\n",
      "Name: third, dtype: object\n",
      "fourth\n",
      "송이\n",
      "0      NaN\n",
      "1      NaN\n",
      "2    False\n",
      "3     True\n",
      "4      NaN\n",
      "5    False\n",
      "6      NaN\n",
      "7      NaN\n",
      "8      NaN\n",
      "Name: fourth, dtype: object\n",
      "나은\n",
      "0      NaN\n",
      "1      NaN\n",
      "2    False\n",
      "3    False\n",
      "4      NaN\n",
      "5     True\n",
      "6      NaN\n",
      "7      NaN\n",
      "8      NaN\n",
      "Name: fourth, dtype: object\n",
      "민지\n",
      "0      NaN\n",
      "1      NaN\n",
      "2     True\n",
      "3    False\n",
      "4      NaN\n",
      "5    False\n",
      "6      NaN\n",
      "7      NaN\n",
      "8      NaN\n",
      "Name: fourth, dtype: object\n",
      "fifth\n",
      "송이\n",
      "0      NaN\n",
      "1      NaN\n",
      "2      NaN\n",
      "3    False\n",
      "4      NaN\n",
      "5      NaN\n",
      "6      NaN\n",
      "7      NaN\n",
      "8      NaN\n",
      "Name: fifth, dtype: object\n",
      "나은\n",
      "0     NaN\n",
      "1     NaN\n",
      "2     NaN\n",
      "3    True\n",
      "4     NaN\n",
      "5     NaN\n",
      "6     NaN\n",
      "7     NaN\n",
      "8     NaN\n",
      "Name: fifth, dtype: object\n",
      "민지\n",
      "0      NaN\n",
      "1      NaN\n",
      "2      NaN\n",
      "3    False\n",
      "4      NaN\n",
      "5      NaN\n",
      "6      NaN\n",
      "7      NaN\n",
      "8      NaN\n",
      "Name: fifth, dtype: object\n"
     ]
    }
   ],
   "source": [
    "list1 = ['송이', '나은', '민지']\n",
    "\n",
    "for column_name in df.columns:\n",
    "    print(column_name)\n",
    "    for list_name in list1:\n",
    "        print(list_name)\n",
    "        print(df[column_name].str.contains(list_name))"
   ]
  },
  {
   "cell_type": "code",
   "execution_count": 10,
   "metadata": {},
   "outputs": [
    {
     "name": "stdout",
     "output_type": "stream",
     "text": [
      "0         나은\n",
      "1         송이\n",
      "2         나은\n",
      "3      민지 안녕\n",
      "4      송이 상품\n",
      "5    천재송이 안녕\n",
      "6     민지 떡볶이\n",
      "7      민지 안녕\n",
      "8      민지네 집\n",
      "Name: first, dtype: object\n"
     ]
    }
   ],
   "source": [
    "df['first'] = df['first'].str.replace(r'(^.*나은.+$)', '나은')\n",
    "print(df['first'])"
   ]
  },
  {
   "cell_type": "code",
   "execution_count": 14,
   "metadata": {
    "scrolled": true
   },
   "outputs": [
    {
     "name": "stdout",
     "output_type": "stream",
     "text": [
      "     first   second  third      fourth  fifth\n",
      "0       나은        0      0           0      0\n",
      "1       송이    나은 바이      0           0      0\n",
      "2       나은  편한 민지 집  송이 딸기  맛있는 민지 파스타      0\n",
      "3    민지 안녕   민지 이종석   송이버섯  [대전] 송이 남자  나은 안녕\n",
      "4    송이 상품    나은 체리      0           0      0\n",
      "5  천재송이 안녕   민지 떡볶이  나은 체리  생크림 나은 케이크      0\n",
      "6   민지 떡볶이        0      0           0      0\n",
      "7    민지 안녕        0      0           0      0\n",
      "8    민지네 집        0      0           0      0\n",
      "==========================\n",
      "  first second third fourth fifth\n",
      "0    나은    NaN   NaN    NaN   NaN\n",
      "1    송이     나은   NaN    NaN   NaN\n",
      "2    나은     민지    송이     민지   NaN\n",
      "3    민지     민지    송이     송이    나은\n",
      "4    송이     나은   NaN    NaN   NaN\n",
      "5    송이     민지    나은     나은   NaN\n",
      "6    민지    NaN   NaN    NaN   NaN\n",
      "7    민지    NaN   NaN    NaN   NaN\n",
      "8    민지    NaN   NaN    NaN   NaN\n",
      "=========================\n"
     ]
    }
   ],
   "source": [
    "list1 = ['나은','송이','민지']\n",
    "\n",
    "print(df)\n",
    "print('==========================')\n",
    "\n",
    "for column_name in df.columns:\n",
    "    for list_name in list1:\n",
    "        df[column_name] = df[column_name].str.replace(r'(^.*'+list_name+'.+$)', list_name)\n",
    "        \n",
    "print(df)\n",
    "print('=========================')"
   ]
  },
  {
   "cell_type": "code",
   "execution_count": null,
   "metadata": {},
   "outputs": [],
   "source": []
  }
 ],
 "metadata": {
  "kernelspec": {
   "display_name": "Python 3",
   "language": "python",
   "name": "python3"
  },
  "language_info": {
   "codemirror_mode": {
    "name": "ipython",
    "version": 3
   },
   "file_extension": ".py",
   "mimetype": "text/x-python",
   "name": "python",
   "nbconvert_exporter": "python",
   "pygments_lexer": "ipython3",
   "version": "3.8.3"
  }
 },
 "nbformat": 4,
 "nbformat_minor": 4
}
