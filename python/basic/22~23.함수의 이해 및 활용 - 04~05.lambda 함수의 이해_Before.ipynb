{
 "cells": [
  {
   "cell_type": "markdown",
   "metadata": {},
   "source": [
    "\n",
    "\n",
    "### 학습목표\n",
    " 2. Lambda 함수 이해 및 사용"
   ]
  },
  {
   "cell_type": "markdown",
   "metadata": {},
   "source": [
    "* **Lambda 함수**\n",
    " + 단일문으로 표현되는 익명함수\n",
    " + 익명함수란 이름이 없는 구현체만 존재하는 간단한 함수를 의미\n",
    " + 코드 상에서 한번만 사용되는 기능이 있을 때, 굳이 함수로 만들지 않고 **1회성으로 만들어서 쓸 때** 사용"
   ]
  },
  {
   "cell_type": "code",
   "execution_count": 1,
   "metadata": {},
   "outputs": [
    {
     "data": {
      "text/plain": [
       "25"
      ]
     },
     "execution_count": 1,
     "metadata": {},
     "output_type": "execute_result"
    }
   ],
   "source": [
    "def square2(x):\n",
    "    return x**2\n",
    "\n",
    "square2(5)"
   ]
  },
  {
   "cell_type": "code",
   "execution_count": 2,
   "metadata": {},
   "outputs": [
    {
     "data": {
      "text/plain": [
       "25"
      ]
     },
     "execution_count": 2,
     "metadata": {},
     "output_type": "execute_result"
    }
   ],
   "source": [
    "square = lambda x:x**2\n",
    "# 앞의 x가 뒤의 square2(x)의 x\n",
    "square(5)"
   ]
  },
  {
   "cell_type": "code",
   "execution_count": 3,
   "metadata": {},
   "outputs": [
    {
     "data": {
      "text/plain": [
       "30"
      ]
     },
     "execution_count": 3,
     "metadata": {},
     "output_type": "execute_result"
    }
   ],
   "source": [
    "def add(x, y):\n",
    "    return x + y\n",
    "\n",
    "add2 = lambda x,y:x+y\n",
    "add2(10, 20)"
   ]
  },
  {
   "cell_type": "code",
   "execution_count": 4,
   "metadata": {},
   "outputs": [
    {
     "data": {
      "text/plain": [
       "5"
      ]
     },
     "execution_count": 4,
     "metadata": {},
     "output_type": "execute_result"
    }
   ],
   "source": [
    "def str_len(s):\n",
    "    return len(s)\n",
    "\n",
    "str_len('goods')"
   ]
  },
  {
   "cell_type": "code",
   "execution_count": 5,
   "metadata": {},
   "outputs": [
    {
     "name": "stdout",
     "output_type": "stream",
     "text": [
      "['bob', 'teddy', 'charles', 'alexander3']\n"
     ]
    }
   ],
   "source": [
    "strings = ['bob', 'charles', 'alexander3', 'teddy']\n",
    "# strings.sort(key=str_len)\n",
    "strings.sort(key=lambda s:len(s))\n",
    "\n",
    "print(strings)"
   ]
  },
  {
   "cell_type": "markdown",
   "metadata": {},
   "source": [
    "#### **filter, map, reduce**\n",
    " + lambda가 유용하게 사용되는 3가지 대표적 함수\n",
    " + 함수형 프로그래밍의 기본 요소이기도 함\n",
    " + filter : 특정 조건을 만족하는 요소만 남기고 필터링\n",
    " + map    : 각 원소를 주어진 수식에 따라 변형하여 새로운 리스트를 반환\n",
    " + reduce : 차례대로 앞 2개의 원소를 가지고 연산. 연산의 결과가 또 다음 연산의 입력으로 진행됨. 따라서 마지막까지 진행되면 최종 출력은 한개의 값만 남게 됨"
   ]
  },
  {
   "cell_type": "code",
   "execution_count": 6,
   "metadata": {},
   "outputs": [
    {
     "data": {
      "text/plain": [
       "False"
      ]
     },
     "execution_count": 6,
     "metadata": {},
     "output_type": "execute_result"
    }
   ],
   "source": [
    "def even(n):\n",
    "    return n % 2 == 0\n",
    "\n",
    "even(3)"
   ]
  },
  {
   "cell_type": "code",
   "execution_count": 7,
   "metadata": {},
   "outputs": [
    {
     "data": {
      "text/plain": [
       "[2, 6, 8, 10]"
      ]
     },
     "execution_count": 7,
     "metadata": {},
     "output_type": "execute_result"
    }
   ],
   "source": [
    "nums = [1, 2, 3, 6, 8, 9, 10, 11, 13, 15]\n",
    "\n",
    "list(filter(lambda n:n%2==0, nums))"
   ]
  },
  {
   "cell_type": "code",
   "execution_count": 8,
   "metadata": {},
   "outputs": [
    {
     "data": {
      "text/plain": [
       "[1, 4, 9, 36, 64, 81, 100, 121, 169, 225]"
      ]
     },
     "execution_count": 8,
     "metadata": {},
     "output_type": "execute_result"
    }
   ],
   "source": [
    "# map\n",
    "# 주어진 리스트, 리스트의 제곱을한 숫자로 새로운 리스트\n",
    "nums = [1, 2, 3, 6, 8, 9, 10, 11, 13, 15]\n",
    "list(map(lambda n:n**2, nums))"
   ]
  },
  {
   "cell_type": "code",
   "execution_count": 10,
   "metadata": {},
   "outputs": [
    {
     "data": {
      "text/plain": [
       "[False, True, False, True, True, False, True, False, False, False]"
      ]
     },
     "execution_count": 10,
     "metadata": {},
     "output_type": "execute_result"
    }
   ],
   "source": [
    "list(map(lambda n:n%2==0, nums))"
   ]
  },
  {
   "cell_type": "code",
   "execution_count": 11,
   "metadata": {},
   "outputs": [
    {
     "data": {
      "text/plain": [
       "120"
      ]
     },
     "execution_count": 11,
     "metadata": {},
     "output_type": "execute_result"
    }
   ],
   "source": [
    "import functools\n",
    "\n",
    "a = [1, 3, 5, 8]\n",
    "# 리스트 내의 모든 숫자의 합\n",
    "\n",
    "functools.reduce(lambda x,y:x*y, a)"
   ]
  },
  {
   "cell_type": "markdown",
   "metadata": {},
   "source": [
    "\n",
    "#### 함수 연습문제\n",
    " 1. 주어진 숫자 리스트의 평균을 구하는 함수를 출력하시오\n",
    " 1. 해당 숫자가 소수인지 아닌지 판별하시오.\n",
    " 2. 2부터 해당 숫자사이에 소수가 몇개인지 출력하는 함수를 구하시오 "
   ]
  },
  {
   "cell_type": "code",
   "execution_count": null,
   "metadata": {},
   "outputs": [],
   "source": []
  }
 ],
 "metadata": {
  "kernelspec": {
   "display_name": "Python 3",
   "language": "python",
   "name": "python3"
  },
  "language_info": {
   "codemirror_mode": {
    "name": "ipython",
    "version": 3
   },
   "file_extension": ".py",
   "mimetype": "text/x-python",
   "name": "python",
   "nbconvert_exporter": "python",
   "pygments_lexer": "ipython3",
   "version": "3.8.3"
  }
 },
 "nbformat": 4,
 "nbformat_minor": 1
}
