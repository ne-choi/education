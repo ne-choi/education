{
 "cells": [
  {
   "cell_type": "markdown",
   "metadata": {},
   "source": [
    "# Ⅳ. 제어 문장 1\n",
    "## 1. 조건문(if else)\n",
    "### 제어 문장\n",
    "- Sequence (순차)\n",
    "- Selecton (선택) - 조건문\n",
    "  - if else, if elif\n",
    "- Repetition (반복) - 조건문\n",
    "  - loop: for, while\n",
    "  \n",
    "\n",
    "### 조건문 공부가 필요한 이유\n",
    "\n",
    "- 예제: 일상 생활 문제_성적처리\n",
    "  1. 성적자료를 입력 받아 변수에 저장\n",
    "     - 변수 선언 (python101)\n",
    "     - 입력 함수: input 함수 (int형으로 입력 받기)\n",
    "  2. 점수에 따라 학점을 계산하기 위해 필요한 연산자\n",
    "     - 관계 연산자: (python101 >= 90)\n",
    "  3. 조건에 따라 프로그램의 흐름을 제어하는 명령어\n",
    "     - 조건 명령어: if else\n",
    "     - 여러 조건 비교 명령어: if elif"
   ]
  },
  {
   "cell_type": "markdown",
   "metadata": {},
   "source": [
    "### 조건문_if\n",
    "- 조건의 결과(참 or 거짓)에 따라 프로그램 흐름을 제어하는 문장\n",
    "- 어떤 조건을 만족하면 그에 해당하는 일이 처리되는 문장\n",
    "\n",
    "```\n",
    "if (expression):\n",
    "        statement1\n",
    "\n",
    "next_statement\n",
    "```\n",
    "\n",
    "- 조건문의 결과가 참(True)이면 A를 수행\n",
    "```\n",
    "if 조건문:\n",
    "---→수행할 문장 1\n",
    "---→수행할 문장 2\n",
    "     ...  ...\n",
    "---→수행할 문장 n\n",
    "```\n",
    "\n",
    "- 블록(Block)\n",
    "  - 여러 코드가 이루는 일정한 구역\n",
    "  - python의 경우, 들여쓰기로 구역을 나눔\n",
    "  - 들여쓰기는 스페이스나 탭을 사용\n",
    "    - 스페이스 4칸 사용 권장\n",
    "\n",
    "\n",
    "### 조건문_if else\n",
    "- 조건의 결과가 참(True)이면 if문 바로 다음 문장(if 블록)들을 수행\n",
    "- 조건의 결과가 거짓(False)이면 else문 다음의 문장(else 블록)들을 수행\n",
    "```\n",
    "if 조건문:\n",
    "    수행할 문장 1\n",
    "    수행할 문장 2\n",
    "else:\n",
    "    수행할 문장 A\n",
    "    수행할 문장 B\n",
    "```"
   ]
  },
  {
   "cell_type": "code",
   "execution_count": 2,
   "metadata": {},
   "outputs": [
    {
     "name": "stdout",
     "output_type": "stream",
     "text": [
      "거짓\n",
      "100보다 크거나 같다\n",
      "프로그램 끝\n"
     ]
    }
   ],
   "source": [
    "a = 200\n",
    "\n",
    "if a < 100:\n",
    "    print(\"참\")\n",
    "    print(\"100보다 작다\")\n",
    "else:\n",
    "    print(\"거짓\")\n",
    "    print(\"100보다 크거나 같다\")\n",
    "\n",
    "print(\"프로그램 끝\")"
   ]
  },
  {
   "cell_type": "markdown",
   "metadata": {},
   "source": [
    "### 조건문_중첩 if\n",
    "```\n",
    "if 조건 A:\n",
    "    if 조건 1: \n",
    "        수행할 문장 A1\n",
    "    else:\n",
    "        수행할 문장 A2\n",
    "else:\n",
    "    수행할 문장 B\n",
    "```\n",
    "\n",
    "- 예제  \n",
    "마트에 사과가 신선하면 사과를 사기로 한다. 만약 사과가 개당 1,000원 미만이면 10개를 산다. 하지만, 사과가 개당 1,000원 이상이면 5개만 산다."
   ]
  },
  {
   "cell_type": "code",
   "execution_count": 8,
   "metadata": {},
   "outputs": [
    {
     "name": "stdout",
     "output_type": "stream",
     "text": [
      "사과의 상태를 입력하시오: 안신선\n",
      "사과 1개의 가격을 입력하시오: 400\n",
      "사과를 사지 않는다.\n"
     ]
    }
   ],
   "source": [
    "appleQuality = input(\"사과의 상태를 입력하시오: \")\n",
    "applePrice = int(input(\"사과 1개의 가격을 입력하시오: \"))\n",
    "\n",
    "if appleQuality == \"신선\":\n",
    "    if applePrice < 1000:\n",
    "        print(\"10개를 산다.\")\n",
    "    else:\n",
    "        print(\"5개를 산다.\")\n",
    "else:\n",
    "    print(\"사과를 사지 않는다.\")"
   ]
  },
  {
   "cell_type": "markdown",
   "metadata": {},
   "source": [
    "### 조건문_if elif\n",
    "- 여러 개의 조건을 비교하여 조건에 맞는 문장 수행\n",
    "```\n",
    "if 조건 A:\n",
    "    수행할 문장 A\n",
    "elif 조건 B:\n",
    "    수행할 문장 B\n",
    "elif 조건 C:\n",
    "    수행할 문장 C\n",
    "else:\n",
    "```\n",
    "\n",
    "- 예제  \n",
    "1개의 정수를 입력 받아 양수, 0 , 음수를 판별"
   ]
  },
  {
   "cell_type": "code",
   "execution_count": 10,
   "metadata": {},
   "outputs": [
    {
     "name": "stdout",
     "output_type": "stream",
     "text": [
      "정수를 입력하시오: -4\n",
      "입력된 정수는 음수입니다.\n"
     ]
    }
   ],
   "source": [
    "number = int(input(\"정수를 입력하시오: \"))\n",
    "\n",
    "if number < 0:\n",
    "    print(\"입력된 정수는 음수입니다.\")\n",
    "elif number == 0:\n",
    "    print(\"입력된 정수는 0입니다.\")\n",
    "else:\n",
    "    print(\"입력된 정수는 양수입니다.\")"
   ]
  },
  {
   "cell_type": "markdown",
   "metadata": {},
   "source": [
    "## 2. 조건문 실습\n",
    "\n",
    "- 성적 처리 예제 실습"
   ]
  },
  {
   "cell_type": "code",
   "execution_count": 11,
   "metadata": {},
   "outputs": [
    {
     "name": "stdout",
     "output_type": "stream",
     "text": [
      "python 점수를 입력하세요: 80\n",
      "파이썬 프로그래밍 학점은 B입니다.\n",
      "고생하셨습니다!\n"
     ]
    }
   ],
   "source": [
    "python101 = int(input(\"python 점수를 입력하세요: \"))\n",
    "\n",
    "if python101 >= 90:\n",
    "    print(\"파이썬 프로그래밍 학점은 A입니다.\")\n",
    "elif python101 >= 80:\n",
    "    print(\"파이썬 프로그래밍 학점은 B입니다.\")\n",
    "elif python101 >= 70:\n",
    "    print(\"파이썬 프로그래밍 학점은 C입니다.\")\n",
    "elif python101 >= 60:\n",
    "    print(\"파이썬 프로그래밍 학점은 D입니다.\")\n",
    "else:\n",
    "    print(\"파이썬 프로그래밍 학점은 F입니다.\")\n",
    "    \n",
    "print(\"고생하셨습니다!\")"
   ]
  },
  {
   "cell_type": "markdown",
   "metadata": {},
   "source": [
    "- 가위바위보 게임 예제 실습\n",
    "  1. 난수 생성 (컴퓨터의 가위바위보 선택을 위해)\n",
    "     - 라이브러리 함수 활용(import random)\n",
    "  2. 사용자 선택 변수를 입력 받아 변수에 저장\n",
    "     - 변수 선언(player)\n",
    "     - 입력 함수: input 함수\n",
    "  3. 조건에 따라 난수 생성\n",
    "     - 난수 함수 활용 (number = random.randint(0,2))\n",
    "  4. 생성된 난수를 활용해 가위바위보 게임 알고리즘 만들기\n",
    "     - 게임 규칙에 따라\n",
    "     - 여러 조건에 따라 수행되는 문장 만들기 (if elif)"
   ]
  },
  {
   "cell_type": "code",
   "execution_count": 18,
   "metadata": {},
   "outputs": [
    {
     "name": "stdout",
     "output_type": "stream",
     "text": [
      "(가위, 바위, 보) 중 하나를 선택하세요: 가위\n",
      "사용자:  가위 컴퓨터:  바위\n",
      "컴퓨터 승\n"
     ]
    }
   ],
   "source": [
    "import random # 난수 생성\n",
    "\n",
    "player = input(\"(가위, 바위, 보) 중 하나를 선택하세요: \")\n",
    "\n",
    "number = random.randint(0,2) # 정수 난수 0,1,2 중 1개 생성\n",
    "if number == 0:\n",
    "    computer = \"가위\"\n",
    "elif number == 1:\n",
    "    computer = \"바위\"\n",
    "elif number == 2:\n",
    "     computer = \"보\"\n",
    "        \n",
    "print(\"사용자: \", player, \"컴퓨터: \", computer)\n",
    "\n",
    "if player == computer:\n",
    "    print(\"비겼음\")\n",
    "elif player == \"가위\":\n",
    "    if computer == \"바위\":\n",
    "        print(\"컴퓨터 승\")\n",
    "    else:\n",
    "        print(\"사용자 승\")\n",
    "elif player == \"바위\":\n",
    "    if computer == \"보\":\n",
    "        print(\"컴퓨터 승\")\n",
    "    else:\n",
    "        print(\"사용자 승\")\n",
    "elif player == \"보\":\n",
    "    if computer == \"가위\":\n",
    "        print(\"컴퓨터 승\")\n",
    "    else:\n",
    "        print(\"사용자 승\")"
   ]
  },
  {
   "cell_type": "code",
   "execution_count": 17,
   "metadata": {},
   "outputs": [
    {
     "name": "stdout",
     "output_type": "stream",
     "text": [
      "컴퓨터 승\n"
     ]
    }
   ],
   "source": []
  },
  {
   "cell_type": "code",
   "execution_count": null,
   "metadata": {},
   "outputs": [],
   "source": []
  }
 ],
 "metadata": {
  "kernelspec": {
   "display_name": "Python 3",
   "language": "python",
   "name": "python3"
  },
  "language_info": {
   "codemirror_mode": {
    "name": "ipython",
    "version": 3
   },
   "file_extension": ".py",
   "mimetype": "text/x-python",
   "name": "python",
   "nbconvert_exporter": "python",
   "pygments_lexer": "ipython3",
   "version": "3.8.3"
  }
 },
 "nbformat": 4,
 "nbformat_minor": 4
}
