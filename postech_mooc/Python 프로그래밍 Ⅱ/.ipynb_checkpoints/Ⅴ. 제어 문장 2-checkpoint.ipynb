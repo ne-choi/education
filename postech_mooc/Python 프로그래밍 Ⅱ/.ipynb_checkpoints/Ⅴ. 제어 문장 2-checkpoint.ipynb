{
 "cells": [
  {
   "cell_type": "markdown",
   "metadata": {},
   "source": [
    "- POSTECH에서 제공하는 [MOOC](https://pabi.smartlearn.io/) 중, Python 프로그래밍 Ⅱ 과정입니다. \n",
    "\n",
    "# Ⅴ. 제어 문장 2\n",
    "## 1. 반복문(for, while)\n",
    "\n",
    "### 제어문(Control statements) 종류\n",
    "- 조건문: 조건에 따라 프로그램 흐름을 제어하는 명령문\n",
    "  - if, if elif\n",
    "- 반복문: 조건에 따라 정해진 문장을 반복 수행하는 명령문\n",
    "  - for, while\n",
    "- 분기문(Jump Statements)\n",
    "  - return, break, continue\n",
    "  \n",
    "\n",
    "### Computational Thinking\n",
    "- 컴퓨팅 사고력: 컴퓨터가 문제를 해결하는 방식을 현실 문제 해결에 적용하는 것\n",
    "  - 추상화: 실제 세계 문제를 해결 가능한 형태로 표현하기 위한 사고 과정\n",
    "  - 자동화: 추상화 과정에서 만들어진 해결 모델을 컴퓨터가 이해할 수 있는 프로그래밍 언어로 표현하는 것\n",
    "  \n",
    "\n",
    "### for\n",
    "- 반복적이고 지루한 작업을 컴퓨터를 이용해 자동화\n",
    "- for: 리스트나 튜플, 문자열의 첫 번째 요소부터 마지막 요소까지 차례로 변수에 대입되어 \"수행할 문장 1\", \"수행할 문장 2\" 등 수행\n",
    "\n",
    "```\n",
    "for 변수 in 리스트(or 튜플, 문자열):\n",
    "    수행할 문장 1\n",
    "    수행할 문장 2\n",
    "    ...\n",
    "```\n",
    "\n",
    "### 참고: range() 함수\n",
    "```\n",
    "range([start,] stop [,step]) # [] 생략 가능\n",
    "```\n",
    "- range(start, stop)과 같이 호출하면 start부터 시작해서 (stop-1)까지의 정수 생성\n",
    "- stop은 포함되지 않음\n",
    "- start부터 stop-1까지 step 간격으로 정수 생성\n",
    "- range(10): 0부터 9까지의 정수가 생성\n",
    "\n",
    "```\n",
    "range(start, stop, step)\n",
    "```\n",
    "- 지정된 범위 값을 반환\n",
    "- 특정 구간의 정수 생성 가능"
   ]
  },
  {
   "cell_type": "code",
   "execution_count": 1,
   "metadata": {},
   "outputs": [
    {
     "name": "stdout",
     "output_type": "stream",
     "text": [
      "Hello Python~!!\n",
      "Hello Python~!!\n",
      "Hello Python~!!\n",
      "Hello Python~!!\n",
      "Hello Python~!!\n"
     ]
    }
   ],
   "source": [
    "for x in range(5):\n",
    "    print(\"Hello Python~!!\")"
   ]
  },
  {
   "cell_type": "code",
   "execution_count": 2,
   "metadata": {},
   "outputs": [
    {
     "name": "stdout",
     "output_type": "stream",
     "text": [
      "안녕! 나은\n",
      "안녕! 선호\n"
     ]
    }
   ],
   "source": [
    "## 리스트형\n",
    "for name in [\"나은\", \"선호\"]:\n",
    "    print(\"안녕! \" + name)"
   ]
  },
  {
   "cell_type": "markdown",
   "metadata": {},
   "source": [
    "### while\n",
    "- 조건의 결과(참 or 거짓)에 따라 특정 부분 처리를 반복 실행하는 제어문장\n",
    "- 조건문이 참인 동안 while문 아래에 속하는 문장들이 반복하여 수행\n",
    "\n",
    "```\n",
    "while 조건문:\n",
    "    수행할 문장 1\n",
    "    수행할 문장 2\n",
    "    수행할 문장 3\n",
    "```"
   ]
  },
  {
   "cell_type": "code",
   "execution_count": 3,
   "metadata": {},
   "outputs": [
    {
     "name": "stdout",
     "output_type": "stream",
     "text": [
      "Hello 김선호 배우님\n",
      "Hello 김선호 배우님\n",
      "Hello 김선호 배우님\n",
      "Hello 김선호 배우님\n",
      "Hello 김선호 배우님\n",
      "반복이 종료되었습니다.\n"
     ]
    }
   ],
   "source": [
    "i = 0;\n",
    "while i <5:\n",
    "    print(\"Hello 김선호 배우님\")\n",
    "    i = i + 1\n",
    "print(\"반복이 종료되었습니다.\")"
   ]
  },
  {
   "cell_type": "markdown",
   "metadata": {},
   "source": [
    "### 분기문(Jump Statement)\n",
    "- 반복문 탈출하는 break문"
   ]
  },
  {
   "cell_type": "code",
   "execution_count": 4,
   "metadata": {},
   "outputs": [
    {
     "name": "stdout",
     "output_type": "stream",
     "text": [
      "for문을 1번 실행\n"
     ]
    }
   ],
   "source": [
    "for i in range(1,100):\n",
    "    print(\"for문을 %d번 실행\" % i)\n",
    "    break"
   ]
  },
  {
   "cell_type": "markdown",
   "metadata": {},
   "source": [
    "- 반복문으로 다시 돌아가는 continue문\n",
    "  - 블록 남은 부분을 건너 뛰고 무조건 처음으로 돌아감"
   ]
  },
  {
   "cell_type": "code",
   "execution_count": 6,
   "metadata": {},
   "outputs": [
    {
     "name": "stdout",
     "output_type": "stream",
     "text": [
      "1-100의 합계(3의 배수 제외): 3367\n"
     ]
    }
   ],
   "source": [
    "hap, i = 0,0\n",
    "for i in range(1,101):\n",
    "    if i % 3 == 0:\n",
    "        continue\n",
    "    hap += i\n",
    "\n",
    "print(\"1-100의 합계(3의 배수 제외): %d\" % hap)"
   ]
  },
  {
   "cell_type": "markdown",
   "metadata": {},
   "source": [
    "## 2. 반복문 실습\n",
    "### 정수들의 합\n",
    "- for문 사용\n",
    "- 1부터 사용자가 입력한 수 n까지 더하여 (1+2+3+...+n)을 계산하는 프로그램 작성"
   ]
  },
  {
   "cell_type": "code",
   "execution_count": 13,
   "metadata": {},
   "outputs": [
    {
     "name": "stdout",
     "output_type": "stream",
     "text": [
      "어디까지 계산할까요?: 50\n",
      "1부터  50 까지의 정수 합 = 1275\n"
     ]
    }
   ],
   "source": [
    "# 반복을 이용한 정수합 프로그램\n",
    "sum = 0 #sum을 저장할 수 있는 변수 생성\n",
    "\n",
    "limit = int(input(\"어디까지 계산할까요?: \"))\n",
    "for i in range(1, limit+1): #stop이 -1 되어 있기 때문에 +1 해줌\n",
    "    sum += i\n",
    "\n",
    "print(\"1부터 \",limit,\"까지의 정수 합 =\", sum) "
   ]
  },
  {
   "cell_type": "markdown",
   "metadata": {},
   "source": [
    "### 팩토리얼 계산\n",
    "- for문 사용\n",
    "- 팩토리얼 n!은 1부터 n까지 정수를 모두 곱한 것"
   ]
  },
  {
   "cell_type": "code",
   "execution_count": 14,
   "metadata": {},
   "outputs": [
    {
     "name": "stdout",
     "output_type": "stream",
     "text": [
      "정수를 입력하시오: 5\n",
      "5 !은 120.0 이다.\n"
     ]
    }
   ],
   "source": [
    "fact = 1.0 #초기값으로 실수를 넣음\n",
    "n = int(input(\"정수를 입력하시오: \"))\n",
    "\n",
    "for i in range(1, n+1): #range의 stop이 n-1이기 때문에 +1을 해줌\n",
    "    fact = fact * i;\n",
    "\n",
    "print(n,\"!은\", fact,\"이다.\")"
   ]
  },
  {
   "cell_type": "markdown",
   "metadata": {},
   "source": [
    "### 자리수의 합\n",
    "- 정수 안 각 자리수의 합을 계산하는 프로그램 작성\n",
    "- e.g. 1234 → 1+2+3+4"
   ]
  },
  {
   "cell_type": "code",
   "execution_count": 15,
   "metadata": {},
   "outputs": [
    {
     "name": "stdout",
     "output_type": "stream",
     "text": [
      "자리수의 합은 10입니다.\n"
     ]
    }
   ],
   "source": [
    "number = 1234\n",
    "sum = 0;\n",
    "while number > 0:\n",
    "    digit = number % 10\n",
    "    sum = sum + digit\n",
    "    number = number // 10\n",
    "print(\"자리수의 합은 %d입니다.\" % sum)"
   ]
  },
  {
   "cell_type": "code",
   "execution_count": 17,
   "metadata": {},
   "outputs": [
    {
     "name": "stdout",
     "output_type": "stream",
     "text": [
      "정수를 입력하시오: 555\n",
      "입력한 수는:  555\n",
      "자리수의 합은 15입니다.\n"
     ]
    }
   ],
   "source": [
    "number = int(input(\"정수를 입력하시오: \"))\n",
    "print(\"입력한 수는: \",number)\n",
    "\n",
    "sum = 0;\n",
    "while number > 0:\n",
    "    digit = number % 10\n",
    "    sum = sum + digit\n",
    "    number = number // 10\n",
    "print(\"자리수의 합은 %d입니다.\" % sum)"
   ]
  },
  {
   "cell_type": "markdown",
   "metadata": {},
   "source": [
    "### 숫자 맞추기 게임\n",
    "- 컴퓨터가 선택한 숫자를 사용자가 맞추는 게임\n",
    "- 입력한 숫자가 선택한 숫자보다 높은 수인지 낮은 수인지 정보 제공\n",
    "- 시도 횟수 제공"
   ]
  },
  {
   "cell_type": "code",
   "execution_count": 22,
   "metadata": {},
   "outputs": [
    {
     "name": "stdout",
     "output_type": "stream",
     "text": [
      "1부터 100 사이의 숫자를 맞추시오.\n",
      "숫자를 입력하시오: 55\n",
      "Down.\n",
      "정답은  51 입니다.\n"
     ]
    }
   ],
   "source": [
    "import random\n",
    "\n",
    "tries = 0\n",
    "number = random.randint(1,100) #1부터 100사이의 숫자를 랜덤으로 컴퓨터가 선택\n",
    "print(\"1부터 100 사이의 숫자를 맞추시오.\")\n",
    "\n",
    "while tries < 10: #시도횟수 제한: 10회\n",
    "    guess = int(input(\"숫자를 입력하시오: \"))\n",
    "    tries = tries + 199\n",
    "    if guess < number:\n",
    "        print(\"Up.\")\n",
    "    elif guess > number:\n",
    "        print(\"Down.\")\n",
    "    else:\n",
    "        break\n",
    "\n",
    "if guess == number:\n",
    "    print(\"축하합니다. 시도횟수: \", tries,\"회\")\n",
    "else:\n",
    "    print(\"정답은 \",number,\"입니다.\")"
   ]
  },
  {
   "cell_type": "markdown",
   "metadata": {},
   "source": [
    "### 커피 자판기\n",
    "- 수정 필요"
   ]
  },
  {
   "cell_type": "code",
   "execution_count": null,
   "metadata": {},
   "outputs": [],
   "source": [
    "coffee = int(input(\"커피 재고: \"))\n",
    "money = int(input(\"돈: \"))\n",
    "\n",
    "while money:\n",
    "    print(\"\\n돈을 받았으니 4000원 짜리 커피를 줍니다.\")\n",
    "    money = money - 4000\n",
    "    if money < 0:\n",
    "        print(\"커피를 구매할 수 없습니다.\")\n",
    "    if money >= 0:\n",
    "        print(\"커피를 1잔 구매했습니다. 남은 돈은 %d원입니다.\" % money)\n",
    "        coffee = coffee - 1 > 0\n",
    "        print(\"남은 커피의 양은 %d개입니다.\" % coffee)\n",
    "        coffee < 0\n",
    "        print(\"커피가 다 떨어졌습니다. 판매를 중지합니다.\")\n",
    "    if not money:\n",
    "        print(\"예산이 다 떨어졌습니다. 커피를 구매할 수 없습니다.\")\n",
    "        break"
   ]
  }
 ],
 "metadata": {
  "kernelspec": {
   "display_name": "Python 3",
   "language": "python",
   "name": "python3"
  },
  "language_info": {
   "codemirror_mode": {
    "name": "ipython",
    "version": 3
   },
   "file_extension": ".py",
   "mimetype": "text/x-python",
   "name": "python",
   "nbconvert_exporter": "python",
   "pygments_lexer": "ipython3",
   "version": "3.8.3"
  }
 },
 "nbformat": 4,
 "nbformat_minor": 4
}
