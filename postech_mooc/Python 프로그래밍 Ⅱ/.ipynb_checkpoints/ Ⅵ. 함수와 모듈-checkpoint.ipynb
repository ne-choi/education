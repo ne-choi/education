{
 "cells": [
  {
   "cell_type": "markdown",
   "metadata": {},
   "source": [
    "- POSTECH에서 제공하는 [MOOC](https://pabi.smartlearn.io/) 중, Python 프로그래밍 Ⅱ 과정입니다. \n",
    "\n",
    "# Ⅵ. 함수와 모듈\n",
    "## 1. 함수 개념\n",
    "\n",
    "### 함수의 개념\n",
    "- 함수(function)\n",
    "  - 독립적으로 수행하는 프로그램 단위로 특정 작업을 수행하는 명령어 모음에 이름 붙인 것\n",
    "  - 프로그램에서 반복적으로 수행되는 기능을 함수로 만들어 호출할 수 있음\n",
    "  - 함수는 작업에 필요한 데이터(매개변수)를 받을 수 있고, 작업 완료 후에는 작업 결과를 호출자에게 반환할 수 있음\n",
    "\n",
    "\n",
    "### 함수 정의_Python\n",
    "- 함수 정의는 def로 시작하고 콜론(:)으로 끝\n",
    "- 함수 시작과 끝은 코드의 들여쓰기로 구분\n",
    "- 시작과 끝 명시할 필요 없음\n",
    "\n",
    "```\n",
    "def 함수이름(입력 인수):\n",
    "    수행할 문장\n",
    "    ...\n",
    "    return 반환값\n",
    "```"
   ]
  },
  {
   "cell_type": "code",
   "execution_count": 3,
   "metadata": {},
   "outputs": [
    {
     "name": "stdout",
     "output_type": "stream",
     "text": [
      "add 결과:  20\n"
     ]
    }
   ],
   "source": [
    "def add(a,b):\n",
    "    return a+b\n",
    "\n",
    "print(\"add 결과: \",add(10,10))"
   ]
  },
  {
   "cell_type": "markdown",
   "metadata": {},
   "source": [
    "- 함수 정의\n",
    "```\n",
    "def add(a,b):\n",
    "    result = a + b\n",
    "    return result\n",
    "```\n",
    "\n",
    "- 함수 호출\n",
    "```\n",
    "sum = add(100,200)\n",
    "print(sum)\n",
    "```\n",
    "\n",
    "### 함수 매개변수와 반환값\n",
    "(함수 내 정의된 문장은 바로 실행되지 않음)  \n",
    "\n",
    "- 입력값, 반환값이 없는 함수"
   ]
  },
  {
   "cell_type": "code",
   "execution_count": 4,
   "metadata": {},
   "outputs": [],
   "source": [
    "def say():\n",
    "    print(\"hello\")"
   ]
  },
  {
   "cell_type": "markdown",
   "metadata": {},
   "source": [
    "- 입력값은 없고 반환값이 있는 함수"
   ]
  },
  {
   "cell_type": "code",
   "execution_count": 5,
   "metadata": {},
   "outputs": [],
   "source": [
    "def say():\n",
    "    return(\"hello\")"
   ]
  },
  {
   "cell_type": "markdown",
   "metadata": {},
   "source": [
    "### 함수 작성 예시\n",
    "- 정수 거듭제곱값을 계산하여 반환하는 함수 작성(** 연산자 사용 가능)"
   ]
  },
  {
   "cell_type": "code",
   "execution_count": 7,
   "metadata": {},
   "outputs": [
    {
     "name": "stdout",
     "output_type": "stream",
     "text": [
      "power 함수 실행:  100\n"
     ]
    }
   ],
   "source": [
    "def power(x,y):\n",
    "    result = 1\n",
    "    for i in range(y):\n",
    "        result = result * x\n",
    "    return result\n",
    "\n",
    "print(\"power 함수 실행: \",power(10,2))"
   ]
  },
  {
   "cell_type": "code",
   "execution_count": 8,
   "metadata": {},
   "outputs": [
    {
     "name": "stdout",
     "output_type": "stream",
     "text": [
      "100\n"
     ]
    }
   ],
   "source": [
    "## main() 함수 호출 활용\n",
    "def main():\n",
    "    print(power(10,2))\n",
    "\n",
    "def power(x,y):\n",
    "    result = 1\n",
    "    for i in range(y):\n",
    "        result = result * x\n",
    "    return result\n",
    "\n",
    "main()"
   ]
  },
  {
   "cell_type": "markdown",
   "metadata": {},
   "source": [
    "## 2. 함수 실습\n",
    "### 일상 생활 문제: 성적 처리\n",
    "\n",
    "- 문제\n",
    "  - 데이터: 점수\n",
    "  - 처리 기능: 총점, 정렬(두 수의 교환)\n",
    "\n",
    "- 처리\n",
    "  - 총점 계산(add())\n",
    "  - 총점으로 평균 계산\n",
    "  - 총점 반영하여 성적순 정렬\n",
    "  - 정렬 시, 두 변수의 값을 바꾸는 함수 필요(swap())\n",
    "    - a, b = b, a"
   ]
  },
  {
   "cell_type": "code",
   "execution_count": 13,
   "metadata": {},
   "outputs": [
    {
     "name": "stdout",
     "output_type": "stream",
     "text": [
      "정수 1 입력: 4\n",
      "정수 2 입력: 5\n",
      "두 수의 합:  9\n",
      "두 수의 평균:  4.5\n",
      "두 수 교환:  5 4\n"
     ]
    }
   ],
   "source": [
    "## 함수\n",
    "def add(a,b):\n",
    "    return a + b\n",
    "\n",
    "def swap(a,b):\n",
    "    a,b = b,a\n",
    "    return a,b\n",
    "\n",
    "## 시작코드\n",
    "a = int(input(\"정수 1 입력: \"))\n",
    "b = int(input(\"정수 2 입력: \"))\n",
    "sum = add(a,b)\n",
    "\n",
    "average=sum/2\n",
    "print(\"두 수의 합: \",sum)\n",
    "print(\"두 수의 평균: \",average)\n",
    "\n",
    "a,b=swap(a,b)\n",
    "print(\"두 수 교환: \",a,b)"
   ]
  }
 ],
 "metadata": {
  "kernelspec": {
   "display_name": "Python 3",
   "language": "python",
   "name": "python3"
  },
  "language_info": {
   "codemirror_mode": {
    "name": "ipython",
    "version": 3
   },
   "file_extension": ".py",
   "mimetype": "text/x-python",
   "name": "python",
   "nbconvert_exporter": "python",
   "pygments_lexer": "ipython3",
   "version": "3.8.3"
  }
 },
 "nbformat": 4,
 "nbformat_minor": 4
}
