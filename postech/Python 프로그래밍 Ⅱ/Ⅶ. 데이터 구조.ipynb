{
 "cells": [
  {
   "cell_type": "markdown",
   "metadata": {},
   "source": [
    "- POSTECH에서 제공하는 [MOOC](https://pabi.smartlearn.io/) 중, Python 프로그래밍 Ⅱ 과정입니다. \n",
    "\n",
    "# Ⅶ. 데이터 구조\n",
    "## 1. 리스트\n",
    "\n",
    "### 리스트란?\n",
    "- 리스트(list)는 여러 개의 데이터가 저장된 장소\n",
    "\n",
    "- 선언: [] 안에 쉼표로 구분하여 정보를 기입하면 됨\n",
    "```\n",
    "리스트 이름 = [값1, 값2, 값3]\n",
    "scores = [32, 56, 64, 72, 12, 37, 98, 77, 59, 69]\n",
    "```\n",
    "\n",
    "- 리스트는 여러 개 데이터를 하나의 이름으로 관리할 수 있는 데이터 구조\n",
    "- 서로 다른 타입의 데이터를 하나의 리스트 이름으로 관리할 수 있음\n",
    "\n",
    "- 리스트 종류\n",
    "  - 문자열 원소\n",
    "  - 숫자 원소\n",
    "  - 여러 타입 원소\n",
    "  - Empty list\n",
    "    - empty_list = []\n",
    "\n",
    "\n",
    "### 리스트 원소에 접근하기\n",
    "- 인덱스\n",
    "  - 원소가 배열된 순서 (0부터 시작_\n",
    "\n",
    "```\n",
    "season = ['spring', 'summer', 'fall', 'winter']\n",
    "```\n",
    "\n",
    "- 인덱스를 이용해 원소 접근 가능\n",
    "  - season[1]: 'summer'\n",
    "  \n",
    "\n",
    "### 리스트와 연산자\n",
    "- 'in' & 'not in'\n",
    "  - in: list의 element인가를 결정하는 연산자\n",
    "  - not it: list의 element가 아닌 element를 결정하는 연산자\n",
    "\n",
    "\n",
    "### 리스트 순회하기"
   ]
  },
  {
   "cell_type": "code",
   "execution_count": 1,
   "metadata": {},
   "outputs": [
    {
     "name": "stdout",
     "output_type": "stream",
     "text": [
      "32 56 64 72 12 37 98 77 59 69 "
     ]
    }
   ],
   "source": [
    "scores = [32, 56, 64, 72, 12, 37, 98, 77, 59, 69]\n",
    "\n",
    "for element in scores:\n",
    "    print(element, end=\" \") #end=\" \": 가로로 배열"
   ]
  },
  {
   "cell_type": "markdown",
   "metadata": {},
   "source": [
    "### 예제: 성적 처리 프로그램\n",
    "- 학생 성적 처리 프로그램 작성\n",
    "  - 사용자로부터 성적을 입력받아 리스트에 저장\n",
    "  - 성적 평균을 구하고 80점 이상 성적 받은 학생 수를 계산하여 출력"
   ]
  },
  {
   "cell_type": "code",
   "execution_count": 3,
   "metadata": {},
   "outputs": [
    {
     "name": "stdout",
     "output_type": "stream",
     "text": [
      "성적을 입력하세요: 40\n",
      "성적을 입력하세요: 80\n",
      "성적을 입력하세요: 50\n",
      "성적을 입력하세요: 70\n",
      "성적을 입력하세요: 90\n",
      "성적 평균은 66.0 입니다.\n",
      "80점 이상 성적을 받은 학생은 2 명입니다.\n"
     ]
    }
   ],
   "source": [
    "STUDENTS = 5\n",
    "\n",
    "scores = []\n",
    "scoreSum = 0\n",
    "\n",
    "for i in range(STUDENTS):\n",
    "    value = int(input(\"성적을 입력하세요: \"))\n",
    "    scores.append(value) #리스트에 값 추가\n",
    "    scoreSum += value\n",
    "\n",
    "scoreAvg = scoreSum / len(scores)\n",
    "highScoreStudents = 0\n",
    "for i in range(len(scores)):\n",
    "    if scores[i] >= 80:\n",
    "        highScoreStudents += 1\n",
    "\n",
    "print(\"성적 평균은\", scoreAvg, \"입니다.\")\n",
    "print(\"80점 이상 성적을 받은 학생은\", highScoreStudents,\"명입니다.\")"
   ]
  },
  {
   "cell_type": "markdown",
   "metadata": {},
   "source": [
    "### 예제: 문자열 처리 프로그램\n",
    "- 학생 이름을 저장했다가 출력하는 프로그램 작성"
   ]
  },
  {
   "cell_type": "code",
   "execution_count": 4,
   "metadata": {},
   "outputs": [
    {
     "name": "stdout",
     "output_type": "stream",
     "text": [
      "학생 이름을 입력하세요: 나은\n",
      "학생 이름을 입력하세요: 선호\n",
      "학생 이름을 입력하세요: 더는 안 돼\n",
      "학생 이름을 입력하세요: 더 없어\n",
      "학생 이름을 입력하세요: 둘이 끝이야\n",
      "학생 이름을 입력하세요: 안 돼\n",
      "학생 이름을 입력하세요: \n",
      "학생 이름:\n",
      "나은, 선호, 더는 안 돼, 더 없어, 둘이 끝이야, 안 돼, "
     ]
    }
   ],
   "source": [
    "Names = []\n",
    "while True:\n",
    "    name = input(\"학생 이름을 입력하세요: \")\n",
    "    if name == \"\":\n",
    "        break\n",
    "    Names.append(name)\n",
    "\n",
    "print(\"학생 이름:\")\n",
    "for name in Names:\n",
    "    print(name, end=\", \")"
   ]
  },
  {
   "cell_type": "markdown",
   "metadata": {},
   "source": [
    "## 2. 데이터 구조\n",
    "### 데이터 구조\n",
    "- 자료 구조(data structure)\n",
    "  - 프로그램에서 자료를 저장하는 여러 구조\n",
    "  - 파이썬: 리스트, 튜플, 딕셔너리, 문자열 등 제공\n",
    "\n",
    "### 리스트 예제: 연락처 관리 프로그램\n",
    "- 리스트 자료구조를 이용해 연락처를 관리하는 프로그램을 작성"
   ]
  },
  {
   "cell_type": "code",
   "execution_count": 10,
   "metadata": {},
   "outputs": [
    {
     "name": "stdout",
     "output_type": "stream",
     "text": [
      "---------------\n",
      "1. 친구 리스트 출력\n",
      "2. 친구 추가\n",
      "3. 친구 삭제\n",
      "4. 이름 변경\n",
      "9. 종료\n"
     ]
    },
    {
     "ename": "KeyboardInterrupt",
     "evalue": "Interrupted by user",
     "output_type": "error",
     "traceback": [
      "\u001b[1;31m---------------------------------------------------------------------------\u001b[0m",
      "\u001b[1;31mKeyboardInterrupt\u001b[0m                         Traceback (most recent call last)",
      "\u001b[1;32m<ipython-input-10-b5244f1bc6b3>\u001b[0m in \u001b[0;36m<module>\u001b[1;34m\u001b[0m\n\u001b[0;32m      9\u001b[0m     \u001b[0mprint\u001b[0m\u001b[1;33m(\u001b[0m\u001b[1;34m\"4. 이름 변경\"\u001b[0m\u001b[1;33m)\u001b[0m\u001b[1;33m\u001b[0m\u001b[1;33m\u001b[0m\u001b[0m\n\u001b[0;32m     10\u001b[0m     \u001b[0mprint\u001b[0m\u001b[1;33m(\u001b[0m\u001b[1;34m\"9. 종료\"\u001b[0m\u001b[1;33m)\u001b[0m\u001b[1;33m\u001b[0m\u001b[1;33m\u001b[0m\u001b[0m\n\u001b[1;32m---> 11\u001b[1;33m     \u001b[0mmenu\u001b[0m \u001b[1;33m=\u001b[0m \u001b[0mint\u001b[0m\u001b[1;33m(\u001b[0m\u001b[0minput\u001b[0m\u001b[1;33m(\u001b[0m\u001b[1;34m\"메뉴를 선택하시오: \"\u001b[0m\u001b[1;33m)\u001b[0m\u001b[1;33m)\u001b[0m\u001b[1;33m\u001b[0m\u001b[1;33m\u001b[0m\u001b[0m\n\u001b[0m\u001b[0;32m     12\u001b[0m     \u001b[1;32mif\u001b[0m \u001b[0mmenu\u001b[0m \u001b[1;33m==\u001b[0m \u001b[1;36m1\u001b[0m\u001b[1;33m:\u001b[0m\u001b[1;33m\u001b[0m\u001b[1;33m\u001b[0m\u001b[0m\n\u001b[0;32m     13\u001b[0m         \u001b[0mprint\u001b[0m\u001b[1;33m(\u001b[0m\u001b[0mfriends\u001b[0m\u001b[1;33m)\u001b[0m\u001b[1;33m\u001b[0m\u001b[1;33m\u001b[0m\u001b[0m\n",
      "\u001b[1;32m~\\anaconda3\\lib\\site-packages\\ipykernel\\kernelbase.py\u001b[0m in \u001b[0;36mraw_input\u001b[1;34m(self, prompt)\u001b[0m\n\u001b[0;32m    858\u001b[0m                 \u001b[1;34m\"raw_input was called, but this frontend does not support input requests.\"\u001b[0m\u001b[1;33m\u001b[0m\u001b[1;33m\u001b[0m\u001b[0m\n\u001b[0;32m    859\u001b[0m             )\n\u001b[1;32m--> 860\u001b[1;33m         return self._input_request(str(prompt),\n\u001b[0m\u001b[0;32m    861\u001b[0m             \u001b[0mself\u001b[0m\u001b[1;33m.\u001b[0m\u001b[0m_parent_ident\u001b[0m\u001b[1;33m,\u001b[0m\u001b[1;33m\u001b[0m\u001b[1;33m\u001b[0m\u001b[0m\n\u001b[0;32m    862\u001b[0m             \u001b[0mself\u001b[0m\u001b[1;33m.\u001b[0m\u001b[0m_parent_header\u001b[0m\u001b[1;33m,\u001b[0m\u001b[1;33m\u001b[0m\u001b[1;33m\u001b[0m\u001b[0m\n",
      "\u001b[1;32m~\\anaconda3\\lib\\site-packages\\ipykernel\\kernelbase.py\u001b[0m in \u001b[0;36m_input_request\u001b[1;34m(self, prompt, ident, parent, password)\u001b[0m\n\u001b[0;32m    902\u001b[0m             \u001b[1;32mexcept\u001b[0m \u001b[0mKeyboardInterrupt\u001b[0m\u001b[1;33m:\u001b[0m\u001b[1;33m\u001b[0m\u001b[1;33m\u001b[0m\u001b[0m\n\u001b[0;32m    903\u001b[0m                 \u001b[1;31m# re-raise KeyboardInterrupt, to truncate traceback\u001b[0m\u001b[1;33m\u001b[0m\u001b[1;33m\u001b[0m\u001b[1;33m\u001b[0m\u001b[0m\n\u001b[1;32m--> 904\u001b[1;33m                 \u001b[1;32mraise\u001b[0m \u001b[0mKeyboardInterrupt\u001b[0m\u001b[1;33m(\u001b[0m\u001b[1;34m\"Interrupted by user\"\u001b[0m\u001b[1;33m)\u001b[0m \u001b[1;32mfrom\u001b[0m \u001b[1;32mNone\u001b[0m\u001b[1;33m\u001b[0m\u001b[1;33m\u001b[0m\u001b[0m\n\u001b[0m\u001b[0;32m    905\u001b[0m             \u001b[1;32mexcept\u001b[0m \u001b[0mException\u001b[0m \u001b[1;32mas\u001b[0m \u001b[0me\u001b[0m\u001b[1;33m:\u001b[0m\u001b[1;33m\u001b[0m\u001b[1;33m\u001b[0m\u001b[0m\n\u001b[0;32m    906\u001b[0m                 \u001b[0mself\u001b[0m\u001b[1;33m.\u001b[0m\u001b[0mlog\u001b[0m\u001b[1;33m.\u001b[0m\u001b[0mwarning\u001b[0m\u001b[1;33m(\u001b[0m\u001b[1;34m\"Invalid Message:\"\u001b[0m\u001b[1;33m,\u001b[0m \u001b[0mexc_info\u001b[0m\u001b[1;33m=\u001b[0m\u001b[1;32mTrue\u001b[0m\u001b[1;33m)\u001b[0m\u001b[1;33m\u001b[0m\u001b[1;33m\u001b[0m\u001b[0m\n",
      "\u001b[1;31mKeyboardInterrupt\u001b[0m: Interrupted by user"
     ]
    }
   ],
   "source": [
    "menu = 0\n",
    "friends = [] #리스트 생성\n",
    "\n",
    "while menu != 9:\n",
    "    print(\"---------------\")\n",
    "    print(\"1. 친구 리스트 출력\")\n",
    "    print(\"2. 친구 추가\")\n",
    "    print(\"3. 친구 삭제\")\n",
    "    print(\"4. 이름 변경\")\n",
    "    print(\"9. 종료\")\n",
    "    menu = int(input(\"메뉴를 선택하시오: \"))\n",
    "    if menu == 1:\n",
    "        print(friends)\n",
    "    elif menu == 2:\n",
    "        name = input(\"이름을 입력하시오: \")\n",
    "        friends.append(name)\n",
    "    elif menu == 3:\n",
    "        del_name = input(\"삭제할 이름을 입력하시오: \")\n",
    "        if del_name in friends:\n",
    "            friends.remove(del_name)\n",
    "        else:\n",
    "            pinrt(\"해당되는 이름이 없습니다.\")\n",
    "    elif menu == 4:\n",
    "        old_name = input(\"변경하고 싶은 이름을 입력하시오: \")\n",
    "        if old_name in friends:\n",
    "            index = friends.index(old_name)\n",
    "            new_name = input(\"새로운 이름을 입력하시오: \")\n",
    "            friends[index] = new_name\n",
    "        else:\n",
    "            print(\"해당되는 이름이 없습니다.\")"
   ]
  },
  {
   "cell_type": "markdown",
   "metadata": {},
   "source": [
    "### 튜플(tuple)\n",
    "- 값을 변경할 수 없는 리스트\n",
    "\n",
    "```\n",
    "튜플 = (항목1, 항목2, ..., 항목n)\n",
    "```"
   ]
  },
  {
   "cell_type": "code",
   "execution_count": 9,
   "metadata": {},
   "outputs": [
    {
     "name": "stdout",
     "output_type": "stream",
     "text": [
      "(1, 2, 3, 4, 5, 'red', 'pink', 'blue', 'purple')\n"
     ]
    }
   ],
   "source": [
    "numbers = (1,2,3,4,5)\n",
    "colors = (\"red\", \"pink\", \"blue\", \"purple\")\n",
    "t = numbers + colors\n",
    "print(t)"
   ]
  },
  {
   "cell_type": "markdown",
   "metadata": {},
   "source": [
    "### 딕셔너리\n",
    "- 키(key)와 값(value) 쌍을 저장할 수 있는 객체\n",
    "```\n",
    "딕셔너리 = {키1:값1, 키2:값2, 키3:값3}\n",
    "```"
   ]
  },
  {
   "cell_type": "code",
   "execution_count": 11,
   "metadata": {},
   "outputs": [
    {
     "name": "stdout",
     "output_type": "stream",
     "text": [
      "{'Kim': '0102345678', 'Choi': '01067891234', 'Hwang': '01013467946'}\n"
     ]
    }
   ],
   "source": [
    "contacts = {'Kim':'0102345678', 'Choi':'01067891234', 'Hwang':'01013467946'}\n",
    "print(contacts)"
   ]
  },
  {
   "cell_type": "code",
   "execution_count": 12,
   "metadata": {},
   "outputs": [
    {
     "data": {
      "text/plain": [
       "'0102345678'"
      ]
     },
     "execution_count": 12,
     "metadata": {},
     "output_type": "execute_result"
    }
   ],
   "source": [
    "contacts['Kim']"
   ]
  },
  {
   "cell_type": "code",
   "execution_count": 13,
   "metadata": {},
   "outputs": [
    {
     "name": "stdout",
     "output_type": "stream",
     "text": [
      "키가 딕셔너리에 있음\n"
     ]
    }
   ],
   "source": [
    "if 'Kim' in contacts:\n",
    "    print(\"키가 딕셔너리에 있음\")"
   ]
  },
  {
   "cell_type": "code",
   "execution_count": 14,
   "metadata": {},
   "outputs": [
    {
     "name": "stdout",
     "output_type": "stream",
     "text": [
      "('Kim', '0102345678')\n",
      "('Choi', '01067891234')\n",
      "('Hwang', '01013467946')\n"
     ]
    }
   ],
   "source": [
    "contacts = {'Kim':'0102345678', 'Choi':'01067891234', 'Hwang':'01013467946'}\n",
    "for item in contacts.items():\n",
    "    print(item)"
   ]
  },
  {
   "cell_type": "markdown",
   "metadata": {},
   "source": [
    "### 문자열\n",
    "- 문자열은 문자들의 시퀀스로 정의\n",
    "- 글자들이 실(string)로 묶인 것"
   ]
  },
  {
   "cell_type": "code",
   "execution_count": 15,
   "metadata": {},
   "outputs": [
    {
     "name": "stdout",
     "output_type": "stream",
     "text": [
      "NaeunSeonho\n"
     ]
    }
   ],
   "source": [
    "s1 = str(\"Naeun\")\n",
    "s2 = \"Seonho\"\n",
    "\n",
    "s3 = s1 + s2\n",
    "print(s3)"
   ]
  },
  {
   "cell_type": "code",
   "execution_count": 17,
   "metadata": {},
   "outputs": [
    {
     "name": "stdout",
     "output_type": "stream",
     "text": [
      "a\n",
      "f\n",
      "ab\n"
     ]
    }
   ],
   "source": [
    "word = 'abcdef'\n",
    "print(word[0])\n",
    "print(word[5])\n",
    "\n",
    "## 슬라이싱\n",
    "word1 = 'Python'\n",
    "print(word[0:2]) #인덱스 2보다 작을 때까지 → 0, 1"
   ]
  },
  {
   "cell_type": "markdown",
   "metadata": {},
   "source": [
    "### in 연산자 not in 연산자"
   ]
  },
  {
   "cell_type": "code",
   "execution_count": 18,
   "metadata": {},
   "outputs": [
    {
     "data": {
      "text/plain": [
       "True"
      ]
     },
     "execution_count": 18,
     "metadata": {},
     "output_type": "execute_result"
    }
   ],
   "source": [
    "s = 'Love will find a way.'\n",
    "'Love' in s"
   ]
  },
  {
   "cell_type": "code",
   "execution_count": 19,
   "metadata": {},
   "outputs": [
    {
     "data": {
      "text/plain": [
       "True"
      ]
     },
     "execution_count": 19,
     "metadata": {},
     "output_type": "execute_result"
    }
   ],
   "source": [
    "'wi' in s"
   ]
  },
  {
   "cell_type": "code",
   "execution_count": 20,
   "metadata": {},
   "outputs": [
    {
     "data": {
      "text/plain": [
       "True"
      ]
     },
     "execution_count": 20,
     "metadata": {},
     "output_type": "execute_result"
    }
   ],
   "source": [
    "'e w' in s"
   ]
  },
  {
   "cell_type": "code",
   "execution_count": null,
   "metadata": {},
   "outputs": [],
   "source": []
  }
 ],
 "metadata": {
  "kernelspec": {
   "display_name": "Python 3",
   "language": "python",
   "name": "python3"
  },
  "language_info": {
   "codemirror_mode": {
    "name": "ipython",
    "version": 3
   },
   "file_extension": ".py",
   "mimetype": "text/x-python",
   "name": "python",
   "nbconvert_exporter": "python",
   "pygments_lexer": "ipython3",
   "version": "3.8.3"
  }
 },
 "nbformat": 4,
 "nbformat_minor": 4
}
